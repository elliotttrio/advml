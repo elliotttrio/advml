{
  "nbformat": 4,
  "nbformat_minor": 0,
  "metadata": {
    "colab": {
      "name": "Homework 1",
      "provenance": [],
      "collapsed_sections": [],
      "toc_visible": true
    },
    "kernelspec": {
      "name": "python3",
      "display_name": "Python 3"
    }
  },
  "cells": [
    {
      "cell_type": "markdown",
      "metadata": {
        "id": "JAb466IzqC5C"
      },
      "source": [
        "# Assignment #1: Write up a report on U.N. World Happiness Data.\r\n",
        "\r\n",
        "Elliott Tran | 2/8/2021 | GR5074"
      ]
    },
    {
      "cell_type": "markdown",
      "metadata": {
        "id": "2RqnyyXEprlT"
      },
      "source": [
        "**Explore bivariate results (Use visualizations!)**\r\n",
        "\r\n",
        "**Describe any relationships you see between particular features and the target variable**\r\n",
        "\r\n",
        "Below, I created a correlation matrix as well as a pairwise plot to analyze the relationship between our features of target variable, happiness. Happiness was recoded to to numerical and with ascending category order. Happiness is most correlated with GDP per capita, social support, and healthy life expectancy. It is least correlated with generosity. All features have a positive relationship with happiness overall.\r\n",
        "\r\n"
      ]
    },
    {
      "cell_type": "code",
      "metadata": {
        "colab": {
          "base_uri": "https://localhost:8080/"
        },
        "id": "F8CyRbGVxnQo",
        "outputId": "1c3c382e-a399-43e9-8053-76170e544384"
      },
      "source": [
        "# Colab Setup: \r\n",
        "# note that tabular preprocessors require scikit-learn>=0.24.0\r\n",
        "# Newest Tensorflow 2 has some bugs for onnx conversion\r\n",
        "!pip install scikit-learn --upgrade \r\n",
        "import os\r\n",
        "os.environ['TF_KERAS'] = '1'\r\n",
        "% tensorflow_version 1# Colab Setup: \r\n",
        "# note that tabular preprocessors require scikit-learn>=0.24.0\r\n",
        "# Newest Tensorflow 2 has some bugs for onnx conversion\r\n",
        "!pip install scikit-learn --upgrade \r\n",
        "import os\r\n",
        "os.environ['TF_KERAS'] = '1'\r\n",
        "% tensorflow_version 1"
      ],
      "execution_count": 1,
      "outputs": [
        {
          "output_type": "stream",
          "text": [
            "Requirement already up-to-date: scikit-learn in /usr/local/lib/python3.6/dist-packages (0.24.1)\n",
            "Requirement already satisfied, skipping upgrade: scipy>=0.19.1 in /usr/local/lib/python3.6/dist-packages (from scikit-learn) (1.4.1)\n",
            "Requirement already satisfied, skipping upgrade: joblib>=0.11 in /usr/local/lib/python3.6/dist-packages (from scikit-learn) (1.0.0)\n",
            "Requirement already satisfied, skipping upgrade: threadpoolctl>=2.0.0 in /usr/local/lib/python3.6/dist-packages (from scikit-learn) (2.1.0)\n",
            "Requirement already satisfied, skipping upgrade: numpy>=1.13.3 in /usr/local/lib/python3.6/dist-packages (from scikit-learn) (1.19.5)\n",
            "`%tensorflow_version` only switches the major version: 1.x or 2.x.\n",
            "You set: `1# Colab Setup:`. This will be interpreted as: `1.x`.\n",
            "\n",
            "\n",
            "TensorFlow 1.x selected.\n",
            "Requirement already up-to-date: scikit-learn in /usr/local/lib/python3.6/dist-packages (0.24.1)\n",
            "Requirement already satisfied, skipping upgrade: joblib>=0.11 in /usr/local/lib/python3.6/dist-packages (from scikit-learn) (1.0.0)\n",
            "Requirement already satisfied, skipping upgrade: numpy>=1.13.3 in /usr/local/lib/python3.6/dist-packages (from scikit-learn) (1.19.5)\n",
            "Requirement already satisfied, skipping upgrade: threadpoolctl>=2.0.0 in /usr/local/lib/python3.6/dist-packages (from scikit-learn) (2.1.0)\n",
            "Requirement already satisfied, skipping upgrade: scipy>=0.19.1 in /usr/local/lib/python3.6/dist-packages (from scikit-learn) (1.4.1)\n",
            "`%tensorflow_version` only switches the major version: 1.x or 2.x.\n",
            "You set: `1`. This will be interpreted as: `1.x`.\n",
            "\n",
            "\n",
            "TensorFlow 1.x selected.\n"
          ],
          "name": "stdout"
        }
      ]
    },
    {
      "cell_type": "code",
      "metadata": {
        "id": "sUxVoJTqpzyL"
      },
      "source": [
        "import pandas as pd\r\n",
        "import seaborn as sns"
      ],
      "execution_count": 2,
      "outputs": []
    },
    {
      "cell_type": "code",
      "metadata": {
        "id": "RfTtdrAKrlSM"
      },
      "source": [
        "happiness_df = pd.read_csv(\"worldhappiness2019.csv\")"
      ],
      "execution_count": 3,
      "outputs": []
    },
    {
      "cell_type": "code",
      "metadata": {
        "id": "xLNSTWzzruD7"
      },
      "source": [
        "happiness_df['happiness_cat'] = happiness_df['Happiness_level'].astype(\"category\")\r\n",
        "happiness_df['happiness_cat'] = happiness_df['happiness_cat'].cat.reorder_categories(['Very Low', 'Low', 'Average', 'High', 'Very High'])\r\n",
        "happiness_df['happiness_cat'] = happiness_df['happiness_cat'].cat.codes\r\n"
      ],
      "execution_count": 20,
      "outputs": []
    },
    {
      "cell_type": "code",
      "metadata": {
        "colab": {
          "base_uri": "https://localhost:8080/",
          "height": 356
        },
        "id": "Ca9dmEw92c6g",
        "outputId": "4179f02a-dd38-4e59-f972-35695aa31ab9"
      },
      "source": [
        "happiness_df.head()"
      ],
      "execution_count": 21,
      "outputs": [
        {
          "output_type": "execute_result",
          "data": {
            "text/html": [
              "<div>\n",
              "<style scoped>\n",
              "    .dataframe tbody tr th:only-of-type {\n",
              "        vertical-align: middle;\n",
              "    }\n",
              "\n",
              "    .dataframe tbody tr th {\n",
              "        vertical-align: top;\n",
              "    }\n",
              "\n",
              "    .dataframe thead th {\n",
              "        text-align: right;\n",
              "    }\n",
              "</style>\n",
              "<table border=\"1\" class=\"dataframe\">\n",
              "  <thead>\n",
              "    <tr style=\"text-align: right;\">\n",
              "      <th></th>\n",
              "      <th>Happiness_level</th>\n",
              "      <th>Country or region</th>\n",
              "      <th>GDP per capita</th>\n",
              "      <th>Social support</th>\n",
              "      <th>Healthy life expectancy</th>\n",
              "      <th>Freedom to make life choices</th>\n",
              "      <th>Generosity</th>\n",
              "      <th>Perceptions of corruption</th>\n",
              "      <th>name</th>\n",
              "      <th>region</th>\n",
              "      <th>sub-region</th>\n",
              "      <th>happiness_cat</th>\n",
              "    </tr>\n",
              "  </thead>\n",
              "  <tbody>\n",
              "    <tr>\n",
              "      <th>0</th>\n",
              "      <td>Very High</td>\n",
              "      <td>Finland</td>\n",
              "      <td>1.340</td>\n",
              "      <td>1.587</td>\n",
              "      <td>0.986</td>\n",
              "      <td>0.596</td>\n",
              "      <td>0.153</td>\n",
              "      <td>0.393</td>\n",
              "      <td>Finland</td>\n",
              "      <td>Europe</td>\n",
              "      <td>Northern Europe</td>\n",
              "      <td>4</td>\n",
              "    </tr>\n",
              "    <tr>\n",
              "      <th>1</th>\n",
              "      <td>Very High</td>\n",
              "      <td>Denmark</td>\n",
              "      <td>1.383</td>\n",
              "      <td>1.573</td>\n",
              "      <td>0.996</td>\n",
              "      <td>0.592</td>\n",
              "      <td>0.252</td>\n",
              "      <td>0.410</td>\n",
              "      <td>Denmark</td>\n",
              "      <td>Europe</td>\n",
              "      <td>Northern Europe</td>\n",
              "      <td>4</td>\n",
              "    </tr>\n",
              "    <tr>\n",
              "      <th>2</th>\n",
              "      <td>Very High</td>\n",
              "      <td>Norway</td>\n",
              "      <td>1.488</td>\n",
              "      <td>1.582</td>\n",
              "      <td>1.028</td>\n",
              "      <td>0.603</td>\n",
              "      <td>0.271</td>\n",
              "      <td>0.341</td>\n",
              "      <td>Norway</td>\n",
              "      <td>Europe</td>\n",
              "      <td>Northern Europe</td>\n",
              "      <td>4</td>\n",
              "    </tr>\n",
              "    <tr>\n",
              "      <th>3</th>\n",
              "      <td>Very High</td>\n",
              "      <td>Iceland</td>\n",
              "      <td>1.380</td>\n",
              "      <td>1.624</td>\n",
              "      <td>1.026</td>\n",
              "      <td>0.591</td>\n",
              "      <td>0.354</td>\n",
              "      <td>0.118</td>\n",
              "      <td>Iceland</td>\n",
              "      <td>Europe</td>\n",
              "      <td>Northern Europe</td>\n",
              "      <td>4</td>\n",
              "    </tr>\n",
              "    <tr>\n",
              "      <th>4</th>\n",
              "      <td>Very High</td>\n",
              "      <td>Netherlands</td>\n",
              "      <td>1.396</td>\n",
              "      <td>1.522</td>\n",
              "      <td>0.999</td>\n",
              "      <td>0.557</td>\n",
              "      <td>0.322</td>\n",
              "      <td>0.298</td>\n",
              "      <td>Netherlands</td>\n",
              "      <td>Europe</td>\n",
              "      <td>Western Europe</td>\n",
              "      <td>4</td>\n",
              "    </tr>\n",
              "  </tbody>\n",
              "</table>\n",
              "</div>"
            ],
            "text/plain": [
              "  Happiness_level Country or region  ...       sub-region  happiness_cat\n",
              "0       Very High           Finland  ...  Northern Europe              4\n",
              "1       Very High           Denmark  ...  Northern Europe              4\n",
              "2       Very High            Norway  ...  Northern Europe              4\n",
              "3       Very High           Iceland  ...  Northern Europe              4\n",
              "4       Very High       Netherlands  ...   Western Europe              4\n",
              "\n",
              "[5 rows x 12 columns]"
            ]
          },
          "metadata": {
            "tags": []
          },
          "execution_count": 21
        }
      ]
    },
    {
      "cell_type": "code",
      "metadata": {
        "colab": {
          "base_uri": "https://localhost:8080/",
          "height": 329
        },
        "id": "T7hCFytr1rCC",
        "outputId": "8aa3dd17-9d59-4d78-c3cc-4147a199f3db"
      },
      "source": [
        "happiness_df.corr()"
      ],
      "execution_count": 23,
      "outputs": [
        {
          "output_type": "execute_result",
          "data": {
            "text/html": [
              "<div>\n",
              "<style scoped>\n",
              "    .dataframe tbody tr th:only-of-type {\n",
              "        vertical-align: middle;\n",
              "    }\n",
              "\n",
              "    .dataframe tbody tr th {\n",
              "        vertical-align: top;\n",
              "    }\n",
              "\n",
              "    .dataframe thead th {\n",
              "        text-align: right;\n",
              "    }\n",
              "</style>\n",
              "<table border=\"1\" class=\"dataframe\">\n",
              "  <thead>\n",
              "    <tr style=\"text-align: right;\">\n",
              "      <th></th>\n",
              "      <th>GDP per capita</th>\n",
              "      <th>Social support</th>\n",
              "      <th>Healthy life expectancy</th>\n",
              "      <th>Freedom to make life choices</th>\n",
              "      <th>Generosity</th>\n",
              "      <th>Perceptions of corruption</th>\n",
              "      <th>happiness_cat</th>\n",
              "    </tr>\n",
              "  </thead>\n",
              "  <tbody>\n",
              "    <tr>\n",
              "      <th>GDP per capita</th>\n",
              "      <td>1.000000</td>\n",
              "      <td>0.754906</td>\n",
              "      <td>0.835462</td>\n",
              "      <td>0.379079</td>\n",
              "      <td>-0.079662</td>\n",
              "      <td>0.298920</td>\n",
              "      <td>0.789635</td>\n",
              "    </tr>\n",
              "    <tr>\n",
              "      <th>Social support</th>\n",
              "      <td>0.754906</td>\n",
              "      <td>1.000000</td>\n",
              "      <td>0.719009</td>\n",
              "      <td>0.447333</td>\n",
              "      <td>-0.048126</td>\n",
              "      <td>0.181899</td>\n",
              "      <td>0.738577</td>\n",
              "    </tr>\n",
              "    <tr>\n",
              "      <th>Healthy life expectancy</th>\n",
              "      <td>0.835462</td>\n",
              "      <td>0.719009</td>\n",
              "      <td>1.000000</td>\n",
              "      <td>0.390395</td>\n",
              "      <td>-0.029511</td>\n",
              "      <td>0.295283</td>\n",
              "      <td>0.786932</td>\n",
              "    </tr>\n",
              "    <tr>\n",
              "      <th>Freedom to make life choices</th>\n",
              "      <td>0.379079</td>\n",
              "      <td>0.447333</td>\n",
              "      <td>0.390395</td>\n",
              "      <td>1.000000</td>\n",
              "      <td>0.269742</td>\n",
              "      <td>0.438843</td>\n",
              "      <td>0.525097</td>\n",
              "    </tr>\n",
              "    <tr>\n",
              "      <th>Generosity</th>\n",
              "      <td>-0.079662</td>\n",
              "      <td>-0.048126</td>\n",
              "      <td>-0.029511</td>\n",
              "      <td>0.269742</td>\n",
              "      <td>1.000000</td>\n",
              "      <td>0.326538</td>\n",
              "      <td>0.028123</td>\n",
              "    </tr>\n",
              "    <tr>\n",
              "      <th>Perceptions of corruption</th>\n",
              "      <td>0.298920</td>\n",
              "      <td>0.181899</td>\n",
              "      <td>0.295283</td>\n",
              "      <td>0.438843</td>\n",
              "      <td>0.326538</td>\n",
              "      <td>1.000000</td>\n",
              "      <td>0.323730</td>\n",
              "    </tr>\n",
              "    <tr>\n",
              "      <th>happiness_cat</th>\n",
              "      <td>0.789635</td>\n",
              "      <td>0.738577</td>\n",
              "      <td>0.786932</td>\n",
              "      <td>0.525097</td>\n",
              "      <td>0.028123</td>\n",
              "      <td>0.323730</td>\n",
              "      <td>1.000000</td>\n",
              "    </tr>\n",
              "  </tbody>\n",
              "</table>\n",
              "</div>"
            ],
            "text/plain": [
              "                              GDP per capita  ...  happiness_cat\n",
              "GDP per capita                      1.000000  ...       0.789635\n",
              "Social support                      0.754906  ...       0.738577\n",
              "Healthy life expectancy             0.835462  ...       0.786932\n",
              "Freedom to make life choices        0.379079  ...       0.525097\n",
              "Generosity                         -0.079662  ...       0.028123\n",
              "Perceptions of corruption           0.298920  ...       0.323730\n",
              "happiness_cat                       0.789635  ...       1.000000\n",
              "\n",
              "[7 rows x 7 columns]"
            ]
          },
          "metadata": {
            "tags": []
          },
          "execution_count": 23
        }
      ]
    },
    {
      "cell_type": "code",
      "metadata": {
        "colab": {
          "base_uri": "https://localhost:8080/"
        },
        "id": "7oUlkY4q_Ujr",
        "outputId": "30d3c860-25ea-47da-f7ae-bec8fe72764a"
      },
      "source": [
        "happiness_df.dtypes"
      ],
      "execution_count": 24,
      "outputs": [
        {
          "output_type": "execute_result",
          "data": {
            "text/plain": [
              "Happiness_level                  object\n",
              "Country or region                object\n",
              "GDP per capita                  float64\n",
              "Social support                  float64\n",
              "Healthy life expectancy         float64\n",
              "Freedom to make life choices    float64\n",
              "Generosity                      float64\n",
              "Perceptions of corruption       float64\n",
              "name                             object\n",
              "region                           object\n",
              "sub-region                       object\n",
              "happiness_cat                      int8\n",
              "dtype: object"
            ]
          },
          "metadata": {
            "tags": []
          },
          "execution_count": 24
        }
      ]
    },
    {
      "cell_type": "code",
      "metadata": {
        "colab": {
          "base_uri": "https://localhost:8080/",
          "height": 1000
        },
        "id": "bmyIAi_ir1iD",
        "outputId": "a028f4f7-d508-4346-ab0c-c33aaa1ceb08"
      },
      "source": [
        "sns.pairplot(happiness_df, height = 2)"
      ],
      "execution_count": 25,
      "outputs": [
        {
          "output_type": "execute_result",
          "data": {
            "text/plain": [
              "<seaborn.axisgrid.PairGrid at 0x7faa2e564198>"
            ]
          },
          "metadata": {
            "tags": []
          },
          "execution_count": 25
        },
        {
          "output_type": "display_data",
          "data": {
            "image/png": "[encoded data removed]",
            "text/plain": [
              "<Figure size 1008x1008 with 56 Axes>"
            ]
          },
          "metadata": {
            "tags": [],
            "needs_background": "light"
          }
        }
      ]
    },
    {
      "cell_type": "markdown",
      "metadata": {
        "id": "I8SVnIc8p0i7"
      },
      "source": [
        "**Examine features that predict happiness categories using one or more models that allow for automatic feature selection. Explain any meaningful findings.**\r\n",
        "\r\n",
        "I decided to look into automatic feature selection through SelectKBest using the ANOVA f-value test and through doing a basic decision tree classifier model to see what variables are considered most important. In both models, healthy life expectation and GDP per capita were seen as the most important to understanding happiness. The anova test ranks generosity very low while the decision tree classifier puts it at similar level to perception of corruption and social support."
      ]
    },
    {
      "cell_type": "code",
      "metadata": {
        "id": "nBYzhchX9hvL"
      },
      "source": [
        "from sklearn.model_selection import KFold, train_test_split, GridSearchCV, cross_val_score, cross_val_predict\r\n",
        "from sklearn.preprocessing import LabelEncoder, StandardScaler, MinMaxScaler, OneHotEncoder\r\n",
        "from sklearn.feature_extraction.text import TfidfVectorizer\r\n",
        "from sklearn.ensemble import RandomForestClassifier\r\n",
        "from sklearn.pipeline import Pipeline\r\n",
        "from sklearn.feature_selection import SelectKBest, chi2, f_classif\r\n",
        "from sklearn.impute import SimpleImputer\r\n",
        "from sklearn.compose import ColumnTransformer, make_column_transformer"
      ],
      "execution_count": 26,
      "outputs": []
    },
    {
      "cell_type": "code",
      "metadata": {
        "id": "kwN0MJ5K9-6i"
      },
      "source": [
        "Y = happiness_df['Happiness_level'].astype(\"category\")\r\n",
        "X = happiness_df.drop(['Happiness_level', 'name', 'Country or region', 'region', 'happiness_cat'], axis=1)\r\n",
        "X_nums = happiness_df.drop(['Happiness_level', 'name', 'Country or region', 'region', 'sub-region', 'happiness_cat'], axis=1)"
      ],
      "execution_count": 36,
      "outputs": []
    },
    {
      "cell_type": "code",
      "metadata": {
        "id": "25TUk3ff-eHy"
      },
      "source": [
        "X_train, X_test, y_train, y_test = train_test_split(X, Y, test_size = .33)"
      ],
      "execution_count": 37,
      "outputs": []
    },
    {
      "cell_type": "code",
      "metadata": {
        "id": "EX-Ysq86Lq4W"
      },
      "source": [
        "numeric_features=X.columns.tolist()\r\n",
        "numeric_features.remove('sub-region')\r\n",
        "\r\n",
        "numeric_transformer = Pipeline(steps=[\r\n",
        "    ('imputer', SimpleImputer(strategy='mean')),\r\n",
        "    ('scaler', StandardScaler())])\r\n",
        "\r\n",
        "categorical_features = ['sub-region']\r\n",
        "\r\n",
        "categorical_transformer = Pipeline(steps=[\r\n",
        "    ('imputer', SimpleImputer(strategy='most_frequent')),\r\n",
        "    ('onehot', OneHotEncoder(handle_unknown='ignore'))])\r\n",
        "\r\n",
        "preprocessor = ColumnTransformer(\r\n",
        "    transformers=[\r\n",
        "        ('num', numeric_transformer, numeric_features),\r\n",
        "        ('cat', categorical_transformer, categorical_features)])\r\n",
        "\r\n",
        "preprocess = preprocessor.fit(X_train) "
      ],
      "execution_count": 73,
      "outputs": []
    },
    {
      "cell_type": "code",
      "metadata": {
        "id": "z5vAjywZNTvN"
      },
      "source": [
        "def preprocessor(data):\r\n",
        "    preprocessed_data=preprocess.transform(data)\r\n",
        "    return preprocessed_data"
      ],
      "execution_count": 39,
      "outputs": []
    },
    {
      "cell_type": "code",
      "metadata": {
        "id": "_voBT2whNVPK"
      },
      "source": [
        "processed_data = preprocessor(X_train)"
      ],
      "execution_count": 40,
      "outputs": []
    },
    {
      "cell_type": "code",
      "metadata": {
        "colab": {
          "base_uri": "https://localhost:8080/"
        },
        "id": "3YQOgxNEOKLd",
        "outputId": "036974f9-238f-4910-a22b-203f560c904d"
      },
      "source": [
        "processed_data.shape"
      ],
      "execution_count": 41,
      "outputs": [
        {
          "output_type": "execute_result",
          "data": {
            "text/plain": [
              "(104, 20)"
            ]
          },
          "metadata": {
            "tags": []
          },
          "execution_count": 41
        }
      ]
    },
    {
      "cell_type": "code",
      "metadata": {
        "id": "jgVJB9-UKoWc"
      },
      "source": [
        "X_new = SelectKBest(f_classif, k=5).fit(X_nums, Y)"
      ],
      "execution_count": 78,
      "outputs": []
    },
    {
      "cell_type": "code",
      "metadata": {
        "id": "qTArdYtj8TH7"
      },
      "source": [
        "predictors = X_nums.columns.tolist()"
      ],
      "execution_count": 80,
      "outputs": []
    },
    {
      "cell_type": "code",
      "metadata": {
        "colab": {
          "base_uri": "https://localhost:8080/",
          "height": 401
        },
        "id": "UGvQz7MI7PZJ",
        "outputId": "9c3ef83b-7be9-47a2-88d0-de2dd83cdb24"
      },
      "source": [
        "scores = -np.log10(X_new.pvalues_)\r\n",
        "\r\n",
        "# Plot the scores.  See how \"Pclass\", \"Sex\", \"Title\", and \"Fare\" are the best?\r\n",
        "plt.bar(range(len(predictors)), scores)\r\n",
        "plt.xticks(range(len(predictors)), predictors, rotation='vertical')\r\n",
        "plt.show()"
      ],
      "execution_count": 82,
      "outputs": [
        {
          "output_type": "display_data",
          "data": {
            "image/png": "[encoded data removed]",
            "text/plain": [
              "<Figure size 432x288 with 1 Axes>"
            ]
          },
          "metadata": {
            "tags": [],
            "needs_background": "light"
          }
        }
      ]
    },
    {
      "cell_type": "code",
      "metadata": {
        "id": "w1exEPN_ipH-"
      },
      "source": [
        "X_train2, X_test2, y_train2, y_test2 = train_test_split(X_nums, Y, test_size = .33)"
      ],
      "execution_count": 43,
      "outputs": []
    },
    {
      "cell_type": "code",
      "metadata": {
        "colab": {
          "base_uri": "https://localhost:8080/",
          "height": 527
        },
        "id": "aq0R2gdF-kBy",
        "outputId": "48b5b3f1-2767-4899-fa29-e6e24df37400"
      },
      "source": [
        "from sklearn.tree import DecisionTreeClassifier\r\n",
        "\r\n",
        "clf = DecisionTreeClassifier()\r\n",
        "clf.fit(X_train2, y_train2)\r\n",
        "\r\n",
        "pd.Series(clf.feature_importances_, index=X_train2.columns).plot.bar(color='steelblue', figsize=(12, 6))"
      ],
      "execution_count": 44,
      "outputs": [
        {
          "output_type": "execute_result",
          "data": {
            "text/plain": [
              "<matplotlib.axes._subplots.AxesSubplot at 0x7faa25402320>"
            ]
          },
          "metadata": {
            "tags": []
          },
          "execution_count": 44
        },
        {
          "output_type": "display_data",
          "data": {
            "image/png": "[encoded data removed]",
            "text/plain": [
              "<Figure size 864x432 with 1 Axes>"
            ]
          },
          "metadata": {
            "tags": [],
            "needs_background": "light"
          }
        }
      ]
    },
    {
      "cell_type": "markdown",
      "metadata": {
        "id": "anjGY04_p3ND"
      },
      "source": [
        "**Run at least three prediction models to try to predict World Happiness well.\r\n",
        "Discuss which models performed better and point out relevant hyper-parameter values for successful models.\r\n",
        "Submit your best model to the leader board for the World Happiness AI Model Share competition.\r\n",
        "You have the option to present and/or discuss these models in your report, but it is not required.**\r\n",
        "\r\n",
        "I tried three different models: a sequential neural network, SVC and the Random Forest Classifier. I tested out multiple hyperparameters but found the sequential neural network to be the best of the three. With the neural network, I found the 'sgd' optimizer to be the best in comparison to 'adam'  and 'Adagrad.' Furthermore, I found the model to work best when the number of nodes in the first layer is equal to the whole dataset. This let's the neural network have access to all the data at the start for analysis. It came out to be around 85% accurate.\r\n",
        "\r\n",
        "Looking at the confusion matrix, I see that the model does best in predicting 'high' happiness and worse at 'very low' happiness. "
      ]
    },
    {
      "cell_type": "code",
      "metadata": {
        "colab": {
          "base_uri": "https://localhost:8080/"
        },
        "id": "9aS1IuDRhQ2i",
        "outputId": "ec392418-6738-4821-fc10-18d637ea8254"
      },
      "source": [
        "from keras.models import Sequential\r\n",
        "from keras.layers import Dense, Activation, Dropout\r\n",
        "import keras\r\n",
        "from keras.optimizers import SGD"
      ],
      "execution_count": 45,
      "outputs": [
        {
          "output_type": "stream",
          "text": [
            "Using TensorFlow backend.\n"
          ],
          "name": "stderr"
        }
      ]
    },
    {
      "cell_type": "code",
      "metadata": {
        "id": "TnlL9oO0Abkb",
        "colab": {
          "base_uri": "https://localhost:8080/"
        },
        "outputId": "73c643d5-14d6-4656-c592-71d7eedb69a6"
      },
      "source": [
        "model = Sequential()\r\n",
        "model.add(Dense(104, input_dim=20, activation='relu'))\r\n",
        "model.add(Dense(64, activation='relu'))\r\n",
        "model.add(Dense(64, activation='relu'))\r\n",
        "model.add(Dense(5, activation='softmax')) \r\n",
        "                                            \r\n",
        "model.compile(loss='categorical_crossentropy', optimizer='sgd', metrics=['accuracy'])\r\n",
        "\r\n",
        "model.fit(preprocessor(X_train), pd.get_dummies(y_train), \r\n",
        "               batch_size = 25, \r\n",
        "               epochs = 500, validation_split=0.35)  \r\n"
      ],
      "execution_count": 46,
      "outputs": [
        {
          "output_type": "stream",
          "text": [
            "WARNING:tensorflow:From /tensorflow-1.15.2/python3.6/tensorflow_core/python/ops/resource_variable_ops.py:1630: calling BaseResourceVariable.__init__ (from tensorflow.python.ops.resource_variable_ops) with constraint is deprecated and will be removed in a future version.\n",
            "Instructions for updating:\n",
            "If using Keras pass *_constraint arguments to layers.\n",
            "WARNING:tensorflow:From /tensorflow-1.15.2/python3.6/keras/backend/tensorflow_backend.py:422: The name tf.global_variables is deprecated. Please use tf.compat.v1.global_variables instead.\n",
            "\n",
            "Train on 67 samples, validate on 37 samples\n",
            "Epoch 1/500\n",
            "67/67 [==============================] - 0s 2ms/step - loss: 1.5731 - accuracy: 0.2836 - val_loss: 1.5567 - val_accuracy: 0.2973\n",
            "Epoch 2/500\n",
            "67/67 [==============================] - 0s 182us/step - loss: 1.5661 - accuracy: 0.2985 - val_loss: 1.5520 - val_accuracy: 0.2973\n",
            "Epoch 3/500\n",
            "67/67 [==============================] - 0s 206us/step - loss: 1.5591 - accuracy: 0.2985 - val_loss: 1.5474 - val_accuracy: 0.2973\n",
            "Epoch 4/500\n",
            "67/67 [==============================] - 0s 203us/step - loss: 1.5520 - accuracy: 0.2836 - val_loss: 1.5427 - val_accuracy: 0.2973\n",
            "Epoch 5/500\n",
            "67/67 [==============================] - 0s 203us/step - loss: 1.5451 - accuracy: 0.2836 - val_loss: 1.5381 - val_accuracy: 0.3243\n",
            "Epoch 6/500\n",
            "67/67 [==============================] - 0s 246us/step - loss: 1.5386 - accuracy: 0.2985 - val_loss: 1.5335 - val_accuracy: 0.3243\n",
            "Epoch 7/500\n",
            "67/67 [==============================] - 0s 213us/step - loss: 1.5317 - accuracy: 0.3134 - val_loss: 1.5290 - val_accuracy: 0.3514\n",
            "Epoch 8/500\n",
            "67/67 [==============================] - 0s 311us/step - loss: 1.5262 - accuracy: 0.3134 - val_loss: 1.5247 - val_accuracy: 0.3514\n",
            "Epoch 9/500\n",
            "67/67 [==============================] - 0s 221us/step - loss: 1.5187 - accuracy: 0.3433 - val_loss: 1.5197 - val_accuracy: 0.3514\n",
            "Epoch 10/500\n",
            "67/67 [==============================] - 0s 210us/step - loss: 1.5125 - accuracy: 0.3731 - val_loss: 1.5148 - val_accuracy: 0.3514\n",
            "Epoch 11/500\n",
            "67/67 [==============================] - 0s 208us/step - loss: 1.5058 - accuracy: 0.3731 - val_loss: 1.5101 - val_accuracy: 0.3514\n",
            "Epoch 12/500\n",
            "67/67 [==============================] - 0s 220us/step - loss: 1.4990 - accuracy: 0.3731 - val_loss: 1.5058 - val_accuracy: 0.3514\n",
            "Epoch 13/500\n",
            "67/67 [==============================] - 0s 215us/step - loss: 1.4929 - accuracy: 0.3731 - val_loss: 1.5014 - val_accuracy: 0.3514\n",
            "Epoch 14/500\n",
            "67/67 [==============================] - 0s 222us/step - loss: 1.4868 - accuracy: 0.4179 - val_loss: 1.4965 - val_accuracy: 0.3514\n",
            "Epoch 15/500\n",
            "67/67 [==============================] - 0s 212us/step - loss: 1.4804 - accuracy: 0.4328 - val_loss: 1.4922 - val_accuracy: 0.3784\n",
            "Epoch 16/500\n",
            "67/67 [==============================] - 0s 232us/step - loss: 1.4742 - accuracy: 0.4328 - val_loss: 1.4874 - val_accuracy: 0.3784\n",
            "Epoch 17/500\n",
            "67/67 [==============================] - 0s 167us/step - loss: 1.4673 - accuracy: 0.4478 - val_loss: 1.4829 - val_accuracy: 0.4054\n",
            "Epoch 18/500\n",
            "67/67 [==============================] - 0s 195us/step - loss: 1.4602 - accuracy: 0.4478 - val_loss: 1.4785 - val_accuracy: 0.4054\n",
            "Epoch 19/500\n",
            "67/67 [==============================] - 0s 243us/step - loss: 1.4539 - accuracy: 0.4478 - val_loss: 1.4739 - val_accuracy: 0.3784\n",
            "Epoch 20/500\n",
            "67/67 [==============================] - 0s 268us/step - loss: 1.4472 - accuracy: 0.4627 - val_loss: 1.4693 - val_accuracy: 0.3784\n",
            "Epoch 21/500\n",
            "67/67 [==============================] - 0s 235us/step - loss: 1.4405 - accuracy: 0.4627 - val_loss: 1.4646 - val_accuracy: 0.3514\n",
            "Epoch 22/500\n",
            "67/67 [==============================] - 0s 246us/step - loss: 1.4339 - accuracy: 0.4925 - val_loss: 1.4600 - val_accuracy: 0.3514\n",
            "Epoch 23/500\n",
            "67/67 [==============================] - 0s 233us/step - loss: 1.4275 - accuracy: 0.4925 - val_loss: 1.4553 - val_accuracy: 0.3784\n",
            "Epoch 24/500\n",
            "67/67 [==============================] - 0s 248us/step - loss: 1.4212 - accuracy: 0.4925 - val_loss: 1.4506 - val_accuracy: 0.4054\n",
            "Epoch 25/500\n",
            "67/67 [==============================] - 0s 285us/step - loss: 1.4144 - accuracy: 0.5075 - val_loss: 1.4455 - val_accuracy: 0.4054\n",
            "Epoch 26/500\n",
            "67/67 [==============================] - 0s 221us/step - loss: 1.4080 - accuracy: 0.4925 - val_loss: 1.4407 - val_accuracy: 0.4054\n",
            "Epoch 27/500\n",
            "67/67 [==============================] - 0s 232us/step - loss: 1.4006 - accuracy: 0.5075 - val_loss: 1.4359 - val_accuracy: 0.4054\n",
            "Epoch 28/500\n",
            "67/67 [==============================] - 0s 271us/step - loss: 1.3941 - accuracy: 0.5075 - val_loss: 1.4307 - val_accuracy: 0.3784\n",
            "Epoch 29/500\n",
            "67/67 [==============================] - 0s 298us/step - loss: 1.3872 - accuracy: 0.4925 - val_loss: 1.4263 - val_accuracy: 0.3784\n",
            "Epoch 30/500\n",
            "67/67 [==============================] - 0s 258us/step - loss: 1.3806 - accuracy: 0.5075 - val_loss: 1.4218 - val_accuracy: 0.3784\n",
            "Epoch 31/500\n",
            "67/67 [==============================] - 0s 245us/step - loss: 1.3738 - accuracy: 0.5373 - val_loss: 1.4173 - val_accuracy: 0.3784\n",
            "Epoch 32/500\n",
            "67/67 [==============================] - 0s 252us/step - loss: 1.3676 - accuracy: 0.5224 - val_loss: 1.4124 - val_accuracy: 0.3784\n",
            "Epoch 33/500\n",
            "67/67 [==============================] - 0s 278us/step - loss: 1.3604 - accuracy: 0.5224 - val_loss: 1.4076 - val_accuracy: 0.4054\n",
            "Epoch 34/500\n",
            "67/67 [==============================] - 0s 214us/step - loss: 1.3546 - accuracy: 0.5373 - val_loss: 1.4031 - val_accuracy: 0.4054\n",
            "Epoch 35/500\n",
            "67/67 [==============================] - 0s 253us/step - loss: 1.3486 - accuracy: 0.5373 - val_loss: 1.3977 - val_accuracy: 0.4054\n",
            "Epoch 36/500\n",
            "67/67 [==============================] - 0s 359us/step - loss: 1.3404 - accuracy: 0.5522 - val_loss: 1.3928 - val_accuracy: 0.4054\n",
            "Epoch 37/500\n",
            "67/67 [==============================] - 0s 219us/step - loss: 1.3339 - accuracy: 0.5522 - val_loss: 1.3875 - val_accuracy: 0.4054\n",
            "Epoch 38/500\n",
            "67/67 [==============================] - 0s 241us/step - loss: 1.3269 - accuracy: 0.5522 - val_loss: 1.3824 - val_accuracy: 0.4054\n",
            "Epoch 39/500\n",
            "67/67 [==============================] - 0s 274us/step - loss: 1.3202 - accuracy: 0.5522 - val_loss: 1.3774 - val_accuracy: 0.4324\n",
            "Epoch 40/500\n",
            "67/67 [==============================] - 0s 197us/step - loss: 1.3137 - accuracy: 0.5522 - val_loss: 1.3725 - val_accuracy: 0.4324\n",
            "Epoch 41/500\n",
            "67/67 [==============================] - 0s 270us/step - loss: 1.3068 - accuracy: 0.5522 - val_loss: 1.3677 - val_accuracy: 0.4324\n",
            "Epoch 42/500\n",
            "67/67 [==============================] - 0s 284us/step - loss: 1.3003 - accuracy: 0.5672 - val_loss: 1.3630 - val_accuracy: 0.4324\n",
            "Epoch 43/500\n",
            "67/67 [==============================] - 0s 237us/step - loss: 1.2940 - accuracy: 0.5672 - val_loss: 1.3583 - val_accuracy: 0.4324\n",
            "Epoch 44/500\n",
            "67/67 [==============================] - 0s 222us/step - loss: 1.2869 - accuracy: 0.5522 - val_loss: 1.3533 - val_accuracy: 0.4324\n",
            "Epoch 45/500\n",
            "67/67 [==============================] - 0s 241us/step - loss: 1.2803 - accuracy: 0.5522 - val_loss: 1.3488 - val_accuracy: 0.4595\n",
            "Epoch 46/500\n",
            "67/67 [==============================] - 0s 218us/step - loss: 1.2736 - accuracy: 0.5522 - val_loss: 1.3438 - val_accuracy: 0.4595\n",
            "Epoch 47/500\n",
            "67/67 [==============================] - 0s 280us/step - loss: 1.2670 - accuracy: 0.5522 - val_loss: 1.3388 - val_accuracy: 0.4595\n",
            "Epoch 48/500\n",
            "67/67 [==============================] - 0s 303us/step - loss: 1.2604 - accuracy: 0.5522 - val_loss: 1.3342 - val_accuracy: 0.4865\n",
            "Epoch 49/500\n",
            "67/67 [==============================] - 0s 264us/step - loss: 1.2537 - accuracy: 0.5821 - val_loss: 1.3291 - val_accuracy: 0.4595\n",
            "Epoch 50/500\n",
            "67/67 [==============================] - 0s 306us/step - loss: 1.2473 - accuracy: 0.5821 - val_loss: 1.3240 - val_accuracy: 0.4865\n",
            "Epoch 51/500\n",
            "67/67 [==============================] - 0s 287us/step - loss: 1.2412 - accuracy: 0.5821 - val_loss: 1.3199 - val_accuracy: 0.5135\n",
            "Epoch 52/500\n",
            "67/67 [==============================] - 0s 291us/step - loss: 1.2339 - accuracy: 0.5821 - val_loss: 1.3152 - val_accuracy: 0.5135\n",
            "Epoch 53/500\n",
            "67/67 [==============================] - 0s 225us/step - loss: 1.2275 - accuracy: 0.5821 - val_loss: 1.3100 - val_accuracy: 0.5135\n",
            "Epoch 54/500\n",
            "67/67 [==============================] - 0s 283us/step - loss: 1.2209 - accuracy: 0.5821 - val_loss: 1.3053 - val_accuracy: 0.5135\n",
            "Epoch 55/500\n",
            "67/67 [==============================] - 0s 201us/step - loss: 1.2151 - accuracy: 0.5821 - val_loss: 1.3004 - val_accuracy: 0.5405\n",
            "Epoch 56/500\n",
            "67/67 [==============================] - 0s 201us/step - loss: 1.2078 - accuracy: 0.5821 - val_loss: 1.2959 - val_accuracy: 0.5135\n",
            "Epoch 57/500\n",
            "67/67 [==============================] - 0s 558us/step - loss: 1.2009 - accuracy: 0.5821 - val_loss: 1.2908 - val_accuracy: 0.5405\n",
            "Epoch 58/500\n",
            "67/67 [==============================] - 0s 230us/step - loss: 1.1945 - accuracy: 0.5821 - val_loss: 1.2861 - val_accuracy: 0.5405\n",
            "Epoch 59/500\n",
            "67/67 [==============================] - 0s 379us/step - loss: 1.1880 - accuracy: 0.5821 - val_loss: 1.2809 - val_accuracy: 0.5405\n",
            "Epoch 60/500\n",
            "67/67 [==============================] - 0s 260us/step - loss: 1.1820 - accuracy: 0.5821 - val_loss: 1.2764 - val_accuracy: 0.5135\n",
            "Epoch 61/500\n",
            "67/67 [==============================] - 0s 222us/step - loss: 1.1754 - accuracy: 0.5672 - val_loss: 1.2716 - val_accuracy: 0.5405\n",
            "Epoch 62/500\n",
            "67/67 [==============================] - 0s 193us/step - loss: 1.1698 - accuracy: 0.5672 - val_loss: 1.2672 - val_accuracy: 0.5405\n",
            "Epoch 63/500\n",
            "67/67 [==============================] - 0s 278us/step - loss: 1.1631 - accuracy: 0.5672 - val_loss: 1.2626 - val_accuracy: 0.5405\n",
            "Epoch 64/500\n",
            "67/67 [==============================] - 0s 244us/step - loss: 1.1572 - accuracy: 0.5672 - val_loss: 1.2578 - val_accuracy: 0.5405\n",
            "Epoch 65/500\n",
            "67/67 [==============================] - 0s 225us/step - loss: 1.1511 - accuracy: 0.5821 - val_loss: 1.2534 - val_accuracy: 0.5405\n",
            "Epoch 66/500\n",
            "67/67 [==============================] - 0s 221us/step - loss: 1.1466 - accuracy: 0.5672 - val_loss: 1.2491 - val_accuracy: 0.5405\n",
            "Epoch 67/500\n",
            "67/67 [==============================] - 0s 211us/step - loss: 1.1401 - accuracy: 0.5821 - val_loss: 1.2448 - val_accuracy: 0.5405\n",
            "Epoch 68/500\n",
            "67/67 [==============================] - 0s 239us/step - loss: 1.1341 - accuracy: 0.6418 - val_loss: 1.2399 - val_accuracy: 0.5405\n",
            "Epoch 69/500\n",
            "67/67 [==============================] - 0s 217us/step - loss: 1.1287 - accuracy: 0.6418 - val_loss: 1.2352 - val_accuracy: 0.5405\n",
            "Epoch 70/500\n",
            "67/67 [==============================] - 0s 231us/step - loss: 1.1231 - accuracy: 0.6418 - val_loss: 1.2310 - val_accuracy: 0.5405\n",
            "Epoch 71/500\n",
            "67/67 [==============================] - 0s 249us/step - loss: 1.1174 - accuracy: 0.6269 - val_loss: 1.2266 - val_accuracy: 0.5405\n",
            "Epoch 72/500\n",
            "67/67 [==============================] - 0s 259us/step - loss: 1.1130 - accuracy: 0.6418 - val_loss: 1.2218 - val_accuracy: 0.5405\n",
            "Epoch 73/500\n",
            "67/67 [==============================] - 0s 237us/step - loss: 1.1070 - accuracy: 0.6269 - val_loss: 1.2170 - val_accuracy: 0.5405\n",
            "Epoch 74/500\n",
            "67/67 [==============================] - 0s 209us/step - loss: 1.1018 - accuracy: 0.6269 - val_loss: 1.2133 - val_accuracy: 0.5405\n",
            "Epoch 75/500\n",
            "67/67 [==============================] - 0s 210us/step - loss: 1.0968 - accuracy: 0.6269 - val_loss: 1.2081 - val_accuracy: 0.5405\n",
            "Epoch 76/500\n",
            "67/67 [==============================] - 0s 212us/step - loss: 1.0911 - accuracy: 0.6269 - val_loss: 1.2040 - val_accuracy: 0.5405\n",
            "Epoch 77/500\n",
            "67/67 [==============================] - 0s 216us/step - loss: 1.0859 - accuracy: 0.6418 - val_loss: 1.2000 - val_accuracy: 0.5405\n",
            "Epoch 78/500\n",
            "67/67 [==============================] - 0s 269us/step - loss: 1.0805 - accuracy: 0.6418 - val_loss: 1.1958 - val_accuracy: 0.5405\n",
            "Epoch 79/500\n",
            "67/67 [==============================] - 0s 268us/step - loss: 1.0757 - accuracy: 0.6418 - val_loss: 1.1922 - val_accuracy: 0.5405\n",
            "Epoch 80/500\n",
            "67/67 [==============================] - 0s 222us/step - loss: 1.0704 - accuracy: 0.6418 - val_loss: 1.1881 - val_accuracy: 0.5405\n",
            "Epoch 81/500\n",
            "67/67 [==============================] - 0s 201us/step - loss: 1.0659 - accuracy: 0.6269 - val_loss: 1.1848 - val_accuracy: 0.5405\n",
            "Epoch 82/500\n",
            "67/67 [==============================] - 0s 202us/step - loss: 1.0607 - accuracy: 0.6418 - val_loss: 1.1805 - val_accuracy: 0.5405\n",
            "Epoch 83/500\n",
            "67/67 [==============================] - 0s 211us/step - loss: 1.0559 - accuracy: 0.6418 - val_loss: 1.1769 - val_accuracy: 0.5405\n",
            "Epoch 84/500\n",
            "67/67 [==============================] - 0s 422us/step - loss: 1.0511 - accuracy: 0.6418 - val_loss: 1.1732 - val_accuracy: 0.5405\n",
            "Epoch 85/500\n",
            "67/67 [==============================] - 0s 247us/step - loss: 1.0476 - accuracy: 0.6418 - val_loss: 1.1687 - val_accuracy: 0.5405\n",
            "Epoch 86/500\n",
            "67/67 [==============================] - 0s 236us/step - loss: 1.0426 - accuracy: 0.6269 - val_loss: 1.1655 - val_accuracy: 0.5405\n",
            "Epoch 87/500\n",
            "67/67 [==============================] - 0s 257us/step - loss: 1.0377 - accuracy: 0.6418 - val_loss: 1.1623 - val_accuracy: 0.5405\n",
            "Epoch 88/500\n",
            "67/67 [==============================] - 0s 244us/step - loss: 1.0343 - accuracy: 0.6418 - val_loss: 1.1592 - val_accuracy: 0.5405\n",
            "Epoch 89/500\n",
            "67/67 [==============================] - 0s 219us/step - loss: 1.0294 - accuracy: 0.6418 - val_loss: 1.1562 - val_accuracy: 0.5405\n",
            "Epoch 90/500\n",
            "67/67 [==============================] - 0s 341us/step - loss: 1.0257 - accuracy: 0.6418 - val_loss: 1.1526 - val_accuracy: 0.5135\n",
            "Epoch 91/500\n",
            "67/67 [==============================] - 0s 271us/step - loss: 1.0207 - accuracy: 0.6418 - val_loss: 1.1493 - val_accuracy: 0.5135\n",
            "Epoch 92/500\n",
            "67/67 [==============================] - 0s 234us/step - loss: 1.0166 - accuracy: 0.6418 - val_loss: 1.1467 - val_accuracy: 0.5135\n",
            "Epoch 93/500\n",
            "67/67 [==============================] - 0s 185us/step - loss: 1.0126 - accuracy: 0.6418 - val_loss: 1.1433 - val_accuracy: 0.5135\n",
            "Epoch 94/500\n",
            "67/67 [==============================] - 0s 192us/step - loss: 1.0091 - accuracy: 0.6567 - val_loss: 1.1398 - val_accuracy: 0.5135\n",
            "Epoch 95/500\n",
            "67/67 [==============================] - 0s 201us/step - loss: 1.0052 - accuracy: 0.6418 - val_loss: 1.1377 - val_accuracy: 0.5135\n",
            "Epoch 96/500\n",
            "67/67 [==============================] - 0s 354us/step - loss: 1.0012 - accuracy: 0.6567 - val_loss: 1.1339 - val_accuracy: 0.5135\n",
            "Epoch 97/500\n",
            "67/67 [==============================] - 0s 265us/step - loss: 0.9976 - accuracy: 0.6418 - val_loss: 1.1312 - val_accuracy: 0.5135\n",
            "Epoch 98/500\n",
            "67/67 [==============================] - 0s 220us/step - loss: 0.9933 - accuracy: 0.6418 - val_loss: 1.1282 - val_accuracy: 0.5405\n",
            "Epoch 99/500\n",
            "67/67 [==============================] - 0s 217us/step - loss: 0.9892 - accuracy: 0.6567 - val_loss: 1.1252 - val_accuracy: 0.5405\n",
            "Epoch 100/500\n",
            "67/67 [==============================] - 0s 212us/step - loss: 0.9854 - accuracy: 0.6567 - val_loss: 1.1227 - val_accuracy: 0.5405\n",
            "Epoch 101/500\n",
            "67/67 [==============================] - 0s 328us/step - loss: 0.9823 - accuracy: 0.6567 - val_loss: 1.1191 - val_accuracy: 0.5405\n",
            "Epoch 102/500\n",
            "67/67 [==============================] - 0s 202us/step - loss: 0.9784 - accuracy: 0.6567 - val_loss: 1.1162 - val_accuracy: 0.5405\n",
            "Epoch 103/500\n",
            "67/67 [==============================] - 0s 209us/step - loss: 0.9746 - accuracy: 0.6567 - val_loss: 1.1137 - val_accuracy: 0.5405\n",
            "Epoch 104/500\n",
            "67/67 [==============================] - 0s 224us/step - loss: 0.9713 - accuracy: 0.6567 - val_loss: 1.1105 - val_accuracy: 0.5135\n",
            "Epoch 105/500\n",
            "67/67 [==============================] - 0s 383us/step - loss: 0.9677 - accuracy: 0.6567 - val_loss: 1.1083 - val_accuracy: 0.5405\n",
            "Epoch 106/500\n",
            "67/67 [==============================] - 0s 314us/step - loss: 0.9644 - accuracy: 0.6567 - val_loss: 1.1062 - val_accuracy: 0.5405\n",
            "Epoch 107/500\n",
            "67/67 [==============================] - 0s 383us/step - loss: 0.9604 - accuracy: 0.6716 - val_loss: 1.1036 - val_accuracy: 0.5405\n",
            "Epoch 108/500\n",
            "67/67 [==============================] - 0s 223us/step - loss: 0.9569 - accuracy: 0.6716 - val_loss: 1.1004 - val_accuracy: 0.5135\n",
            "Epoch 109/500\n",
            "67/67 [==============================] - 0s 222us/step - loss: 0.9532 - accuracy: 0.6716 - val_loss: 1.0984 - val_accuracy: 0.5405\n",
            "Epoch 110/500\n",
            "67/67 [==============================] - 0s 187us/step - loss: 0.9503 - accuracy: 0.6716 - val_loss: 1.0965 - val_accuracy: 0.5405\n",
            "Epoch 111/500\n",
            "67/67 [==============================] - 0s 252us/step - loss: 0.9466 - accuracy: 0.6716 - val_loss: 1.0932 - val_accuracy: 0.5405\n",
            "Epoch 112/500\n",
            "67/67 [==============================] - 0s 216us/step - loss: 0.9436 - accuracy: 0.6716 - val_loss: 1.0902 - val_accuracy: 0.5405\n",
            "Epoch 113/500\n",
            "67/67 [==============================] - 0s 263us/step - loss: 0.9403 - accuracy: 0.6716 - val_loss: 1.0883 - val_accuracy: 0.5405\n",
            "Epoch 114/500\n",
            "67/67 [==============================] - 0s 309us/step - loss: 0.9367 - accuracy: 0.6716 - val_loss: 1.0860 - val_accuracy: 0.5405\n",
            "Epoch 115/500\n",
            "67/67 [==============================] - 0s 302us/step - loss: 0.9337 - accuracy: 0.6716 - val_loss: 1.0834 - val_accuracy: 0.5405\n",
            "Epoch 116/500\n",
            "67/67 [==============================] - 0s 224us/step - loss: 0.9304 - accuracy: 0.6716 - val_loss: 1.0809 - val_accuracy: 0.5405\n",
            "Epoch 117/500\n",
            "67/67 [==============================] - 0s 205us/step - loss: 0.9278 - accuracy: 0.6716 - val_loss: 1.0791 - val_accuracy: 0.5405\n",
            "Epoch 118/500\n",
            "67/67 [==============================] - 0s 256us/step - loss: 0.9249 - accuracy: 0.6716 - val_loss: 1.0763 - val_accuracy: 0.5405\n",
            "Epoch 119/500\n",
            "67/67 [==============================] - 0s 236us/step - loss: 0.9219 - accuracy: 0.6716 - val_loss: 1.0749 - val_accuracy: 0.5405\n",
            "Epoch 120/500\n",
            "67/67 [==============================] - 0s 227us/step - loss: 0.9181 - accuracy: 0.6716 - val_loss: 1.0728 - val_accuracy: 0.5405\n",
            "Epoch 121/500\n",
            "67/67 [==============================] - 0s 268us/step - loss: 0.9151 - accuracy: 0.6716 - val_loss: 1.0705 - val_accuracy: 0.5405\n",
            "Epoch 122/500\n",
            "67/67 [==============================] - 0s 223us/step - loss: 0.9122 - accuracy: 0.6716 - val_loss: 1.0686 - val_accuracy: 0.5676\n",
            "Epoch 123/500\n",
            "67/67 [==============================] - 0s 215us/step - loss: 0.9098 - accuracy: 0.6716 - val_loss: 1.0663 - val_accuracy: 0.5405\n",
            "Epoch 124/500\n",
            "67/67 [==============================] - 0s 208us/step - loss: 0.9067 - accuracy: 0.6716 - val_loss: 1.0640 - val_accuracy: 0.5676\n",
            "Epoch 125/500\n",
            "67/67 [==============================] - 0s 270us/step - loss: 0.9053 - accuracy: 0.6716 - val_loss: 1.0618 - val_accuracy: 0.5676\n",
            "Epoch 126/500\n",
            "67/67 [==============================] - 0s 201us/step - loss: 0.9009 - accuracy: 0.6716 - val_loss: 1.0594 - val_accuracy: 0.5676\n",
            "Epoch 127/500\n",
            "67/67 [==============================] - 0s 206us/step - loss: 0.8989 - accuracy: 0.6716 - val_loss: 1.0574 - val_accuracy: 0.5676\n",
            "Epoch 128/500\n",
            "67/67 [==============================] - 0s 192us/step - loss: 0.8953 - accuracy: 0.6866 - val_loss: 1.0566 - val_accuracy: 0.5676\n",
            "Epoch 129/500\n",
            "67/67 [==============================] - 0s 284us/step - loss: 0.8938 - accuracy: 0.7015 - val_loss: 1.0556 - val_accuracy: 0.5676\n",
            "Epoch 130/500\n",
            "67/67 [==============================] - 0s 219us/step - loss: 0.8905 - accuracy: 0.6716 - val_loss: 1.0521 - val_accuracy: 0.5676\n",
            "Epoch 131/500\n",
            "67/67 [==============================] - 0s 214us/step - loss: 0.8872 - accuracy: 0.7015 - val_loss: 1.0505 - val_accuracy: 0.5676\n",
            "Epoch 132/500\n",
            "67/67 [==============================] - 0s 260us/step - loss: 0.8848 - accuracy: 0.7015 - val_loss: 1.0483 - val_accuracy: 0.5676\n",
            "Epoch 133/500\n",
            "67/67 [==============================] - 0s 159us/step - loss: 0.8818 - accuracy: 0.7313 - val_loss: 1.0470 - val_accuracy: 0.5676\n",
            "Epoch 134/500\n",
            "67/67 [==============================] - 0s 293us/step - loss: 0.8789 - accuracy: 0.7164 - val_loss: 1.0454 - val_accuracy: 0.5676\n",
            "Epoch 135/500\n",
            "67/67 [==============================] - 0s 240us/step - loss: 0.8763 - accuracy: 0.7313 - val_loss: 1.0431 - val_accuracy: 0.5676\n",
            "Epoch 136/500\n",
            "67/67 [==============================] - 0s 205us/step - loss: 0.8731 - accuracy: 0.7313 - val_loss: 1.0417 - val_accuracy: 0.5676\n",
            "Epoch 137/500\n",
            "67/67 [==============================] - 0s 263us/step - loss: 0.8709 - accuracy: 0.7313 - val_loss: 1.0408 - val_accuracy: 0.5676\n",
            "Epoch 138/500\n",
            "67/67 [==============================] - 0s 237us/step - loss: 0.8677 - accuracy: 0.7313 - val_loss: 1.0397 - val_accuracy: 0.5676\n",
            "Epoch 139/500\n",
            "67/67 [==============================] - 0s 253us/step - loss: 0.8667 - accuracy: 0.7313 - val_loss: 1.0383 - val_accuracy: 0.5676\n",
            "Epoch 140/500\n",
            "67/67 [==============================] - 0s 288us/step - loss: 0.8636 - accuracy: 0.7313 - val_loss: 1.0368 - val_accuracy: 0.5676\n",
            "Epoch 141/500\n",
            "67/67 [==============================] - 0s 241us/step - loss: 0.8609 - accuracy: 0.7313 - val_loss: 1.0358 - val_accuracy: 0.5676\n",
            "Epoch 142/500\n",
            "67/67 [==============================] - 0s 356us/step - loss: 0.8590 - accuracy: 0.7313 - val_loss: 1.0349 - val_accuracy: 0.5676\n",
            "Epoch 143/500\n",
            "67/67 [==============================] - 0s 407us/step - loss: 0.8564 - accuracy: 0.7313 - val_loss: 1.0318 - val_accuracy: 0.5676\n",
            "Epoch 144/500\n",
            "67/67 [==============================] - 0s 201us/step - loss: 0.8533 - accuracy: 0.7313 - val_loss: 1.0304 - val_accuracy: 0.5676\n",
            "Epoch 145/500\n",
            "67/67 [==============================] - 0s 325us/step - loss: 0.8508 - accuracy: 0.7313 - val_loss: 1.0295 - val_accuracy: 0.5676\n",
            "Epoch 146/500\n",
            "67/67 [==============================] - 0s 193us/step - loss: 0.8489 - accuracy: 0.7313 - val_loss: 1.0287 - val_accuracy: 0.5676\n",
            "Epoch 147/500\n",
            "67/67 [==============================] - 0s 229us/step - loss: 0.8460 - accuracy: 0.7313 - val_loss: 1.0262 - val_accuracy: 0.5676\n",
            "Epoch 148/500\n",
            "67/67 [==============================] - 0s 185us/step - loss: 0.8436 - accuracy: 0.7313 - val_loss: 1.0245 - val_accuracy: 0.5405\n",
            "Epoch 149/500\n",
            "67/67 [==============================] - 0s 268us/step - loss: 0.8413 - accuracy: 0.7313 - val_loss: 1.0231 - val_accuracy: 0.5405\n",
            "Epoch 150/500\n",
            "67/67 [==============================] - 0s 217us/step - loss: 0.8385 - accuracy: 0.7313 - val_loss: 1.0211 - val_accuracy: 0.5405\n",
            "Epoch 151/500\n",
            "67/67 [==============================] - 0s 267us/step - loss: 0.8369 - accuracy: 0.7463 - val_loss: 1.0196 - val_accuracy: 0.5405\n",
            "Epoch 152/500\n",
            "67/67 [==============================] - 0s 362us/step - loss: 0.8341 - accuracy: 0.7463 - val_loss: 1.0185 - val_accuracy: 0.5405\n",
            "Epoch 153/500\n",
            "67/67 [==============================] - 0s 202us/step - loss: 0.8326 - accuracy: 0.7463 - val_loss: 1.0167 - val_accuracy: 0.5405\n",
            "Epoch 154/500\n",
            "67/67 [==============================] - 0s 214us/step - loss: 0.8298 - accuracy: 0.7463 - val_loss: 1.0165 - val_accuracy: 0.5405\n",
            "Epoch 155/500\n",
            "67/67 [==============================] - 0s 231us/step - loss: 0.8266 - accuracy: 0.7463 - val_loss: 1.0149 - val_accuracy: 0.5405\n",
            "Epoch 156/500\n",
            "67/67 [==============================] - 0s 259us/step - loss: 0.8244 - accuracy: 0.7463 - val_loss: 1.0130 - val_accuracy: 0.5676\n",
            "Epoch 157/500\n",
            "67/67 [==============================] - 0s 183us/step - loss: 0.8226 - accuracy: 0.7463 - val_loss: 1.0127 - val_accuracy: 0.5405\n",
            "Epoch 158/500\n",
            "67/67 [==============================] - 0s 203us/step - loss: 0.8209 - accuracy: 0.7463 - val_loss: 1.0105 - val_accuracy: 0.5676\n",
            "Epoch 159/500\n",
            "67/67 [==============================] - 0s 238us/step - loss: 0.8207 - accuracy: 0.7463 - val_loss: 1.0097 - val_accuracy: 0.5676\n",
            "Epoch 160/500\n",
            "67/67 [==============================] - 0s 213us/step - loss: 0.8164 - accuracy: 0.7612 - val_loss: 1.0085 - val_accuracy: 0.5676\n",
            "Epoch 161/500\n",
            "67/67 [==============================] - 0s 253us/step - loss: 0.8144 - accuracy: 0.7612 - val_loss: 1.0079 - val_accuracy: 0.5676\n",
            "Epoch 162/500\n",
            "67/67 [==============================] - 0s 220us/step - loss: 0.8113 - accuracy: 0.7612 - val_loss: 1.0082 - val_accuracy: 0.5676\n",
            "Epoch 163/500\n",
            "67/67 [==============================] - 0s 212us/step - loss: 0.8089 - accuracy: 0.7463 - val_loss: 1.0058 - val_accuracy: 0.5676\n",
            "Epoch 164/500\n",
            "67/67 [==============================] - 0s 255us/step - loss: 0.8081 - accuracy: 0.7463 - val_loss: 1.0035 - val_accuracy: 0.5405\n",
            "Epoch 165/500\n",
            "67/67 [==============================] - 0s 305us/step - loss: 0.8059 - accuracy: 0.7612 - val_loss: 1.0015 - val_accuracy: 0.5405\n",
            "Epoch 166/500\n",
            "67/67 [==============================] - 0s 349us/step - loss: 0.8036 - accuracy: 0.7612 - val_loss: 1.0013 - val_accuracy: 0.5405\n",
            "Epoch 167/500\n",
            "67/67 [==============================] - 0s 191us/step - loss: 0.8001 - accuracy: 0.7612 - val_loss: 1.0008 - val_accuracy: 0.5405\n",
            "Epoch 168/500\n",
            "67/67 [==============================] - 0s 213us/step - loss: 0.7981 - accuracy: 0.7612 - val_loss: 1.0015 - val_accuracy: 0.5405\n",
            "Epoch 169/500\n",
            "67/67 [==============================] - 0s 264us/step - loss: 0.7960 - accuracy: 0.7612 - val_loss: 1.0005 - val_accuracy: 0.5405\n",
            "Epoch 170/500\n",
            "67/67 [==============================] - 0s 226us/step - loss: 0.7951 - accuracy: 0.7612 - val_loss: 1.0002 - val_accuracy: 0.5135\n",
            "Epoch 171/500\n",
            "67/67 [==============================] - 0s 263us/step - loss: 0.7929 - accuracy: 0.7612 - val_loss: 0.9997 - val_accuracy: 0.5135\n",
            "Epoch 172/500\n",
            "67/67 [==============================] - 0s 285us/step - loss: 0.7904 - accuracy: 0.7612 - val_loss: 0.9979 - val_accuracy: 0.5135\n",
            "Epoch 173/500\n",
            "67/67 [==============================] - 0s 272us/step - loss: 0.7874 - accuracy: 0.7612 - val_loss: 0.9971 - val_accuracy: 0.5135\n",
            "Epoch 174/500\n",
            "67/67 [==============================] - 0s 216us/step - loss: 0.7859 - accuracy: 0.7612 - val_loss: 0.9976 - val_accuracy: 0.5135\n",
            "Epoch 175/500\n",
            "67/67 [==============================] - 0s 246us/step - loss: 0.7832 - accuracy: 0.7612 - val_loss: 0.9960 - val_accuracy: 0.5135\n",
            "Epoch 176/500\n",
            "67/67 [==============================] - 0s 325us/step - loss: 0.7815 - accuracy: 0.7612 - val_loss: 0.9952 - val_accuracy: 0.5135\n",
            "Epoch 177/500\n",
            "67/67 [==============================] - 0s 293us/step - loss: 0.7796 - accuracy: 0.7612 - val_loss: 0.9943 - val_accuracy: 0.5135\n",
            "Epoch 178/500\n",
            "67/67 [==============================] - 0s 269us/step - loss: 0.7789 - accuracy: 0.7612 - val_loss: 0.9929 - val_accuracy: 0.5135\n",
            "Epoch 179/500\n",
            "67/67 [==============================] - 0s 178us/step - loss: 0.7755 - accuracy: 0.7612 - val_loss: 0.9935 - val_accuracy: 0.5135\n",
            "Epoch 180/500\n",
            "67/67 [==============================] - 0s 295us/step - loss: 0.7746 - accuracy: 0.7612 - val_loss: 0.9927 - val_accuracy: 0.5135\n",
            "Epoch 181/500\n",
            "67/67 [==============================] - 0s 224us/step - loss: 0.7724 - accuracy: 0.7612 - val_loss: 0.9923 - val_accuracy: 0.5135\n",
            "Epoch 182/500\n",
            "67/67 [==============================] - 0s 223us/step - loss: 0.7711 - accuracy: 0.7612 - val_loss: 0.9932 - val_accuracy: 0.5135\n",
            "Epoch 183/500\n",
            "67/67 [==============================] - 0s 283us/step - loss: 0.7700 - accuracy: 0.7612 - val_loss: 0.9898 - val_accuracy: 0.5135\n",
            "Epoch 184/500\n",
            "67/67 [==============================] - 0s 234us/step - loss: 0.7668 - accuracy: 0.7612 - val_loss: 0.9901 - val_accuracy: 0.5135\n",
            "Epoch 185/500\n",
            "67/67 [==============================] - 0s 207us/step - loss: 0.7643 - accuracy: 0.7612 - val_loss: 0.9893 - val_accuracy: 0.5135\n",
            "Epoch 186/500\n",
            "67/67 [==============================] - 0s 296us/step - loss: 0.7626 - accuracy: 0.7612 - val_loss: 0.9889 - val_accuracy: 0.5135\n",
            "Epoch 187/500\n",
            "67/67 [==============================] - 0s 307us/step - loss: 0.7621 - accuracy: 0.7612 - val_loss: 0.9881 - val_accuracy: 0.5135\n",
            "Epoch 188/500\n",
            "67/67 [==============================] - 0s 203us/step - loss: 0.7595 - accuracy: 0.7612 - val_loss: 0.9890 - val_accuracy: 0.5135\n",
            "Epoch 189/500\n",
            "67/67 [==============================] - 0s 180us/step - loss: 0.7573 - accuracy: 0.7612 - val_loss: 0.9883 - val_accuracy: 0.5135\n",
            "Epoch 190/500\n",
            "67/67 [==============================] - 0s 279us/step - loss: 0.7558 - accuracy: 0.7612 - val_loss: 0.9878 - val_accuracy: 0.5135\n",
            "Epoch 191/500\n",
            "67/67 [==============================] - 0s 272us/step - loss: 0.7539 - accuracy: 0.7612 - val_loss: 0.9881 - val_accuracy: 0.5135\n",
            "Epoch 192/500\n",
            "67/67 [==============================] - 0s 241us/step - loss: 0.7522 - accuracy: 0.7612 - val_loss: 0.9872 - val_accuracy: 0.5135\n",
            "Epoch 193/500\n",
            "67/67 [==============================] - 0s 351us/step - loss: 0.7502 - accuracy: 0.7612 - val_loss: 0.9865 - val_accuracy: 0.5135\n",
            "Epoch 194/500\n",
            "67/67 [==============================] - 0s 271us/step - loss: 0.7487 - accuracy: 0.7612 - val_loss: 0.9853 - val_accuracy: 0.5135\n",
            "Epoch 195/500\n",
            "67/67 [==============================] - 0s 251us/step - loss: 0.7479 - accuracy: 0.7612 - val_loss: 0.9862 - val_accuracy: 0.4865\n",
            "Epoch 196/500\n",
            "67/67 [==============================] - 0s 215us/step - loss: 0.7443 - accuracy: 0.7612 - val_loss: 0.9838 - val_accuracy: 0.5135\n",
            "Epoch 197/500\n",
            "67/67 [==============================] - 0s 207us/step - loss: 0.7426 - accuracy: 0.7612 - val_loss: 0.9828 - val_accuracy: 0.5135\n",
            "Epoch 198/500\n",
            "67/67 [==============================] - 0s 236us/step - loss: 0.7429 - accuracy: 0.7612 - val_loss: 0.9823 - val_accuracy: 0.5135\n",
            "Epoch 199/500\n",
            "67/67 [==============================] - 0s 416us/step - loss: 0.7404 - accuracy: 0.7612 - val_loss: 0.9819 - val_accuracy: 0.5135\n",
            "Epoch 200/500\n",
            "67/67 [==============================] - 0s 240us/step - loss: 0.7381 - accuracy: 0.7612 - val_loss: 0.9808 - val_accuracy: 0.5135\n",
            "Epoch 201/500\n",
            "67/67 [==============================] - 0s 247us/step - loss: 0.7366 - accuracy: 0.7612 - val_loss: 0.9812 - val_accuracy: 0.5135\n",
            "Epoch 202/500\n",
            "67/67 [==============================] - 0s 197us/step - loss: 0.7350 - accuracy: 0.7612 - val_loss: 0.9789 - val_accuracy: 0.5135\n",
            "Epoch 203/500\n",
            "67/67 [==============================] - 0s 189us/step - loss: 0.7339 - accuracy: 0.7612 - val_loss: 0.9773 - val_accuracy: 0.5135\n",
            "Epoch 204/500\n",
            "67/67 [==============================] - 0s 194us/step - loss: 0.7313 - accuracy: 0.7612 - val_loss: 0.9768 - val_accuracy: 0.5135\n",
            "Epoch 205/500\n",
            "67/67 [==============================] - 0s 211us/step - loss: 0.7283 - accuracy: 0.7612 - val_loss: 0.9774 - val_accuracy: 0.5135\n",
            "Epoch 206/500\n",
            "67/67 [==============================] - 0s 225us/step - loss: 0.7264 - accuracy: 0.7612 - val_loss: 0.9769 - val_accuracy: 0.5135\n",
            "Epoch 207/500\n",
            "67/67 [==============================] - 0s 289us/step - loss: 0.7249 - accuracy: 0.7612 - val_loss: 0.9763 - val_accuracy: 0.5135\n",
            "Epoch 208/500\n",
            "67/67 [==============================] - 0s 251us/step - loss: 0.7242 - accuracy: 0.7612 - val_loss: 0.9753 - val_accuracy: 0.4865\n",
            "Epoch 209/500\n",
            "67/67 [==============================] - 0s 216us/step - loss: 0.7231 - accuracy: 0.7612 - val_loss: 0.9771 - val_accuracy: 0.4865\n",
            "Epoch 210/500\n",
            "67/67 [==============================] - 0s 203us/step - loss: 0.7198 - accuracy: 0.7612 - val_loss: 0.9772 - val_accuracy: 0.4865\n",
            "Epoch 211/500\n",
            "67/67 [==============================] - 0s 269us/step - loss: 0.7183 - accuracy: 0.7612 - val_loss: 0.9770 - val_accuracy: 0.4865\n",
            "Epoch 212/500\n",
            "67/67 [==============================] - 0s 222us/step - loss: 0.7165 - accuracy: 0.7612 - val_loss: 0.9760 - val_accuracy: 0.4865\n",
            "Epoch 213/500\n",
            "67/67 [==============================] - 0s 288us/step - loss: 0.7153 - accuracy: 0.7612 - val_loss: 0.9775 - val_accuracy: 0.4865\n",
            "Epoch 214/500\n",
            "67/67 [==============================] - 0s 182us/step - loss: 0.7151 - accuracy: 0.7612 - val_loss: 0.9776 - val_accuracy: 0.4865\n",
            "Epoch 215/500\n",
            "67/67 [==============================] - 0s 209us/step - loss: 0.7136 - accuracy: 0.7612 - val_loss: 0.9759 - val_accuracy: 0.4865\n",
            "Epoch 216/500\n",
            "67/67 [==============================] - 0s 246us/step - loss: 0.7106 - accuracy: 0.7612 - val_loss: 0.9777 - val_accuracy: 0.4865\n",
            "Epoch 217/500\n",
            "67/67 [==============================] - 0s 295us/step - loss: 0.7102 - accuracy: 0.7612 - val_loss: 0.9791 - val_accuracy: 0.4865\n",
            "Epoch 218/500\n",
            "67/67 [==============================] - 0s 193us/step - loss: 0.7104 - accuracy: 0.7612 - val_loss: 0.9784 - val_accuracy: 0.4865\n",
            "Epoch 219/500\n",
            "67/67 [==============================] - 0s 246us/step - loss: 0.7057 - accuracy: 0.7612 - val_loss: 0.9781 - val_accuracy: 0.4865\n",
            "Epoch 220/500\n",
            "67/67 [==============================] - 0s 200us/step - loss: 0.7047 - accuracy: 0.7612 - val_loss: 0.9779 - val_accuracy: 0.4865\n",
            "Epoch 221/500\n",
            "67/67 [==============================] - 0s 196us/step - loss: 0.7025 - accuracy: 0.7612 - val_loss: 0.9785 - val_accuracy: 0.4865\n",
            "Epoch 222/500\n",
            "67/67 [==============================] - 0s 215us/step - loss: 0.7014 - accuracy: 0.7612 - val_loss: 0.9749 - val_accuracy: 0.4865\n",
            "Epoch 223/500\n",
            "67/67 [==============================] - 0s 194us/step - loss: 0.7015 - accuracy: 0.7612 - val_loss: 0.9750 - val_accuracy: 0.4865\n",
            "Epoch 224/500\n",
            "67/67 [==============================] - 0s 178us/step - loss: 0.6996 - accuracy: 0.7612 - val_loss: 0.9729 - val_accuracy: 0.4865\n",
            "Epoch 225/500\n",
            "67/67 [==============================] - 0s 196us/step - loss: 0.6963 - accuracy: 0.7612 - val_loss: 0.9728 - val_accuracy: 0.4865\n",
            "Epoch 226/500\n",
            "67/67 [==============================] - 0s 220us/step - loss: 0.6942 - accuracy: 0.7612 - val_loss: 0.9717 - val_accuracy: 0.4865\n",
            "Epoch 227/500\n",
            "67/67 [==============================] - 0s 228us/step - loss: 0.6938 - accuracy: 0.7612 - val_loss: 0.9697 - val_accuracy: 0.4865\n",
            "Epoch 228/500\n",
            "67/67 [==============================] - 0s 190us/step - loss: 0.6914 - accuracy: 0.7612 - val_loss: 0.9700 - val_accuracy: 0.4865\n",
            "Epoch 229/500\n",
            "67/67 [==============================] - 0s 190us/step - loss: 0.6904 - accuracy: 0.7612 - val_loss: 0.9709 - val_accuracy: 0.4865\n",
            "Epoch 230/500\n",
            "67/67 [==============================] - 0s 217us/step - loss: 0.6891 - accuracy: 0.7612 - val_loss: 0.9707 - val_accuracy: 0.4865\n",
            "Epoch 231/500\n",
            "67/67 [==============================] - 0s 195us/step - loss: 0.6861 - accuracy: 0.7612 - val_loss: 0.9710 - val_accuracy: 0.4865\n",
            "Epoch 232/500\n",
            "67/67 [==============================] - 0s 231us/step - loss: 0.6864 - accuracy: 0.7612 - val_loss: 0.9710 - val_accuracy: 0.4865\n",
            "Epoch 233/500\n",
            "67/67 [==============================] - 0s 213us/step - loss: 0.6846 - accuracy: 0.7612 - val_loss: 0.9712 - val_accuracy: 0.4865\n",
            "Epoch 234/500\n",
            "67/67 [==============================] - 0s 194us/step - loss: 0.6825 - accuracy: 0.7612 - val_loss: 0.9712 - val_accuracy: 0.4865\n",
            "Epoch 235/500\n",
            "67/67 [==============================] - 0s 214us/step - loss: 0.6831 - accuracy: 0.7612 - val_loss: 0.9727 - val_accuracy: 0.4865\n",
            "Epoch 236/500\n",
            "67/67 [==============================] - 0s 197us/step - loss: 0.6803 - accuracy: 0.7612 - val_loss: 0.9726 - val_accuracy: 0.4865\n",
            "Epoch 237/500\n",
            "67/67 [==============================] - 0s 187us/step - loss: 0.6774 - accuracy: 0.7612 - val_loss: 0.9714 - val_accuracy: 0.4865\n",
            "Epoch 238/500\n",
            "67/67 [==============================] - 0s 219us/step - loss: 0.6770 - accuracy: 0.7612 - val_loss: 0.9713 - val_accuracy: 0.4865\n",
            "Epoch 239/500\n",
            "67/67 [==============================] - 0s 552us/step - loss: 0.6761 - accuracy: 0.7612 - val_loss: 0.9711 - val_accuracy: 0.4865\n",
            "Epoch 240/500\n",
            "67/67 [==============================] - 0s 205us/step - loss: 0.6747 - accuracy: 0.7612 - val_loss: 0.9694 - val_accuracy: 0.4865\n",
            "Epoch 241/500\n",
            "67/67 [==============================] - 0s 203us/step - loss: 0.6721 - accuracy: 0.7612 - val_loss: 0.9692 - val_accuracy: 0.4865\n",
            "Epoch 242/500\n",
            "67/67 [==============================] - 0s 199us/step - loss: 0.6721 - accuracy: 0.7612 - val_loss: 0.9676 - val_accuracy: 0.4865\n",
            "Epoch 243/500\n",
            "67/67 [==============================] - 0s 203us/step - loss: 0.6699 - accuracy: 0.7612 - val_loss: 0.9690 - val_accuracy: 0.4865\n",
            "Epoch 244/500\n",
            "67/67 [==============================] - 0s 195us/step - loss: 0.6688 - accuracy: 0.7612 - val_loss: 0.9689 - val_accuracy: 0.4865\n",
            "Epoch 245/500\n",
            "67/67 [==============================] - 0s 206us/step - loss: 0.6673 - accuracy: 0.7612 - val_loss: 0.9680 - val_accuracy: 0.4865\n",
            "Epoch 246/500\n",
            "67/67 [==============================] - 0s 239us/step - loss: 0.6692 - accuracy: 0.7612 - val_loss: 0.9666 - val_accuracy: 0.4865\n",
            "Epoch 247/500\n",
            "67/67 [==============================] - 0s 420us/step - loss: 0.6645 - accuracy: 0.7612 - val_loss: 0.9687 - val_accuracy: 0.4865\n",
            "Epoch 248/500\n",
            "67/67 [==============================] - 0s 377us/step - loss: 0.6640 - accuracy: 0.7761 - val_loss: 0.9719 - val_accuracy: 0.4865\n",
            "Epoch 249/500\n",
            "67/67 [==============================] - 0s 245us/step - loss: 0.6607 - accuracy: 0.7761 - val_loss: 0.9719 - val_accuracy: 0.4865\n",
            "Epoch 250/500\n",
            "67/67 [==============================] - 0s 233us/step - loss: 0.6594 - accuracy: 0.7761 - val_loss: 0.9696 - val_accuracy: 0.4865\n",
            "Epoch 251/500\n",
            "67/67 [==============================] - 0s 362us/step - loss: 0.6582 - accuracy: 0.7761 - val_loss: 0.9716 - val_accuracy: 0.4865\n",
            "Epoch 252/500\n",
            "67/67 [==============================] - 0s 145us/step - loss: 0.6576 - accuracy: 0.7761 - val_loss: 0.9692 - val_accuracy: 0.4865\n",
            "Epoch 253/500\n",
            "67/67 [==============================] - 0s 206us/step - loss: 0.6565 - accuracy: 0.7761 - val_loss: 0.9703 - val_accuracy: 0.4865\n",
            "Epoch 254/500\n",
            "67/67 [==============================] - 0s 186us/step - loss: 0.6537 - accuracy: 0.7761 - val_loss: 0.9717 - val_accuracy: 0.4865\n",
            "Epoch 255/500\n",
            "67/67 [==============================] - 0s 210us/step - loss: 0.6535 - accuracy: 0.7761 - val_loss: 0.9713 - val_accuracy: 0.4865\n",
            "Epoch 256/500\n",
            "67/67 [==============================] - 0s 243us/step - loss: 0.6522 - accuracy: 0.7761 - val_loss: 0.9749 - val_accuracy: 0.4865\n",
            "Epoch 257/500\n",
            "67/67 [==============================] - 0s 195us/step - loss: 0.6504 - accuracy: 0.7761 - val_loss: 0.9731 - val_accuracy: 0.4865\n",
            "Epoch 258/500\n",
            "67/67 [==============================] - 0s 195us/step - loss: 0.6482 - accuracy: 0.7761 - val_loss: 0.9744 - val_accuracy: 0.4865\n",
            "Epoch 259/500\n",
            "67/67 [==============================] - 0s 252us/step - loss: 0.6483 - accuracy: 0.7761 - val_loss: 0.9743 - val_accuracy: 0.4865\n",
            "Epoch 260/500\n",
            "67/67 [==============================] - 0s 244us/step - loss: 0.6476 - accuracy: 0.7761 - val_loss: 0.9755 - val_accuracy: 0.4865\n",
            "Epoch 261/500\n",
            "67/67 [==============================] - 0s 219us/step - loss: 0.6443 - accuracy: 0.7761 - val_loss: 0.9760 - val_accuracy: 0.4865\n",
            "Epoch 262/500\n",
            "67/67 [==============================] - 0s 340us/step - loss: 0.6449 - accuracy: 0.7761 - val_loss: 0.9770 - val_accuracy: 0.4865\n",
            "Epoch 263/500\n",
            "67/67 [==============================] - 0s 171us/step - loss: 0.6429 - accuracy: 0.7761 - val_loss: 0.9761 - val_accuracy: 0.4865\n",
            "Epoch 264/500\n",
            "67/67 [==============================] - 0s 295us/step - loss: 0.6411 - accuracy: 0.7761 - val_loss: 0.9771 - val_accuracy: 0.4865\n",
            "Epoch 265/500\n",
            "67/67 [==============================] - 0s 307us/step - loss: 0.6420 - accuracy: 0.7761 - val_loss: 0.9780 - val_accuracy: 0.4865\n",
            "Epoch 266/500\n",
            "67/67 [==============================] - 0s 222us/step - loss: 0.6385 - accuracy: 0.7761 - val_loss: 0.9755 - val_accuracy: 0.4865\n",
            "Epoch 267/500\n",
            "67/67 [==============================] - 0s 230us/step - loss: 0.6377 - accuracy: 0.7761 - val_loss: 0.9791 - val_accuracy: 0.4865\n",
            "Epoch 268/500\n",
            "67/67 [==============================] - 0s 306us/step - loss: 0.6365 - accuracy: 0.7761 - val_loss: 0.9792 - val_accuracy: 0.4865\n",
            "Epoch 269/500\n",
            "67/67 [==============================] - 0s 249us/step - loss: 0.6350 - accuracy: 0.7761 - val_loss: 0.9808 - val_accuracy: 0.5135\n",
            "Epoch 270/500\n",
            "67/67 [==============================] - 0s 278us/step - loss: 0.6350 - accuracy: 0.7761 - val_loss: 0.9807 - val_accuracy: 0.5135\n",
            "Epoch 271/500\n",
            "67/67 [==============================] - 0s 229us/step - loss: 0.6321 - accuracy: 0.7761 - val_loss: 0.9789 - val_accuracy: 0.5135\n",
            "Epoch 272/500\n",
            "67/67 [==============================] - 0s 202us/step - loss: 0.6335 - accuracy: 0.7761 - val_loss: 0.9801 - val_accuracy: 0.5135\n",
            "Epoch 273/500\n",
            "67/67 [==============================] - 0s 203us/step - loss: 0.6289 - accuracy: 0.7761 - val_loss: 0.9802 - val_accuracy: 0.5135\n",
            "Epoch 274/500\n",
            "67/67 [==============================] - 0s 363us/step - loss: 0.6290 - accuracy: 0.7761 - val_loss: 0.9794 - val_accuracy: 0.5135\n",
            "Epoch 275/500\n",
            "67/67 [==============================] - 0s 271us/step - loss: 0.6280 - accuracy: 0.7761 - val_loss: 0.9790 - val_accuracy: 0.5135\n",
            "Epoch 276/500\n",
            "67/67 [==============================] - 0s 381us/step - loss: 0.6248 - accuracy: 0.7761 - val_loss: 0.9809 - val_accuracy: 0.5135\n",
            "Epoch 277/500\n",
            "67/67 [==============================] - 0s 276us/step - loss: 0.6247 - accuracy: 0.7761 - val_loss: 0.9792 - val_accuracy: 0.5135\n",
            "Epoch 278/500\n",
            "67/67 [==============================] - 0s 262us/step - loss: 0.6218 - accuracy: 0.7761 - val_loss: 0.9808 - val_accuracy: 0.5135\n",
            "Epoch 279/500\n",
            "67/67 [==============================] - 0s 219us/step - loss: 0.6213 - accuracy: 0.7761 - val_loss: 0.9789 - val_accuracy: 0.4865\n",
            "Epoch 280/500\n",
            "67/67 [==============================] - 0s 314us/step - loss: 0.6217 - accuracy: 0.7761 - val_loss: 0.9776 - val_accuracy: 0.5135\n",
            "Epoch 281/500\n",
            "67/67 [==============================] - 0s 195us/step - loss: 0.6179 - accuracy: 0.7761 - val_loss: 0.9772 - val_accuracy: 0.4865\n",
            "Epoch 282/500\n",
            "67/67 [==============================] - 0s 322us/step - loss: 0.6165 - accuracy: 0.7761 - val_loss: 0.9771 - val_accuracy: 0.4865\n",
            "Epoch 283/500\n",
            "67/67 [==============================] - 0s 328us/step - loss: 0.6158 - accuracy: 0.7761 - val_loss: 0.9794 - val_accuracy: 0.5405\n",
            "Epoch 284/500\n",
            "67/67 [==============================] - 0s 238us/step - loss: 0.6147 - accuracy: 0.7910 - val_loss: 0.9784 - val_accuracy: 0.4865\n",
            "Epoch 285/500\n",
            "67/67 [==============================] - 0s 256us/step - loss: 0.6130 - accuracy: 0.7761 - val_loss: 0.9786 - val_accuracy: 0.5135\n",
            "Epoch 286/500\n",
            "67/67 [==============================] - 0s 272us/step - loss: 0.6138 - accuracy: 0.7761 - val_loss: 0.9784 - val_accuracy: 0.4865\n",
            "Epoch 287/500\n",
            "67/67 [==============================] - 0s 257us/step - loss: 0.6121 - accuracy: 0.7761 - val_loss: 0.9797 - val_accuracy: 0.5135\n",
            "Epoch 288/500\n",
            "67/67 [==============================] - 0s 252us/step - loss: 0.6087 - accuracy: 0.7761 - val_loss: 0.9795 - val_accuracy: 0.5135\n",
            "Epoch 289/500\n",
            "67/67 [==============================] - 0s 200us/step - loss: 0.6079 - accuracy: 0.7761 - val_loss: 0.9804 - val_accuracy: 0.5405\n",
            "Epoch 290/500\n",
            "67/67 [==============================] - 0s 184us/step - loss: 0.6066 - accuracy: 0.7761 - val_loss: 0.9800 - val_accuracy: 0.5135\n",
            "Epoch 291/500\n",
            "67/67 [==============================] - 0s 215us/step - loss: 0.6062 - accuracy: 0.7761 - val_loss: 0.9815 - val_accuracy: 0.5405\n",
            "Epoch 292/500\n",
            "67/67 [==============================] - 0s 355us/step - loss: 0.6041 - accuracy: 0.7761 - val_loss: 0.9824 - val_accuracy: 0.5405\n",
            "Epoch 293/500\n",
            "67/67 [==============================] - 0s 264us/step - loss: 0.6041 - accuracy: 0.7761 - val_loss: 0.9819 - val_accuracy: 0.5405\n",
            "Epoch 294/500\n",
            "67/67 [==============================] - 0s 305us/step - loss: 0.6021 - accuracy: 0.7761 - val_loss: 0.9800 - val_accuracy: 0.5405\n",
            "Epoch 295/500\n",
            "67/67 [==============================] - 0s 225us/step - loss: 0.6010 - accuracy: 0.7910 - val_loss: 0.9818 - val_accuracy: 0.5405\n",
            "Epoch 296/500\n",
            "67/67 [==============================] - 0s 259us/step - loss: 0.5996 - accuracy: 0.7910 - val_loss: 0.9852 - val_accuracy: 0.5405\n",
            "Epoch 297/500\n",
            "67/67 [==============================] - 0s 277us/step - loss: 0.5992 - accuracy: 0.7761 - val_loss: 0.9884 - val_accuracy: 0.5405\n",
            "Epoch 298/500\n",
            "67/67 [==============================] - 0s 216us/step - loss: 0.5984 - accuracy: 0.7910 - val_loss: 0.9873 - val_accuracy: 0.5405\n",
            "Epoch 299/500\n",
            "67/67 [==============================] - 0s 232us/step - loss: 0.5953 - accuracy: 0.7910 - val_loss: 0.9874 - val_accuracy: 0.5405\n",
            "Epoch 300/500\n",
            "67/67 [==============================] - 0s 269us/step - loss: 0.5974 - accuracy: 0.7910 - val_loss: 0.9873 - val_accuracy: 0.5405\n",
            "Epoch 301/500\n",
            "67/67 [==============================] - 0s 304us/step - loss: 0.5940 - accuracy: 0.7910 - val_loss: 0.9880 - val_accuracy: 0.5405\n",
            "Epoch 302/500\n",
            "67/67 [==============================] - 0s 282us/step - loss: 0.5940 - accuracy: 0.7910 - val_loss: 0.9876 - val_accuracy: 0.5405\n",
            "Epoch 303/500\n",
            "67/67 [==============================] - 0s 227us/step - loss: 0.5912 - accuracy: 0.7761 - val_loss: 0.9904 - val_accuracy: 0.5405\n",
            "Epoch 304/500\n",
            "67/67 [==============================] - 0s 202us/step - loss: 0.5897 - accuracy: 0.7910 - val_loss: 0.9902 - val_accuracy: 0.5405\n",
            "Epoch 305/500\n",
            "67/67 [==============================] - 0s 298us/step - loss: 0.5885 - accuracy: 0.7761 - val_loss: 0.9923 - val_accuracy: 0.5405\n",
            "Epoch 306/500\n",
            "67/67 [==============================] - 0s 182us/step - loss: 0.5872 - accuracy: 0.7910 - val_loss: 0.9920 - val_accuracy: 0.5405\n",
            "Epoch 307/500\n",
            "67/67 [==============================] - 0s 343us/step - loss: 0.5873 - accuracy: 0.8060 - val_loss: 0.9920 - val_accuracy: 0.5405\n",
            "Epoch 308/500\n",
            "67/67 [==============================] - 0s 201us/step - loss: 0.5838 - accuracy: 0.7910 - val_loss: 0.9937 - val_accuracy: 0.5405\n",
            "Epoch 309/500\n",
            "67/67 [==============================] - 0s 301us/step - loss: 0.5834 - accuracy: 0.7910 - val_loss: 0.9936 - val_accuracy: 0.5405\n",
            "Epoch 310/500\n",
            "67/67 [==============================] - 0s 203us/step - loss: 0.5833 - accuracy: 0.7910 - val_loss: 0.9948 - val_accuracy: 0.5405\n",
            "Epoch 311/500\n",
            "67/67 [==============================] - 0s 229us/step - loss: 0.5804 - accuracy: 0.7910 - val_loss: 0.9945 - val_accuracy: 0.5405\n",
            "Epoch 312/500\n",
            "67/67 [==============================] - 0s 261us/step - loss: 0.5796 - accuracy: 0.7910 - val_loss: 0.9948 - val_accuracy: 0.5405\n",
            "Epoch 313/500\n",
            "67/67 [==============================] - 0s 329us/step - loss: 0.5776 - accuracy: 0.7910 - val_loss: 0.9932 - val_accuracy: 0.5405\n",
            "Epoch 314/500\n",
            "67/67 [==============================] - 0s 350us/step - loss: 0.5768 - accuracy: 0.7910 - val_loss: 0.9949 - val_accuracy: 0.5405\n",
            "Epoch 315/500\n",
            "67/67 [==============================] - 0s 249us/step - loss: 0.5761 - accuracy: 0.7910 - val_loss: 0.9963 - val_accuracy: 0.5405\n",
            "Epoch 316/500\n",
            "67/67 [==============================] - 0s 255us/step - loss: 0.5748 - accuracy: 0.7910 - val_loss: 0.9974 - val_accuracy: 0.5405\n",
            "Epoch 317/500\n",
            "67/67 [==============================] - 0s 291us/step - loss: 0.5739 - accuracy: 0.7910 - val_loss: 0.9985 - val_accuracy: 0.5405\n",
            "Epoch 318/500\n",
            "67/67 [==============================] - 0s 263us/step - loss: 0.5725 - accuracy: 0.7910 - val_loss: 0.9969 - val_accuracy: 0.5405\n",
            "Epoch 319/500\n",
            "67/67 [==============================] - 0s 309us/step - loss: 0.5738 - accuracy: 0.7910 - val_loss: 0.9957 - val_accuracy: 0.5405\n",
            "Epoch 320/500\n",
            "67/67 [==============================] - 0s 272us/step - loss: 0.5736 - accuracy: 0.7910 - val_loss: 0.9918 - val_accuracy: 0.5405\n",
            "Epoch 321/500\n",
            "67/67 [==============================] - 0s 267us/step - loss: 0.5686 - accuracy: 0.7761 - val_loss: 0.9938 - val_accuracy: 0.5405\n",
            "Epoch 322/500\n",
            "67/67 [==============================] - 0s 251us/step - loss: 0.5688 - accuracy: 0.7910 - val_loss: 0.9981 - val_accuracy: 0.5405\n",
            "Epoch 323/500\n",
            "67/67 [==============================] - 0s 279us/step - loss: 0.5670 - accuracy: 0.7910 - val_loss: 1.0017 - val_accuracy: 0.5405\n",
            "Epoch 324/500\n",
            "67/67 [==============================] - 0s 190us/step - loss: 0.5647 - accuracy: 0.7910 - val_loss: 1.0012 - val_accuracy: 0.5405\n",
            "Epoch 325/500\n",
            "67/67 [==============================] - 0s 308us/step - loss: 0.5649 - accuracy: 0.7910 - val_loss: 1.0034 - val_accuracy: 0.5405\n",
            "Epoch 326/500\n",
            "67/67 [==============================] - 0s 243us/step - loss: 0.5641 - accuracy: 0.7910 - val_loss: 1.0078 - val_accuracy: 0.5405\n",
            "Epoch 327/500\n",
            "67/67 [==============================] - 0s 351us/step - loss: 0.5625 - accuracy: 0.7910 - val_loss: 1.0061 - val_accuracy: 0.5405\n",
            "Epoch 328/500\n",
            "67/67 [==============================] - 0s 348us/step - loss: 0.5601 - accuracy: 0.7910 - val_loss: 1.0071 - val_accuracy: 0.5405\n",
            "Epoch 329/500\n",
            "67/67 [==============================] - 0s 338us/step - loss: 0.5595 - accuracy: 0.7910 - val_loss: 1.0102 - val_accuracy: 0.5405\n",
            "Epoch 330/500\n",
            "67/67 [==============================] - 0s 397us/step - loss: 0.5602 - accuracy: 0.7910 - val_loss: 1.0062 - val_accuracy: 0.5405\n",
            "Epoch 331/500\n",
            "67/67 [==============================] - 0s 347us/step - loss: 0.5578 - accuracy: 0.7910 - val_loss: 1.0074 - val_accuracy: 0.5405\n",
            "Epoch 332/500\n",
            "67/67 [==============================] - 0s 231us/step - loss: 0.5569 - accuracy: 0.7910 - val_loss: 1.0093 - val_accuracy: 0.5405\n",
            "Epoch 333/500\n",
            "67/67 [==============================] - 0s 290us/step - loss: 0.5559 - accuracy: 0.7910 - val_loss: 1.0093 - val_accuracy: 0.5405\n",
            "Epoch 334/500\n",
            "67/67 [==============================] - 0s 354us/step - loss: 0.5529 - accuracy: 0.7910 - val_loss: 1.0090 - val_accuracy: 0.5405\n",
            "Epoch 335/500\n",
            "67/67 [==============================] - 0s 429us/step - loss: 0.5559 - accuracy: 0.7910 - val_loss: 1.0071 - val_accuracy: 0.5405\n",
            "Epoch 336/500\n",
            "67/67 [==============================] - 0s 367us/step - loss: 0.5520 - accuracy: 0.8060 - val_loss: 1.0064 - val_accuracy: 0.5405\n",
            "Epoch 337/500\n",
            "67/67 [==============================] - 0s 232us/step - loss: 0.5509 - accuracy: 0.8060 - val_loss: 1.0076 - val_accuracy: 0.5405\n",
            "Epoch 338/500\n",
            "67/67 [==============================] - 0s 314us/step - loss: 0.5513 - accuracy: 0.7910 - val_loss: 1.0073 - val_accuracy: 0.5405\n",
            "Epoch 339/500\n",
            "67/67 [==============================] - 0s 282us/step - loss: 0.5478 - accuracy: 0.7910 - val_loss: 1.0067 - val_accuracy: 0.5405\n",
            "Epoch 340/500\n",
            "67/67 [==============================] - 0s 241us/step - loss: 0.5468 - accuracy: 0.7910 - val_loss: 1.0081 - val_accuracy: 0.5405\n",
            "Epoch 341/500\n",
            "67/67 [==============================] - 0s 319us/step - loss: 0.5464 - accuracy: 0.7910 - val_loss: 1.0096 - val_accuracy: 0.5405\n",
            "Epoch 342/500\n",
            "67/67 [==============================] - 0s 259us/step - loss: 0.5442 - accuracy: 0.7910 - val_loss: 1.0096 - val_accuracy: 0.5405\n",
            "Epoch 343/500\n",
            "67/67 [==============================] - 0s 354us/step - loss: 0.5432 - accuracy: 0.8060 - val_loss: 1.0071 - val_accuracy: 0.5405\n",
            "Epoch 344/500\n",
            "67/67 [==============================] - 0s 334us/step - loss: 0.5411 - accuracy: 0.7910 - val_loss: 1.0090 - val_accuracy: 0.5405\n",
            "Epoch 345/500\n",
            "67/67 [==============================] - 0s 310us/step - loss: 0.5429 - accuracy: 0.7910 - val_loss: 1.0129 - val_accuracy: 0.5405\n",
            "Epoch 346/500\n",
            "67/67 [==============================] - 0s 194us/step - loss: 0.5405 - accuracy: 0.8060 - val_loss: 1.0119 - val_accuracy: 0.5405\n",
            "Epoch 347/500\n",
            "67/67 [==============================] - 0s 203us/step - loss: 0.5376 - accuracy: 0.7910 - val_loss: 1.0138 - val_accuracy: 0.5405\n",
            "Epoch 348/500\n",
            "67/67 [==============================] - 0s 296us/step - loss: 0.5383 - accuracy: 0.8060 - val_loss: 1.0142 - val_accuracy: 0.5405\n",
            "Epoch 349/500\n",
            "67/67 [==============================] - 0s 233us/step - loss: 0.5366 - accuracy: 0.7910 - val_loss: 1.0132 - val_accuracy: 0.5405\n",
            "Epoch 350/500\n",
            "67/67 [==============================] - 0s 346us/step - loss: 0.5357 - accuracy: 0.7910 - val_loss: 1.0141 - val_accuracy: 0.5405\n",
            "Epoch 351/500\n",
            "67/67 [==============================] - 0s 256us/step - loss: 0.5359 - accuracy: 0.7910 - val_loss: 1.0137 - val_accuracy: 0.5405\n",
            "Epoch 352/500\n",
            "67/67 [==============================] - 0s 231us/step - loss: 0.5346 - accuracy: 0.7910 - val_loss: 1.0157 - val_accuracy: 0.5405\n",
            "Epoch 353/500\n",
            "67/67 [==============================] - 0s 233us/step - loss: 0.5321 - accuracy: 0.8060 - val_loss: 1.0191 - val_accuracy: 0.5405\n",
            "Epoch 354/500\n",
            "67/67 [==============================] - 0s 371us/step - loss: 0.5309 - accuracy: 0.8060 - val_loss: 1.0182 - val_accuracy: 0.5405\n",
            "Epoch 355/500\n",
            "67/67 [==============================] - 0s 288us/step - loss: 0.5325 - accuracy: 0.8060 - val_loss: 1.0220 - val_accuracy: 0.5405\n",
            "Epoch 356/500\n",
            "67/67 [==============================] - 0s 227us/step - loss: 0.5280 - accuracy: 0.8060 - val_loss: 1.0219 - val_accuracy: 0.5405\n",
            "Epoch 357/500\n",
            "67/67 [==============================] - 0s 306us/step - loss: 0.5275 - accuracy: 0.8060 - val_loss: 1.0235 - val_accuracy: 0.5405\n",
            "Epoch 358/500\n",
            "67/67 [==============================] - 0s 212us/step - loss: 0.5290 - accuracy: 0.8060 - val_loss: 1.0229 - val_accuracy: 0.5405\n",
            "Epoch 359/500\n",
            "67/67 [==============================] - 0s 221us/step - loss: 0.5249 - accuracy: 0.8060 - val_loss: 1.0259 - val_accuracy: 0.5405\n",
            "Epoch 360/500\n",
            "67/67 [==============================] - 0s 207us/step - loss: 0.5242 - accuracy: 0.8060 - val_loss: 1.0268 - val_accuracy: 0.5405\n",
            "Epoch 361/500\n",
            "67/67 [==============================] - 0s 387us/step - loss: 0.5230 - accuracy: 0.8060 - val_loss: 1.0270 - val_accuracy: 0.5405\n",
            "Epoch 362/500\n",
            "67/67 [==============================] - 0s 310us/step - loss: 0.5225 - accuracy: 0.8060 - val_loss: 1.0234 - val_accuracy: 0.5405\n",
            "Epoch 363/500\n",
            "67/67 [==============================] - 0s 306us/step - loss: 0.5200 - accuracy: 0.8060 - val_loss: 1.0261 - val_accuracy: 0.5405\n",
            "Epoch 364/500\n",
            "67/67 [==============================] - 0s 276us/step - loss: 0.5212 - accuracy: 0.8060 - val_loss: 1.0218 - val_accuracy: 0.5405\n",
            "Epoch 365/500\n",
            "67/67 [==============================] - 0s 310us/step - loss: 0.5223 - accuracy: 0.8060 - val_loss: 1.0189 - val_accuracy: 0.5135\n",
            "Epoch 366/500\n",
            "67/67 [==============================] - 0s 315us/step - loss: 0.5184 - accuracy: 0.8060 - val_loss: 1.0207 - val_accuracy: 0.5135\n",
            "Epoch 367/500\n",
            "67/67 [==============================] - 0s 221us/step - loss: 0.5169 - accuracy: 0.8060 - val_loss: 1.0225 - val_accuracy: 0.5405\n",
            "Epoch 368/500\n",
            "67/67 [==============================] - 0s 213us/step - loss: 0.5176 - accuracy: 0.7910 - val_loss: 1.0226 - val_accuracy: 0.5405\n",
            "Epoch 369/500\n",
            "67/67 [==============================] - 0s 226us/step - loss: 0.5155 - accuracy: 0.8060 - val_loss: 1.0204 - val_accuracy: 0.5405\n",
            "Epoch 370/500\n",
            "67/67 [==============================] - 0s 392us/step - loss: 0.5126 - accuracy: 0.8060 - val_loss: 1.0243 - val_accuracy: 0.5405\n",
            "Epoch 371/500\n",
            "67/67 [==============================] - 0s 307us/step - loss: 0.5128 - accuracy: 0.8060 - val_loss: 1.0264 - val_accuracy: 0.5405\n",
            "Epoch 372/500\n",
            "67/67 [==============================] - 0s 433us/step - loss: 0.5116 - accuracy: 0.8060 - val_loss: 1.0275 - val_accuracy: 0.5405\n",
            "Epoch 373/500\n",
            "67/67 [==============================] - 0s 328us/step - loss: 0.5109 - accuracy: 0.8060 - val_loss: 1.0299 - val_accuracy: 0.5405\n",
            "Epoch 374/500\n",
            "67/67 [==============================] - 0s 229us/step - loss: 0.5101 - accuracy: 0.8060 - val_loss: 1.0282 - val_accuracy: 0.5405\n",
            "Epoch 375/500\n",
            "67/67 [==============================] - 0s 298us/step - loss: 0.5103 - accuracy: 0.8060 - val_loss: 1.0380 - val_accuracy: 0.5405\n",
            "Epoch 376/500\n",
            "67/67 [==============================] - 0s 383us/step - loss: 0.5080 - accuracy: 0.8060 - val_loss: 1.0380 - val_accuracy: 0.5405\n",
            "Epoch 377/500\n",
            "67/67 [==============================] - 0s 199us/step - loss: 0.5038 - accuracy: 0.8060 - val_loss: 1.0401 - val_accuracy: 0.5135\n",
            "Epoch 378/500\n",
            "67/67 [==============================] - 0s 207us/step - loss: 0.5046 - accuracy: 0.8060 - val_loss: 1.0347 - val_accuracy: 0.5135\n",
            "Epoch 379/500\n",
            "67/67 [==============================] - 0s 191us/step - loss: 0.5047 - accuracy: 0.8060 - val_loss: 1.0347 - val_accuracy: 0.5135\n",
            "Epoch 380/500\n",
            "67/67 [==============================] - 0s 275us/step - loss: 0.5014 - accuracy: 0.8060 - val_loss: 1.0364 - val_accuracy: 0.5135\n",
            "Epoch 381/500\n",
            "67/67 [==============================] - 0s 328us/step - loss: 0.5002 - accuracy: 0.8060 - val_loss: 1.0370 - val_accuracy: 0.5135\n",
            "Epoch 382/500\n",
            "67/67 [==============================] - 0s 237us/step - loss: 0.5005 - accuracy: 0.8060 - val_loss: 1.0384 - val_accuracy: 0.5135\n",
            "Epoch 383/500\n",
            "67/67 [==============================] - 0s 235us/step - loss: 0.4985 - accuracy: 0.8060 - val_loss: 1.0374 - val_accuracy: 0.5135\n",
            "Epoch 384/500\n",
            "67/67 [==============================] - 0s 301us/step - loss: 0.4975 - accuracy: 0.8060 - val_loss: 1.0397 - val_accuracy: 0.5135\n",
            "Epoch 385/500\n",
            "67/67 [==============================] - 0s 228us/step - loss: 0.4960 - accuracy: 0.8060 - val_loss: 1.0391 - val_accuracy: 0.5135\n",
            "Epoch 386/500\n",
            "67/67 [==============================] - 0s 215us/step - loss: 0.4966 - accuracy: 0.8060 - val_loss: 1.0387 - val_accuracy: 0.5135\n",
            "Epoch 387/500\n",
            "67/67 [==============================] - 0s 345us/step - loss: 0.4945 - accuracy: 0.8060 - val_loss: 1.0422 - val_accuracy: 0.5135\n",
            "Epoch 388/500\n",
            "67/67 [==============================] - 0s 227us/step - loss: 0.4941 - accuracy: 0.8060 - val_loss: 1.0420 - val_accuracy: 0.5135\n",
            "Epoch 389/500\n",
            "67/67 [==============================] - 0s 213us/step - loss: 0.4928 - accuracy: 0.8060 - val_loss: 1.0416 - val_accuracy: 0.5135\n",
            "Epoch 390/500\n",
            "67/67 [==============================] - 0s 211us/step - loss: 0.4907 - accuracy: 0.8060 - val_loss: 1.0433 - val_accuracy: 0.5135\n",
            "Epoch 391/500\n",
            "67/67 [==============================] - 0s 206us/step - loss: 0.4908 - accuracy: 0.8209 - val_loss: 1.0432 - val_accuracy: 0.5135\n",
            "Epoch 392/500\n",
            "67/67 [==============================] - 0s 312us/step - loss: 0.4884 - accuracy: 0.8060 - val_loss: 1.0448 - val_accuracy: 0.5135\n",
            "Epoch 393/500\n",
            "67/67 [==============================] - 0s 225us/step - loss: 0.4906 - accuracy: 0.8209 - val_loss: 1.0496 - val_accuracy: 0.5135\n",
            "Epoch 394/500\n",
            "67/67 [==============================] - 0s 222us/step - loss: 0.4865 - accuracy: 0.8209 - val_loss: 1.0462 - val_accuracy: 0.5135\n",
            "Epoch 395/500\n",
            "67/67 [==============================] - 0s 249us/step - loss: 0.4872 - accuracy: 0.8209 - val_loss: 1.0439 - val_accuracy: 0.5135\n",
            "Epoch 396/500\n",
            "67/67 [==============================] - 0s 220us/step - loss: 0.4835 - accuracy: 0.8209 - val_loss: 1.0476 - val_accuracy: 0.5135\n",
            "Epoch 397/500\n",
            "67/67 [==============================] - 0s 388us/step - loss: 0.4826 - accuracy: 0.8209 - val_loss: 1.0511 - val_accuracy: 0.5135\n",
            "Epoch 398/500\n",
            "67/67 [==============================] - 0s 220us/step - loss: 0.4821 - accuracy: 0.8209 - val_loss: 1.0523 - val_accuracy: 0.5135\n",
            "Epoch 399/500\n",
            "67/67 [==============================] - 0s 218us/step - loss: 0.4844 - accuracy: 0.8209 - val_loss: 1.0545 - val_accuracy: 0.5405\n",
            "Epoch 400/500\n",
            "67/67 [==============================] - 0s 229us/step - loss: 0.4810 - accuracy: 0.8209 - val_loss: 1.0528 - val_accuracy: 0.5405\n",
            "Epoch 401/500\n",
            "67/67 [==============================] - 0s 243us/step - loss: 0.4816 - accuracy: 0.8358 - val_loss: 1.0538 - val_accuracy: 0.5135\n",
            "Epoch 402/500\n",
            "67/67 [==============================] - 0s 228us/step - loss: 0.4784 - accuracy: 0.8358 - val_loss: 1.0551 - val_accuracy: 0.5135\n",
            "Epoch 403/500\n",
            "67/67 [==============================] - 0s 222us/step - loss: 0.4771 - accuracy: 0.8209 - val_loss: 1.0556 - val_accuracy: 0.5135\n",
            "Epoch 404/500\n",
            "67/67 [==============================] - 0s 329us/step - loss: 0.4776 - accuracy: 0.8209 - val_loss: 1.0585 - val_accuracy: 0.5135\n",
            "Epoch 405/500\n",
            "67/67 [==============================] - 0s 254us/step - loss: 0.4750 - accuracy: 0.8209 - val_loss: 1.0583 - val_accuracy: 0.5135\n",
            "Epoch 406/500\n",
            "67/67 [==============================] - 0s 230us/step - loss: 0.4753 - accuracy: 0.8209 - val_loss: 1.0595 - val_accuracy: 0.5135\n",
            "Epoch 407/500\n",
            "67/67 [==============================] - 0s 238us/step - loss: 0.4739 - accuracy: 0.8209 - val_loss: 1.0613 - val_accuracy: 0.5135\n",
            "Epoch 408/500\n",
            "67/67 [==============================] - 0s 237us/step - loss: 0.4726 - accuracy: 0.8209 - val_loss: 1.0650 - val_accuracy: 0.5135\n",
            "Epoch 409/500\n",
            "67/67 [==============================] - 0s 226us/step - loss: 0.4720 - accuracy: 0.8209 - val_loss: 1.0671 - val_accuracy: 0.5135\n",
            "Epoch 410/500\n",
            "67/67 [==============================] - 0s 254us/step - loss: 0.4724 - accuracy: 0.8358 - val_loss: 1.0694 - val_accuracy: 0.5135\n",
            "Epoch 411/500\n",
            "67/67 [==============================] - 0s 286us/step - loss: 0.4719 - accuracy: 0.8209 - val_loss: 1.0662 - val_accuracy: 0.5135\n",
            "Epoch 412/500\n",
            "67/67 [==============================] - 0s 264us/step - loss: 0.4674 - accuracy: 0.8209 - val_loss: 1.0649 - val_accuracy: 0.5135\n",
            "Epoch 413/500\n",
            "67/67 [==============================] - 0s 285us/step - loss: 0.4673 - accuracy: 0.8209 - val_loss: 1.0642 - val_accuracy: 0.5135\n",
            "Epoch 414/500\n",
            "67/67 [==============================] - 0s 394us/step - loss: 0.4647 - accuracy: 0.8209 - val_loss: 1.0632 - val_accuracy: 0.5135\n",
            "Epoch 415/500\n",
            "67/67 [==============================] - 0s 222us/step - loss: 0.4641 - accuracy: 0.8209 - val_loss: 1.0660 - val_accuracy: 0.5135\n",
            "Epoch 416/500\n",
            "67/67 [==============================] - 0s 332us/step - loss: 0.4658 - accuracy: 0.8209 - val_loss: 1.0707 - val_accuracy: 0.5135\n",
            "Epoch 417/500\n",
            "67/67 [==============================] - 0s 255us/step - loss: 0.4644 - accuracy: 0.8209 - val_loss: 1.0722 - val_accuracy: 0.5135\n",
            "Epoch 418/500\n",
            "67/67 [==============================] - 0s 220us/step - loss: 0.4614 - accuracy: 0.8209 - val_loss: 1.0691 - val_accuracy: 0.5135\n",
            "Epoch 419/500\n",
            "67/67 [==============================] - 0s 223us/step - loss: 0.4616 - accuracy: 0.8209 - val_loss: 1.0724 - val_accuracy: 0.5135\n",
            "Epoch 420/500\n",
            "67/67 [==============================] - 0s 257us/step - loss: 0.4609 - accuracy: 0.8358 - val_loss: 1.0677 - val_accuracy: 0.5135\n",
            "Epoch 421/500\n",
            "67/67 [==============================] - 0s 257us/step - loss: 0.4584 - accuracy: 0.8209 - val_loss: 1.0692 - val_accuracy: 0.5135\n",
            "Epoch 422/500\n",
            "67/67 [==============================] - 0s 203us/step - loss: 0.4582 - accuracy: 0.8358 - val_loss: 1.0707 - val_accuracy: 0.5135\n",
            "Epoch 423/500\n",
            "67/67 [==============================] - 0s 253us/step - loss: 0.4563 - accuracy: 0.8209 - val_loss: 1.0729 - val_accuracy: 0.5135\n",
            "Epoch 424/500\n",
            "67/67 [==============================] - 0s 283us/step - loss: 0.4568 - accuracy: 0.8209 - val_loss: 1.0707 - val_accuracy: 0.5135\n",
            "Epoch 425/500\n",
            "67/67 [==============================] - 0s 238us/step - loss: 0.4538 - accuracy: 0.8209 - val_loss: 1.0736 - val_accuracy: 0.5135\n",
            "Epoch 426/500\n",
            "67/67 [==============================] - 0s 262us/step - loss: 0.4541 - accuracy: 0.8209 - val_loss: 1.0758 - val_accuracy: 0.5135\n",
            "Epoch 427/500\n",
            "67/67 [==============================] - 0s 231us/step - loss: 0.4541 - accuracy: 0.8209 - val_loss: 1.0740 - val_accuracy: 0.5135\n",
            "Epoch 428/500\n",
            "67/67 [==============================] - 0s 270us/step - loss: 0.4508 - accuracy: 0.8209 - val_loss: 1.0750 - val_accuracy: 0.5135\n",
            "Epoch 429/500\n",
            "67/67 [==============================] - 0s 236us/step - loss: 0.4499 - accuracy: 0.8209 - val_loss: 1.0734 - val_accuracy: 0.5135\n",
            "Epoch 430/500\n",
            "67/67 [==============================] - 0s 284us/step - loss: 0.4497 - accuracy: 0.8209 - val_loss: 1.0774 - val_accuracy: 0.5135\n",
            "Epoch 431/500\n",
            "67/67 [==============================] - 0s 321us/step - loss: 0.4499 - accuracy: 0.8209 - val_loss: 1.0751 - val_accuracy: 0.5135\n",
            "Epoch 432/500\n",
            "67/67 [==============================] - 0s 221us/step - loss: 0.4469 - accuracy: 0.8358 - val_loss: 1.0781 - val_accuracy: 0.5135\n",
            "Epoch 433/500\n",
            "67/67 [==============================] - 0s 247us/step - loss: 0.4460 - accuracy: 0.8209 - val_loss: 1.0842 - val_accuracy: 0.5135\n",
            "Epoch 434/500\n",
            "67/67 [==============================] - 0s 267us/step - loss: 0.4446 - accuracy: 0.8358 - val_loss: 1.0801 - val_accuracy: 0.5135\n",
            "Epoch 435/500\n",
            "67/67 [==============================] - 0s 287us/step - loss: 0.4436 - accuracy: 0.8209 - val_loss: 1.0823 - val_accuracy: 0.5135\n",
            "Epoch 436/500\n",
            "67/67 [==============================] - 0s 489us/step - loss: 0.4440 - accuracy: 0.8358 - val_loss: 1.0867 - val_accuracy: 0.5135\n",
            "Epoch 437/500\n",
            "67/67 [==============================] - 0s 369us/step - loss: 0.4424 - accuracy: 0.8358 - val_loss: 1.0818 - val_accuracy: 0.5405\n",
            "Epoch 438/500\n",
            "67/67 [==============================] - 0s 240us/step - loss: 0.4399 - accuracy: 0.8209 - val_loss: 1.0843 - val_accuracy: 0.5135\n",
            "Epoch 439/500\n",
            "67/67 [==============================] - 0s 204us/step - loss: 0.4415 - accuracy: 0.8358 - val_loss: 1.0842 - val_accuracy: 0.5135\n",
            "Epoch 440/500\n",
            "67/67 [==============================] - 0s 331us/step - loss: 0.4384 - accuracy: 0.8209 - val_loss: 1.0870 - val_accuracy: 0.5135\n",
            "Epoch 441/500\n",
            "67/67 [==============================] - 0s 239us/step - loss: 0.4367 - accuracy: 0.8209 - val_loss: 1.0847 - val_accuracy: 0.5405\n",
            "Epoch 442/500\n",
            "67/67 [==============================] - 0s 231us/step - loss: 0.4390 - accuracy: 0.8358 - val_loss: 1.0892 - val_accuracy: 0.5135\n",
            "Epoch 443/500\n",
            "67/67 [==============================] - 0s 215us/step - loss: 0.4352 - accuracy: 0.8358 - val_loss: 1.0899 - val_accuracy: 0.5135\n",
            "Epoch 444/500\n",
            "67/67 [==============================] - 0s 181us/step - loss: 0.4344 - accuracy: 0.8358 - val_loss: 1.0885 - val_accuracy: 0.5405\n",
            "Epoch 445/500\n",
            "67/67 [==============================] - 0s 197us/step - loss: 0.4345 - accuracy: 0.8358 - val_loss: 1.0919 - val_accuracy: 0.5135\n",
            "Epoch 446/500\n",
            "67/67 [==============================] - 0s 184us/step - loss: 0.4342 - accuracy: 0.8209 - val_loss: 1.0903 - val_accuracy: 0.5405\n",
            "Epoch 447/500\n",
            "67/67 [==============================] - 0s 259us/step - loss: 0.4337 - accuracy: 0.8358 - val_loss: 1.0943 - val_accuracy: 0.5405\n",
            "Epoch 448/500\n",
            "67/67 [==============================] - 0s 244us/step - loss: 0.4300 - accuracy: 0.8358 - val_loss: 1.0946 - val_accuracy: 0.5405\n",
            "Epoch 449/500\n",
            "67/67 [==============================] - 0s 203us/step - loss: 0.4290 - accuracy: 0.8358 - val_loss: 1.0948 - val_accuracy: 0.5405\n",
            "Epoch 450/500\n",
            "67/67 [==============================] - 0s 209us/step - loss: 0.4280 - accuracy: 0.8358 - val_loss: 1.0994 - val_accuracy: 0.5405\n",
            "Epoch 451/500\n",
            "67/67 [==============================] - 0s 233us/step - loss: 0.4274 - accuracy: 0.8358 - val_loss: 1.0958 - val_accuracy: 0.5405\n",
            "Epoch 452/500\n",
            "67/67 [==============================] - 0s 279us/step - loss: 0.4264 - accuracy: 0.8358 - val_loss: 1.1023 - val_accuracy: 0.5405\n",
            "Epoch 453/500\n",
            "67/67 [==============================] - 0s 225us/step - loss: 0.4280 - accuracy: 0.8358 - val_loss: 1.1024 - val_accuracy: 0.5135\n",
            "Epoch 454/500\n",
            "67/67 [==============================] - 0s 232us/step - loss: 0.4241 - accuracy: 0.8358 - val_loss: 1.1058 - val_accuracy: 0.5135\n",
            "Epoch 455/500\n",
            "67/67 [==============================] - 0s 205us/step - loss: 0.4244 - accuracy: 0.8358 - val_loss: 1.1087 - val_accuracy: 0.5135\n",
            "Epoch 456/500\n",
            "67/67 [==============================] - 0s 414us/step - loss: 0.4235 - accuracy: 0.8209 - val_loss: 1.1100 - val_accuracy: 0.5135\n",
            "Epoch 457/500\n",
            "67/67 [==============================] - 0s 203us/step - loss: 0.4204 - accuracy: 0.8358 - val_loss: 1.1101 - val_accuracy: 0.5135\n",
            "Epoch 458/500\n",
            "67/67 [==============================] - 0s 316us/step - loss: 0.4218 - accuracy: 0.8358 - val_loss: 1.1130 - val_accuracy: 0.5135\n",
            "Epoch 459/500\n",
            "67/67 [==============================] - 0s 237us/step - loss: 0.4192 - accuracy: 0.8358 - val_loss: 1.1093 - val_accuracy: 0.5135\n",
            "Epoch 460/500\n",
            "67/67 [==============================] - 0s 219us/step - loss: 0.4189 - accuracy: 0.8358 - val_loss: 1.1101 - val_accuracy: 0.5135\n",
            "Epoch 461/500\n",
            "67/67 [==============================] - 0s 281us/step - loss: 0.4168 - accuracy: 0.8358 - val_loss: 1.1087 - val_accuracy: 0.5135\n",
            "Epoch 462/500\n",
            "67/67 [==============================] - 0s 271us/step - loss: 0.4168 - accuracy: 0.8358 - val_loss: 1.1127 - val_accuracy: 0.5135\n",
            "Epoch 463/500\n",
            "67/67 [==============================] - 0s 290us/step - loss: 0.4150 - accuracy: 0.8358 - val_loss: 1.1139 - val_accuracy: 0.5135\n",
            "Epoch 464/500\n",
            "67/67 [==============================] - 0s 191us/step - loss: 0.4138 - accuracy: 0.8358 - val_loss: 1.1155 - val_accuracy: 0.5135\n",
            "Epoch 465/500\n",
            "67/67 [==============================] - 0s 264us/step - loss: 0.4124 - accuracy: 0.8358 - val_loss: 1.1123 - val_accuracy: 0.5405\n",
            "Epoch 466/500\n",
            "67/67 [==============================] - 0s 263us/step - loss: 0.4114 - accuracy: 0.8358 - val_loss: 1.1117 - val_accuracy: 0.5405\n",
            "Epoch 467/500\n",
            "67/67 [==============================] - 0s 316us/step - loss: 0.4133 - accuracy: 0.8358 - val_loss: 1.1133 - val_accuracy: 0.5405\n",
            "Epoch 468/500\n",
            "67/67 [==============================] - 0s 365us/step - loss: 0.4136 - accuracy: 0.8358 - val_loss: 1.1176 - val_accuracy: 0.5405\n",
            "Epoch 469/500\n",
            "67/67 [==============================] - 0s 226us/step - loss: 0.4085 - accuracy: 0.8358 - val_loss: 1.1146 - val_accuracy: 0.5135\n",
            "Epoch 470/500\n",
            "67/67 [==============================] - 0s 227us/step - loss: 0.4088 - accuracy: 0.8358 - val_loss: 1.1178 - val_accuracy: 0.5405\n",
            "Epoch 471/500\n",
            "67/67 [==============================] - 0s 221us/step - loss: 0.4106 - accuracy: 0.8358 - val_loss: 1.1216 - val_accuracy: 0.5135\n",
            "Epoch 472/500\n",
            "67/67 [==============================] - 0s 274us/step - loss: 0.4077 - accuracy: 0.8358 - val_loss: 1.1170 - val_accuracy: 0.5135\n",
            "Epoch 473/500\n",
            "67/67 [==============================] - 0s 244us/step - loss: 0.4048 - accuracy: 0.8358 - val_loss: 1.1177 - val_accuracy: 0.5405\n",
            "Epoch 474/500\n",
            "67/67 [==============================] - 0s 250us/step - loss: 0.4058 - accuracy: 0.8358 - val_loss: 1.1196 - val_accuracy: 0.5135\n",
            "Epoch 475/500\n",
            "67/67 [==============================] - 0s 245us/step - loss: 0.4028 - accuracy: 0.8358 - val_loss: 1.1208 - val_accuracy: 0.5135\n",
            "Epoch 476/500\n",
            "67/67 [==============================] - 0s 293us/step - loss: 0.4017 - accuracy: 0.8358 - val_loss: 1.1181 - val_accuracy: 0.5405\n",
            "Epoch 477/500\n",
            "67/67 [==============================] - 0s 318us/step - loss: 0.4006 - accuracy: 0.8358 - val_loss: 1.1200 - val_accuracy: 0.5135\n",
            "Epoch 478/500\n",
            "67/67 [==============================] - 0s 252us/step - loss: 0.3997 - accuracy: 0.8358 - val_loss: 1.1214 - val_accuracy: 0.5405\n",
            "Epoch 479/500\n",
            "67/67 [==============================] - 0s 226us/step - loss: 0.3983 - accuracy: 0.8358 - val_loss: 1.1215 - val_accuracy: 0.5676\n",
            "Epoch 480/500\n",
            "67/67 [==============================] - 0s 310us/step - loss: 0.3968 - accuracy: 0.8358 - val_loss: 1.1227 - val_accuracy: 0.5405\n",
            "Epoch 481/500\n",
            "67/67 [==============================] - 0s 292us/step - loss: 0.3962 - accuracy: 0.8358 - val_loss: 1.1231 - val_accuracy: 0.5135\n",
            "Epoch 482/500\n",
            "67/67 [==============================] - 0s 432us/step - loss: 0.3947 - accuracy: 0.8358 - val_loss: 1.1254 - val_accuracy: 0.5135\n",
            "Epoch 483/500\n",
            "67/67 [==============================] - 0s 258us/step - loss: 0.3974 - accuracy: 0.8358 - val_loss: 1.1272 - val_accuracy: 0.5405\n",
            "Epoch 484/500\n",
            "67/67 [==============================] - 0s 251us/step - loss: 0.3941 - accuracy: 0.8358 - val_loss: 1.1282 - val_accuracy: 0.5405\n",
            "Epoch 485/500\n",
            "67/67 [==============================] - 0s 231us/step - loss: 0.3963 - accuracy: 0.8358 - val_loss: 1.1291 - val_accuracy: 0.5405\n",
            "Epoch 486/500\n",
            "67/67 [==============================] - 0s 268us/step - loss: 0.3923 - accuracy: 0.8358 - val_loss: 1.1278 - val_accuracy: 0.5135\n",
            "Epoch 487/500\n",
            "67/67 [==============================] - 0s 242us/step - loss: 0.3927 - accuracy: 0.8358 - val_loss: 1.1240 - val_accuracy: 0.5405\n",
            "Epoch 488/500\n",
            "67/67 [==============================] - 0s 247us/step - loss: 0.3909 - accuracy: 0.8358 - val_loss: 1.1265 - val_accuracy: 0.5676\n",
            "Epoch 489/500\n",
            "67/67 [==============================] - 0s 245us/step - loss: 0.3896 - accuracy: 0.8358 - val_loss: 1.1299 - val_accuracy: 0.5405\n",
            "Epoch 490/500\n",
            "67/67 [==============================] - 0s 255us/step - loss: 0.3898 - accuracy: 0.8358 - val_loss: 1.1317 - val_accuracy: 0.5135\n",
            "Epoch 491/500\n",
            "67/67 [==============================] - 0s 300us/step - loss: 0.3880 - accuracy: 0.8358 - val_loss: 1.1276 - val_accuracy: 0.5676\n",
            "Epoch 492/500\n",
            "67/67 [==============================] - 0s 243us/step - loss: 0.3848 - accuracy: 0.8507 - val_loss: 1.1336 - val_accuracy: 0.5405\n",
            "Epoch 493/500\n",
            "67/67 [==============================] - 0s 226us/step - loss: 0.3843 - accuracy: 0.8358 - val_loss: 1.1326 - val_accuracy: 0.5135\n",
            "Epoch 494/500\n",
            "67/67 [==============================] - 0s 218us/step - loss: 0.3848 - accuracy: 0.8507 - val_loss: 1.1361 - val_accuracy: 0.5135\n",
            "Epoch 495/500\n",
            "67/67 [==============================] - 0s 236us/step - loss: 0.3837 - accuracy: 0.8358 - val_loss: 1.1387 - val_accuracy: 0.5135\n",
            "Epoch 496/500\n",
            "67/67 [==============================] - 0s 468us/step - loss: 0.3826 - accuracy: 0.8507 - val_loss: 1.1392 - val_accuracy: 0.5405\n",
            "Epoch 497/500\n",
            "67/67 [==============================] - 0s 542us/step - loss: 0.3812 - accuracy: 0.8358 - val_loss: 1.1384 - val_accuracy: 0.5405\n",
            "Epoch 498/500\n",
            "67/67 [==============================] - 0s 262us/step - loss: 0.3791 - accuracy: 0.8358 - val_loss: 1.1424 - val_accuracy: 0.5405\n",
            "Epoch 499/500\n",
            "67/67 [==============================] - 0s 498us/step - loss: 0.3782 - accuracy: 0.8358 - val_loss: 1.1439 - val_accuracy: 0.5405\n",
            "Epoch 500/500\n",
            "67/67 [==============================] - 0s 269us/step - loss: 0.3764 - accuracy: 0.8507 - val_loss: 1.1455 - val_accuracy: 0.5405\n"
          ],
          "name": "stdout"
        },
        {
          "output_type": "execute_result",
          "data": {
            "text/plain": [
              "<keras.callbacks.callbacks.History at 0x7faa67f7ec50>"
            ]
          },
          "metadata": {
            "tags": []
          },
          "execution_count": 46
        }
      ]
    },
    {
      "cell_type": "code",
      "metadata": {
        "colab": {
          "base_uri": "https://localhost:8080/"
        },
        "id": "GoLyxu4IcJjs",
        "outputId": "6eee730b-4754-4a1f-b274-e50c353ea7a9"
      },
      "source": [
        "print(model.predict_classes(preprocessor(X_test)))\r\n",
        "\r\n",
        "prediction_index=model.predict_classes(preprocessor(X_test))\r\n",
        "\r\n",
        "labels=pd.get_dummies(y_train).columns\r\n",
        "\r\n",
        "predicted_labels = list(map(lambda x: labels[x], prediction_index))\r\n",
        "\r\n",
        "print(predicted_labels)"
      ],
      "execution_count": 47,
      "outputs": [
        {
          "output_type": "stream",
          "text": [
            "[1 1 4 2 2 4 3 2 1 2 2 4 1 1 2 0 4 1 1 3 4 4 4 4 3 3 1 3 3 1 1 3 3 2 1 2 0\n",
            " 2 3 1 1 4 3 1 4 3 4 3 0 0 3 1]\n",
            "['High', 'High', 'Very Low', 'Low', 'Low', 'Very Low', 'Very High', 'Low', 'High', 'Low', 'Low', 'Very Low', 'High', 'High', 'Low', 'Average', 'Very Low', 'High', 'High', 'Very High', 'Very Low', 'Very Low', 'Very Low', 'Very Low', 'Very High', 'Very High', 'High', 'Very High', 'Very High', 'High', 'High', 'Very High', 'Very High', 'Low', 'High', 'Low', 'Average', 'Low', 'Very High', 'High', 'High', 'Very Low', 'Very High', 'High', 'Very Low', 'Very High', 'Very Low', 'Very High', 'Average', 'Average', 'Very High', 'High']\n"
          ],
          "name": "stdout"
        }
      ]
    },
    {
      "cell_type": "code",
      "metadata": {
        "id": "GsTGiKDofyf8"
      },
      "source": [
        "from sklearn.metrics import classification_report\r\n",
        "import matplotlib.pyplot as plt\r\n",
        "from sklearn.metrics import confusion_matrix, accuracy_score\r\n",
        "from mlxtend.plotting import plot_confusion_matrix\r\n",
        "from sklearn.multioutput import MultiOutputClassifier"
      ],
      "execution_count": 48,
      "outputs": []
    },
    {
      "cell_type": "code",
      "metadata": {
        "colab": {
          "base_uri": "https://localhost:8080/",
          "height": 334
        },
        "id": "-1-PJ-y4j1jh",
        "outputId": "8ffab896-4a86-4df7-f9b7-ebce3c74ebe1"
      },
      "source": [
        "CM = confusion_matrix(y_test, predicted_labels)\r\n",
        "fig, ax = plot_confusion_matrix(conf_mat=CM ,  figsize=(5, 5))\r\n",
        "plt.show()"
      ],
      "execution_count": 49,
      "outputs": [
        {
          "output_type": "display_data",
          "data": {
            "image/png": "[encoded data removed]",
            "text/plain": [
              "<Figure size 360x360 with 1 Axes>"
            ]
          },
          "metadata": {
            "tags": [],
            "needs_background": "light"
          }
        }
      ]
    },
    {
      "cell_type": "code",
      "metadata": {
        "id": "HCMODpzPlU4U"
      },
      "source": [
        "from sklearn.ensemble import RandomForestClassifier\r\n",
        "import numpy as np"
      ],
      "execution_count": 50,
      "outputs": []
    },
    {
      "cell_type": "code",
      "metadata": {
        "id": "fejQRuovlf0d"
      },
      "source": [
        "model_rand = RandomForestClassifier(n_estimators=1000, criterion = \"entropy\", max_depth = 5, random_state = 0)"
      ],
      "execution_count": 51,
      "outputs": []
    },
    {
      "cell_type": "code",
      "metadata": {
        "colab": {
          "base_uri": "https://localhost:8080/"
        },
        "id": "x_e2NkCDnywy",
        "outputId": "db960ae0-b3e3-4050-9b64-fe78ce20af7c"
      },
      "source": [
        "model_rand.fit(preprocessor(X_train), y_train)"
      ],
      "execution_count": 52,
      "outputs": [
        {
          "output_type": "execute_result",
          "data": {
            "text/plain": [
              "RandomForestClassifier(criterion='entropy', max_depth=5, n_estimators=1000,\n",
              "                       random_state=0)"
            ]
          },
          "metadata": {
            "tags": []
          },
          "execution_count": 52
        }
      ]
    },
    {
      "cell_type": "code",
      "metadata": {
        "colab": {
          "base_uri": "https://localhost:8080/"
        },
        "id": "WESDf3iIsbqI",
        "outputId": "73909d4b-1ad6-426d-ad1a-f5044ea7d48b"
      },
      "source": [
        "print(\"Random Forest Classifier's cross validation accuracy:\", np.mean(cross_val_score(model_rand, preprocessor(X_train), y_train, cv=10)))\r\n",
        "print(\"Random Forest Classifier's Test-Data prediction accuracy: {:.5f}\".format(model_rand.score(preprocessor(X_test), y_test)))"
      ],
      "execution_count": 53,
      "outputs": [
        {
          "output_type": "stream",
          "text": [
            "Random Forest Classifier's cross validation accuracy: 0.5536363636363636\n",
            "Random Forest Classifier's Test-Data prediction accuracy: 0.50000\n"
          ],
          "name": "stdout"
        }
      ]
    },
    {
      "cell_type": "code",
      "metadata": {
        "colab": {
          "base_uri": "https://localhost:8080/",
          "height": 334
        },
        "id": "KeUicc-msPhi",
        "outputId": "a1e3060c-220e-4bbf-ce44-030d6b9b1e3c"
      },
      "source": [
        "CM = confusion_matrix(y_test, model_rand.predict(preprocessor(X_test)))\r\n",
        "\r\n",
        "fig, ax = plot_confusion_matrix(conf_mat=CM ,  figsize=(5, 5))\r\n",
        "plt.show()"
      ],
      "execution_count": 54,
      "outputs": [
        {
          "output_type": "display_data",
          "data": {
            "image/png": "[encoded data removed]",
            "text/plain": [
              "<Figure size 360x360 with 1 Axes>"
            ]
          },
          "metadata": {
            "tags": [],
            "needs_background": "light"
          }
        }
      ]
    },
    {
      "cell_type": "code",
      "metadata": {
        "id": "pr7FNO6spf-k"
      },
      "source": [
        "from sklearn.svm import SVC"
      ],
      "execution_count": 55,
      "outputs": []
    },
    {
      "cell_type": "code",
      "metadata": {
        "colab": {
          "base_uri": "https://localhost:8080/"
        },
        "id": "uOtSCuUTpiWo",
        "outputId": "998b0073-5cc2-44b8-aa13-becfe75f617a"
      },
      "source": [
        "svc_pipe = Pipeline([('svc', SVC())])\r\n",
        "\r\n",
        "svc_p = {\r\n",
        "    'svc__C': [1, .5, 1e-1, 1e-2, 1e-3],\r\n",
        "    'svc__gamma': ['scale', 'auto'],\r\n",
        "}\r\n",
        "\r\n",
        "svc = GridSearchCV(estimator = svc_pipe, param_grid = svc_p, cv = 3)\r\n",
        "\r\n",
        "svc.fit(preprocessor(X_train), y_train)"
      ],
      "execution_count": 56,
      "outputs": [
        {
          "output_type": "execute_result",
          "data": {
            "text/plain": [
              "GridSearchCV(cv=3, estimator=Pipeline(steps=[('svc', SVC())]),\n",
              "             param_grid={'svc__C': [1, 0.5, 0.1, 0.01, 0.001],\n",
              "                         'svc__gamma': ['scale', 'auto']})"
            ]
          },
          "metadata": {
            "tags": []
          },
          "execution_count": 56
        }
      ]
    },
    {
      "cell_type": "code",
      "metadata": {
        "colab": {
          "base_uri": "https://localhost:8080/"
        },
        "id": "w45mRw4NwE44",
        "outputId": "d37dabc5-676e-4502-d1e7-d49964440278"
      },
      "source": [
        "print(svc.best_params_)"
      ],
      "execution_count": 57,
      "outputs": [
        {
          "output_type": "stream",
          "text": [
            "{'svc__C': 1, 'svc__gamma': 'scale'}\n"
          ],
          "name": "stdout"
        }
      ]
    },
    {
      "cell_type": "code",
      "metadata": {
        "colab": {
          "base_uri": "https://localhost:8080/"
        },
        "id": "5yHq362Fux0P",
        "outputId": "26f51aee-881d-4e8c-d6f4-c23f210e34a7"
      },
      "source": [
        "print(\"SVC's cross validation accuracy:\", np.mean(cross_val_score(svc, preprocessor(X_train), y_train, cv=10)))\r\n",
        "print(\"SVC's Test-Data prediction accuracy: {:.5f}\".format(svc.score(preprocessor(X_test), y_test)))"
      ],
      "execution_count": 58,
      "outputs": [
        {
          "output_type": "stream",
          "text": [
            "SVC's cross validation accuracy: 0.5900000000000001\n",
            "SVC's Test-Data prediction accuracy: 0.55769\n"
          ],
          "name": "stdout"
        }
      ]
    },
    {
      "cell_type": "code",
      "metadata": {
        "colab": {
          "base_uri": "https://localhost:8080/",
          "height": 334
        },
        "id": "pBenUhNPu5vz",
        "outputId": "45735ada-598c-4b61-e9dc-a66e2c98dc8e"
      },
      "source": [
        "CM = confusion_matrix(y_test, svc.predict(preprocessor(X_test)))\r\n",
        "\r\n",
        "fig, ax = plot_confusion_matrix(conf_mat=CM ,  figsize=(5, 5))\r\n",
        "plt.show()"
      ],
      "execution_count": 59,
      "outputs": [
        {
          "output_type": "display_data",
          "data": {
            "image/png": "[encoded data removed]",
            "text/plain": [
              "<Figure size 360x360 with 1 Axes>"
            ]
          },
          "metadata": {
            "tags": [],
            "needs_background": "light"
          }
        }
      ]
    },
    {
      "cell_type": "markdown",
      "metadata": {
        "id": "I2m1e_Wqf0UG"
      },
      "source": [
        "Publicizing Work"
      ]
    },
    {
      "cell_type": "code",
      "metadata": {
        "colab": {
          "base_uri": "https://localhost:8080/"
        },
        "id": "KOl6T7PgjJQ2",
        "outputId": "6185781e-70b3-48c4-d7b0-5526e6fed048"
      },
      "source": [
        "! pip install aimodelshare --upgrade --extra-index-url https://test.pypi.org/simple/ "
      ],
      "execution_count": 60,
      "outputs": [
        {
          "output_type": "stream",
          "text": [
            "Looking in indexes: https://pypi.org/simple, https://test.pypi.org/simple/\n",
            "Requirement already up-to-date: aimodelshare in /usr/local/lib/python3.6/dist-packages (0.0.22)\n",
            "Requirement already satisfied, skipping upgrade: boto3 in /usr/local/lib/python3.6/dist-packages (from aimodelshare) (1.17.4)\n",
            "Requirement already satisfied, skipping upgrade: skl2onnx in /usr/local/lib/python3.6/dist-packages (from aimodelshare) (1.7.0)\n",
            "Requirement already satisfied, skipping upgrade: scikit-learn==0.24.1 in /usr/local/lib/python3.6/dist-packages (from aimodelshare) (0.24.1)\n",
            "Requirement already satisfied, skipping upgrade: keras2onnx in /usr/local/lib/python3.6/dist-packages (from aimodelshare) (1.7.0)\n",
            "Requirement already satisfied, skipping upgrade: botocore in /usr/local/lib/python3.6/dist-packages (from aimodelshare) (1.20.4)\n",
            "Requirement already satisfied, skipping upgrade: urllib3==1.25.10 in /usr/local/lib/python3.6/dist-packages (from aimodelshare) (1.25.10)\n",
            "Requirement already satisfied, skipping upgrade: onnxruntime in /usr/local/lib/python3.6/dist-packages (from aimodelshare) (1.6.0)\n",
            "Requirement already satisfied, skipping upgrade: onnx in /usr/local/lib/python3.6/dist-packages (from aimodelshare) (1.8.102)\n",
            "Requirement already satisfied, skipping upgrade: s3transfer<0.4.0,>=0.3.0 in /usr/local/lib/python3.6/dist-packages (from boto3->aimodelshare) (0.3.4)\n",
            "Requirement already satisfied, skipping upgrade: jmespath<1.0.0,>=0.7.1 in /usr/local/lib/python3.6/dist-packages (from boto3->aimodelshare) (0.10.0)\n",
            "Requirement already satisfied, skipping upgrade: numpy>=1.15 in /usr/local/lib/python3.6/dist-packages (from skl2onnx->aimodelshare) (1.19.5)\n",
            "Requirement already satisfied, skipping upgrade: onnxconverter-common>=1.5.1 in /usr/local/lib/python3.6/dist-packages (from skl2onnx->aimodelshare) (1.7.0)\n",
            "Requirement already satisfied, skipping upgrade: protobuf in /usr/local/lib/python3.6/dist-packages (from skl2onnx->aimodelshare) (3.12.4)\n",
            "Requirement already satisfied, skipping upgrade: six in /usr/local/lib/python3.6/dist-packages (from skl2onnx->aimodelshare) (1.15.0)\n",
            "Requirement already satisfied, skipping upgrade: scipy>=1.0 in /usr/local/lib/python3.6/dist-packages (from skl2onnx->aimodelshare) (1.4.1)\n",
            "Requirement already satisfied, skipping upgrade: threadpoolctl>=2.0.0 in /usr/local/lib/python3.6/dist-packages (from scikit-learn==0.24.1->aimodelshare) (2.1.0)\n",
            "Requirement already satisfied, skipping upgrade: joblib>=0.11 in /usr/local/lib/python3.6/dist-packages (from scikit-learn==0.24.1->aimodelshare) (1.0.0)\n",
            "Requirement already satisfied, skipping upgrade: requests in /usr/local/lib/python3.6/dist-packages (from keras2onnx->aimodelshare) (2.23.0)\n",
            "Requirement already satisfied, skipping upgrade: fire in /usr/local/lib/python3.6/dist-packages (from keras2onnx->aimodelshare) (0.4.0)\n",
            "Requirement already satisfied, skipping upgrade: python-dateutil<3.0.0,>=2.1 in /usr/local/lib/python3.6/dist-packages (from botocore->aimodelshare) (2.8.1)\n",
            "Requirement already satisfied, skipping upgrade: typing-extensions>=3.6.2.1 in /usr/local/lib/python3.6/dist-packages (from onnx->aimodelshare) (3.7.4.3)\n",
            "Requirement already satisfied, skipping upgrade: setuptools in /usr/local/lib/python3.6/dist-packages (from protobuf->skl2onnx->aimodelshare) (53.0.0)\n",
            "Requirement already satisfied, skipping upgrade: idna<3,>=2.5 in /usr/local/lib/python3.6/dist-packages (from requests->keras2onnx->aimodelshare) (2.10)\n",
            "Requirement already satisfied, skipping upgrade: chardet<4,>=3.0.2 in /usr/local/lib/python3.6/dist-packages (from requests->keras2onnx->aimodelshare) (3.0.4)\n",
            "Requirement already satisfied, skipping upgrade: certifi>=2017.4.17 in /usr/local/lib/python3.6/dist-packages (from requests->keras2onnx->aimodelshare) (2020.12.5)\n",
            "Requirement already satisfied, skipping upgrade: termcolor in /usr/local/lib/python3.6/dist-packages (from fire->keras2onnx->aimodelshare) (1.1.0)\n"
          ],
          "name": "stdout"
        }
      ]
    },
    {
      "cell_type": "code",
      "metadata": {
        "id": "m6IT-1drwzHD"
      },
      "source": [
        "import aimodelshare as ai\r\n",
        "ai.export_preprocessor(preprocessor,\"\")"
      ],
      "execution_count": 61,
      "outputs": []
    },
    {
      "cell_type": "code",
      "metadata": {
        "id": "iIC-nQ3kw1lq"
      },
      "source": [
        "prep = ai.import_preprocessor(\"preprocessor.zip\")"
      ],
      "execution_count": 62,
      "outputs": []
    },
    {
      "cell_type": "code",
      "metadata": {
        "colab": {
          "base_uri": "https://localhost:8080/"
        },
        "id": "XCGQc89FxDFd",
        "outputId": "380bc0ac-6863-4967-c6bb-6786d4feb214"
      },
      "source": [
        "from aimodelshare.aimsonnx import model_to_onnx\r\n",
        "onnx_model_keras= model_to_onnx(model, framework='keras', \r\n",
        "                                   transfer_learning=False,\r\n",
        "                                   deep_learning=True,\r\n",
        "                                   task_type='classification')\r\n",
        "\r\n",
        "with open(\"onnx_model_keras.onnx\", \"wb\") as f:\r\n",
        "    f.write(onnx_model_keras.SerializeToString())"
      ],
      "execution_count": 63,
      "outputs": [
        {
          "output_type": "stream",
          "text": [
            "The ONNX operator number change on the optimization: 32 -> 12\n"
          ],
          "name": "stderr"
        }
      ]
    },
    {
      "cell_type": "code",
      "metadata": {
        "id": "hC-KGEd6_-hc"
      },
      "source": [
        "username = open(\"username.txt\", \"r\")\r\n",
        "password = open(\"password.txt\", \"r\")"
      ],
      "execution_count": 95,
      "outputs": []
    },
    {
      "cell_type": "code",
      "metadata": {
        "id": "DSiGF5Vr__zF"
      },
      "source": [
        "username = username.readline()\r\n",
        "password = password.readline()"
      ],
      "execution_count": 96,
      "outputs": []
    },
    {
      "cell_type": "code",
      "metadata": {
        "id": "wMukbBhMxSyA"
      },
      "source": [
        "#aimodelshare username and password\r\n",
        "import pickle\r\n",
        "\r\n",
        "# load submit model creds (only gives access to s3 bucket)\r\n",
        "# Load from pkl file\r\n",
        "with open(\"aws_creds_worldhappiness.pkl\", 'rb') as file:\r\n",
        "    aws_key,aws_password,region = pickle.load(file)\r\n",
        "\r\n",
        "token=ai.aws.get_aws_token(username, password)\r\n",
        "awscreds=ai.aws.get_aws_client(aws_key=aws_key, aws_secret=aws_password, aws_region=region)"
      ],
      "execution_count": 98,
      "outputs": []
    },
    {
      "cell_type": "code",
      "metadata": {
        "colab": {
          "base_uri": "https://localhost:8080/"
        },
        "id": "8ZRgFV6ZxTsJ",
        "outputId": "54d6d193-ae1d-4fb6-aebb-a97d75f69a1e"
      },
      "source": [
        "# Submit_model() to leaderboard\r\n",
        "ai.submit_model(\"onnx_model_keras.onnx\",\r\n",
        "                \"https://z69mxrxdz5.execute-api.us-east-1.amazonaws.com/prod/m\",\r\n",
        "                token, awscreds, prediction_submission = predicted_labels,\r\n",
        "                preprocessor=\"preprocessor.zip\")"
      ],
      "execution_count": 99,
      "outputs": [
        {
          "output_type": "execute_result",
          "data": {
            "text/plain": [
              "True"
            ]
          },
          "metadata": {
            "tags": []
          },
          "execution_count": 99
        }
      ]
    },
    {
      "cell_type": "code",
      "metadata": {
        "colab": {
          "base_uri": "https://localhost:8080/",
          "height": 964
        },
        "id": "TgaCysRgxX21",
        "outputId": "e9759442-838c-43c3-8a9c-79777d378cf0"
      },
      "source": [
        "data=ai.get_leaderboard(\"https://z69mxrxdz5.execute-api.us-east-1.amazonaws.com/prod/m\",\r\n",
        "                token,awscreds,verbose=2)\r\n",
        "\r\n",
        "#get rid of any duplicate model submissions\r\n",
        "#data=data.loc[data.iloc[:,0:8].duplicated()==False,:]\r\n",
        "data[data.username == 'eat2153']"
      ],
      "execution_count": 100,
      "outputs": [
        {
          "output_type": "execute_result",
          "data": {
            "text/html": [
              "<div>\n",
              "<style scoped>\n",
              "    .dataframe tbody tr th:only-of-type {\n",
              "        vertical-align: middle;\n",
              "    }\n",
              "\n",
              "    .dataframe tbody tr th {\n",
              "        vertical-align: top;\n",
              "    }\n",
              "\n",
              "    .dataframe thead th {\n",
              "        text-align: right;\n",
              "    }\n",
              "</style>\n",
              "<table border=\"1\" class=\"dataframe\">\n",
              "  <thead>\n",
              "    <tr style=\"text-align: right;\">\n",
              "      <th></th>\n",
              "      <th>accuracy</th>\n",
              "      <th>f1_score</th>\n",
              "      <th>precision</th>\n",
              "      <th>recall</th>\n",
              "      <th>ml_framework</th>\n",
              "      <th>transfer_learning</th>\n",
              "      <th>deep_learning</th>\n",
              "      <th>model_type</th>\n",
              "      <th>depth</th>\n",
              "      <th>num_params</th>\n",
              "      <th>dense_layers</th>\n",
              "      <th>loss</th>\n",
              "      <th>optimizer</th>\n",
              "      <th>model_config</th>\n",
              "      <th>username</th>\n",
              "      <th>timestamp</th>\n",
              "      <th>version</th>\n",
              "    </tr>\n",
              "  </thead>\n",
              "  <tbody>\n",
              "    <tr>\n",
              "      <th>45</th>\n",
              "      <td>0.442308</td>\n",
              "      <td>0.436905</td>\n",
              "      <td>0.486111</td>\n",
              "      <td>0.456970</td>\n",
              "      <td>keras</td>\n",
              "      <td>NaN</td>\n",
              "      <td>True</td>\n",
              "      <td>Sequential</td>\n",
              "      <td>4.0</td>\n",
              "      <td>11373.0</td>\n",
              "      <td>4.0</td>\n",
              "      <td>str</td>\n",
              "      <td>SGD</td>\n",
              "      <td>{'name': 'sequential_11', 'layers': [{'class_n...</td>\n",
              "      <td>eat2153</td>\n",
              "      <td>2021-02-02 00:17:57.730071</td>\n",
              "      <td>29</td>\n",
              "    </tr>\n",
              "    <tr>\n",
              "      <th>47</th>\n",
              "      <td>0.423077</td>\n",
              "      <td>0.426181</td>\n",
              "      <td>0.484225</td>\n",
              "      <td>0.437121</td>\n",
              "      <td>keras</td>\n",
              "      <td>NaN</td>\n",
              "      <td>True</td>\n",
              "      <td>Sequential</td>\n",
              "      <td>5.0</td>\n",
              "      <td>17549.0</td>\n",
              "      <td>5.0</td>\n",
              "      <td>str</td>\n",
              "      <td>SGD</td>\n",
              "      <td>{'name': 'sequential_15', 'layers': [{'class_n...</td>\n",
              "      <td>eat2153</td>\n",
              "      <td>2021-02-02 00:27:22.924758</td>\n",
              "      <td>47</td>\n",
              "    </tr>\n",
              "    <tr>\n",
              "      <th>48</th>\n",
              "      <td>0.423077</td>\n",
              "      <td>0.426181</td>\n",
              "      <td>0.484225</td>\n",
              "      <td>0.437121</td>\n",
              "      <td>keras</td>\n",
              "      <td>NaN</td>\n",
              "      <td>True</td>\n",
              "      <td>Sequential</td>\n",
              "      <td>5.0</td>\n",
              "      <td>17549.0</td>\n",
              "      <td>5.0</td>\n",
              "      <td>str</td>\n",
              "      <td>SGD</td>\n",
              "      <td>{'name': 'sequential_15', 'layers': [{'class_n...</td>\n",
              "      <td>eat2153</td>\n",
              "      <td>2021-02-02 00:32:09.285464</td>\n",
              "      <td>56</td>\n",
              "    </tr>\n",
              "    <tr>\n",
              "      <th>80</th>\n",
              "      <td>0.384615</td>\n",
              "      <td>0.384304</td>\n",
              "      <td>0.430101</td>\n",
              "      <td>0.397121</td>\n",
              "      <td>sklearn</td>\n",
              "      <td>NaN</td>\n",
              "      <td>NaN</td>\n",
              "      <td>RandomForestClassifier</td>\n",
              "      <td>NaN</td>\n",
              "      <td>NaN</td>\n",
              "      <td>NaN</td>\n",
              "      <td>NaN</td>\n",
              "      <td>NaN</td>\n",
              "      <td>{'bootstrap': True, 'ccp_alpha': 0.0, 'class_w...</td>\n",
              "      <td>eat2153</td>\n",
              "      <td>2021-02-02 00:23:24.502961</td>\n",
              "      <td>38</td>\n",
              "    </tr>\n",
              "    <tr>\n",
              "      <th>104</th>\n",
              "      <td>0.230769</td>\n",
              "      <td>0.240260</td>\n",
              "      <td>0.255238</td>\n",
              "      <td>0.239545</td>\n",
              "      <td>keras</td>\n",
              "      <td>NaN</td>\n",
              "      <td>True</td>\n",
              "      <td>Sequential</td>\n",
              "      <td>4.0</td>\n",
              "      <td>13389.0</td>\n",
              "      <td>4.0</td>\n",
              "      <td>str</td>\n",
              "      <td>SGD</td>\n",
              "      <td>{'name': 'sequential_1', 'layers': [{'class_na...</td>\n",
              "      <td>eat2153</td>\n",
              "      <td>2021-02-08 22:34:33.512224</td>\n",
              "      <td>150</td>\n",
              "    </tr>\n",
              "    <tr>\n",
              "      <th>108</th>\n",
              "      <td>0.192308</td>\n",
              "      <td>0.186327</td>\n",
              "      <td>0.193173</td>\n",
              "      <td>0.199545</td>\n",
              "      <td>keras</td>\n",
              "      <td>NaN</td>\n",
              "      <td>True</td>\n",
              "      <td>Sequential</td>\n",
              "      <td>4.0</td>\n",
              "      <td>13389.0</td>\n",
              "      <td>4.0</td>\n",
              "      <td>str</td>\n",
              "      <td>SGD</td>\n",
              "      <td>{'name': 'sequential_2', 'layers': [{'class_na...</td>\n",
              "      <td>eat2153</td>\n",
              "      <td>2021-02-08 22:43:52.435542</td>\n",
              "      <td>154</td>\n",
              "    </tr>\n",
              "    <tr>\n",
              "      <th>110</th>\n",
              "      <td>0.096154</td>\n",
              "      <td>0.090684</td>\n",
              "      <td>0.082455</td>\n",
              "      <td>0.106364</td>\n",
              "      <td>keras</td>\n",
              "      <td>NaN</td>\n",
              "      <td>True</td>\n",
              "      <td>Sequential</td>\n",
              "      <td>4.0</td>\n",
              "      <td>13389.0</td>\n",
              "      <td>4.0</td>\n",
              "      <td>str</td>\n",
              "      <td>SGD</td>\n",
              "      <td>{'name': 'sequential_1', 'layers': [{'class_na...</td>\n",
              "      <td>eat2153</td>\n",
              "      <td>2021-02-08 23:38:27.278574</td>\n",
              "      <td>162</td>\n",
              "    </tr>\n",
              "    <tr>\n",
              "      <th>112</th>\n",
              "      <td>0.096154</td>\n",
              "      <td>0.090684</td>\n",
              "      <td>0.082455</td>\n",
              "      <td>0.106364</td>\n",
              "      <td>keras</td>\n",
              "      <td>NaN</td>\n",
              "      <td>True</td>\n",
              "      <td>Sequential</td>\n",
              "      <td>4.0</td>\n",
              "      <td>13389.0</td>\n",
              "      <td>4.0</td>\n",
              "      <td>str</td>\n",
              "      <td>SGD</td>\n",
              "      <td>{'name': 'sequential_1', 'layers': [{'class_na...</td>\n",
              "      <td>eat2153</td>\n",
              "      <td>2021-02-08 23:08:28.882807</td>\n",
              "      <td>155</td>\n",
              "    </tr>\n",
              "    <tr>\n",
              "      <th>117</th>\n",
              "      <td>NaN</td>\n",
              "      <td>NaN</td>\n",
              "      <td>NaN</td>\n",
              "      <td>NaN</td>\n",
              "      <td>keras</td>\n",
              "      <td>NaN</td>\n",
              "      <td>True</td>\n",
              "      <td>Sequential</td>\n",
              "      <td>4.0</td>\n",
              "      <td>13389.0</td>\n",
              "      <td>4.0</td>\n",
              "      <td>str</td>\n",
              "      <td>SGD</td>\n",
              "      <td>{'name': 'sequential_1', 'layers': [{'class_na...</td>\n",
              "      <td>eat2153</td>\n",
              "      <td>2021-02-08 22:39:32.000336</td>\n",
              "      <td>151</td>\n",
              "    </tr>\n",
              "    <tr>\n",
              "      <th>118</th>\n",
              "      <td>NaN</td>\n",
              "      <td>NaN</td>\n",
              "      <td>NaN</td>\n",
              "      <td>NaN</td>\n",
              "      <td>keras</td>\n",
              "      <td>NaN</td>\n",
              "      <td>True</td>\n",
              "      <td>Sequential</td>\n",
              "      <td>4.0</td>\n",
              "      <td>13389.0</td>\n",
              "      <td>4.0</td>\n",
              "      <td>str</td>\n",
              "      <td>SGD</td>\n",
              "      <td>{'name': 'sequential_1', 'layers': [{'class_na...</td>\n",
              "      <td>eat2153</td>\n",
              "      <td>2021-02-08 22:40:01.004966</td>\n",
              "      <td>152</td>\n",
              "    </tr>\n",
              "    <tr>\n",
              "      <th>119</th>\n",
              "      <td>NaN</td>\n",
              "      <td>NaN</td>\n",
              "      <td>NaN</td>\n",
              "      <td>NaN</td>\n",
              "      <td>keras</td>\n",
              "      <td>NaN</td>\n",
              "      <td>True</td>\n",
              "      <td>Sequential</td>\n",
              "      <td>4.0</td>\n",
              "      <td>13389.0</td>\n",
              "      <td>4.0</td>\n",
              "      <td>str</td>\n",
              "      <td>SGD</td>\n",
              "      <td>{'name': 'sequential_1', 'layers': [{'class_na...</td>\n",
              "      <td>eat2153</td>\n",
              "      <td>2021-02-08 22:41:06.757059</td>\n",
              "      <td>153</td>\n",
              "    </tr>\n",
              "  </tbody>\n",
              "</table>\n",
              "</div>"
            ],
            "text/plain": [
              "     accuracy  f1_score  ...                   timestamp  version\n",
              "45   0.442308  0.436905  ...  2021-02-02 00:17:57.730071       29\n",
              "47   0.423077  0.426181  ...  2021-02-02 00:27:22.924758       47\n",
              "48   0.423077  0.426181  ...  2021-02-02 00:32:09.285464       56\n",
              "80   0.384615  0.384304  ...  2021-02-02 00:23:24.502961       38\n",
              "104  0.230769  0.240260  ...  2021-02-08 22:34:33.512224      150\n",
              "108  0.192308  0.186327  ...  2021-02-08 22:43:52.435542      154\n",
              "110  0.096154  0.090684  ...  2021-02-08 23:38:27.278574      162\n",
              "112  0.096154  0.090684  ...  2021-02-08 23:08:28.882807      155\n",
              "117       NaN       NaN  ...  2021-02-08 22:39:32.000336      151\n",
              "118       NaN       NaN  ...  2021-02-08 22:40:01.004966      152\n",
              "119       NaN       NaN  ...  2021-02-08 22:41:06.757059      153\n",
              "\n",
              "[11 rows x 17 columns]"
            ]
          },
          "metadata": {
            "tags": []
          },
          "execution_count": 100
        }
      ]
    }
  ]
}