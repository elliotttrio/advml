{
  "nbformat": 4,
  "nbformat_minor": 0,
  "metadata": {
    "colab": {
      "name": "Assignment #3 : Covid Tweet MisInformation",
      "provenance": [],
      "collapsed_sections": [
        "OzYlhCsKBBOj",
        "fynpEdHGBaH8",
        "soCV-gL5Bl4o",
        "U7X8JhfTDiuT",
        "h9AnSKWx5RS-",
        "ZawZdoX78Jhr"
      ],
      "toc_visible": true
    },
    "kernelspec": {
      "name": "python391jvsc74a57bd08ae1e9aa6c55d7817cbbbc84a907d91a5644166d0cb3ac3f638b3611b0e06fd1",
      "display_name": "Python 3.9.1 64-bit"
    },
    "language_info": {
      "name": "python",
      "version": "3.9.1"
    }
  },
  "cells": [
    {
      "cell_type": "markdown",
      "metadata": {
        "id": "woUgMnA-Ajnq"
      },
      "source": [
        "# Load Data and Libraries"
      ]
    },
    {
      "cell_type": "code",
      "execution_count": null,
      "metadata": {},
      "outputs": [],
      "source": [
        "Github Link: "
      ]
    },
    {
      "cell_type": "code",
      "metadata": {
        "colab": {
          "base_uri": "https://localhost:8080/"
        },
        "id": "Dqnb8kw0QbKN",
        "outputId": "a52f5617-6715-400a-ac6a-8c976712d1a9"
      },
      "source": [
        "! pip install delayed"
      ],
      "execution_count": 1,
      "outputs": [
        {
          "output_type": "stream",
          "name": "stdout",
          "text": [
            "Collecting delayed\n  Downloading delayed-0.11.0b1-py2.py3-none-any.whl (19 kB)\nCollecting hiredis\n  Downloading hiredis-2.0.0-cp39-cp39-win_amd64.whl (18 kB)\nCollecting redis\n  Downloading redis-3.5.3-py2.py3-none-any.whl (72 kB)\nInstalling collected packages: redis, hiredis, delayed\nSuccessfully installed delayed-0.11.0b1 hiredis-2.0.0 redis-3.5.3\n"
          ]
        }
      ]
    },
    {
      "cell_type": "code",
      "metadata": {
        "id": "Mwy9TB15kibs"
      },
      "source": [
        "#Source:Fighting an Infodemic: COVID-19 Fake News Dataset, https://github.com/diptamath/covid_fake_news,https://arxiv.org/abs/2011.03327 \n",
        "\n",
        "import os\n",
        "import pandas as pd\n",
        "from tensorflow.keras.preprocessing.text import Tokenizer\n",
        "from tensorflow.keras.preprocessing.sequence import pad_sequences\n",
        "import numpy as np\n",
        "\n",
        "from tensorflow.keras.layers import Dense, Embedding,Flatten, Bidirectional, LSTM, Conv1D, MaxPooling1D, GlobalMaxPooling1D\n",
        "from tensorflow.keras.models import Sequential\n",
        "from sklearn.metrics import classification_report\n",
        "\n",
        "trainingdata=pd.read_csv(\"https://raw.githubusercontent.com/diptamath/covid_fake_news/main/data/Constraint_Train.csv\", usecols = ['tweet','label'])\n",
        "testdata=pd.read_csv(\"https://raw.githubusercontent.com/diptamath/covid_fake_news/main/data/english_test_with_labels.csv\", usecols = ['tweet','label'])"
      ],
      "execution_count": 2,
      "outputs": [
        {
          "output_type": "stream",
          "name": "stdout",
          "text": [
            "INFO:tensorflow:Enabling eager execution\n",
            "INFO:tensorflow:Enabling v2 tensorshape\n",
            "INFO:tensorflow:Enabling resource variables\n",
            "INFO:tensorflow:Enabling tensor equality\n",
            "INFO:tensorflow:Enabling control flow v2\n"
          ]
        }
      ]
    },
    {
      "cell_type": "markdown",
      "metadata": {
        "id": "OzYlhCsKBBOj"
      },
      "source": [
        "# About the Data"
      ]
    },
    {
      "cell_type": "markdown",
      "metadata": {
        "id": "6mjujRDH3pY5"
      },
      "source": [
        "**Present examples of tweets from the dataset that demonstrate real information or misinformation.**\n",
        "\n",
        "**Discuss the dataset in general terms and describe why building a predictive model using this data might be practically useful.  Who could benefit from a model like this? Explain.**\n",
        "\n",
        "This dataset contains labeled data of tweets concerning covid-19 and if they are real or fake. By using a predicitive model, we will be able more easily filter through content for fake infomation that can misinform the public. Using such a predictive model to predict if a tweet is fake or real can be extremely useful for social media companies to manage their content and the health of their community. "
      ]
    },
    {
      "cell_type": "code",
      "metadata": {
        "colab": {
          "base_uri": "https://localhost:8080/",
          "height": 0
        },
        "id": "lzWe0jH83s2Y",
        "outputId": "fca4adce-ba50-47df-c41e-ff8e696e9dfd"
      },
      "source": [
        "trainingdata.head()"
      ],
      "execution_count": 3,
      "outputs": [
        {
          "output_type": "execute_result",
          "data": {
            "text/plain": [
              "                                               tweet label\n",
              "0  The CDC currently reports 99031 deaths. In gen...  real\n",
              "1  States reported 1121 deaths a small rise from ...  real\n",
              "2  Politically Correct Woman (Almost) Uses Pandem...  fake\n",
              "3  #IndiaFightsCorona: We have 1524 #COVID testin...  real\n",
              "4  Populous states can generate large case counts...  real"
            ],
            "text/html": "<div>\n<style scoped>\n    .dataframe tbody tr th:only-of-type {\n        vertical-align: middle;\n    }\n\n    .dataframe tbody tr th {\n        vertical-align: top;\n    }\n\n    .dataframe thead th {\n        text-align: right;\n    }\n</style>\n<table border=\"1\" class=\"dataframe\">\n  <thead>\n    <tr style=\"text-align: right;\">\n      <th></th>\n      <th>tweet</th>\n      <th>label</th>\n    </tr>\n  </thead>\n  <tbody>\n    <tr>\n      <th>0</th>\n      <td>The CDC currently reports 99031 deaths. In gen...</td>\n      <td>real</td>\n    </tr>\n    <tr>\n      <th>1</th>\n      <td>States reported 1121 deaths a small rise from ...</td>\n      <td>real</td>\n    </tr>\n    <tr>\n      <th>2</th>\n      <td>Politically Correct Woman (Almost) Uses Pandem...</td>\n      <td>fake</td>\n    </tr>\n    <tr>\n      <th>3</th>\n      <td>#IndiaFightsCorona: We have 1524 #COVID testin...</td>\n      <td>real</td>\n    </tr>\n    <tr>\n      <th>4</th>\n      <td>Populous states can generate large case counts...</td>\n      <td>real</td>\n    </tr>\n  </tbody>\n</table>\n</div>"
          },
          "metadata": {},
          "execution_count": 3
        }
      ]
    },
    {
      "cell_type": "code",
      "metadata": {
        "colab": {
          "base_uri": "https://localhost:8080/"
        },
        "id": "we0n3g1j4P8p",
        "outputId": "50cc0040-d4f6-4838-aa4e-cbf172cfde5d"
      },
      "source": [
        "trainingdata['label'].value_counts()"
      ],
      "execution_count": 4,
      "outputs": [
        {
          "output_type": "execute_result",
          "data": {
            "text/plain": [
              "real    3360\n",
              "fake    3060\n",
              "Name: label, dtype: int64"
            ]
          },
          "metadata": {},
          "execution_count": 4
        }
      ]
    },
    {
      "cell_type": "code",
      "metadata": {
        "colab": {
          "base_uri": "https://localhost:8080/",
          "height": 0
        },
        "id": "5DZ7xcIx3_U6",
        "outputId": "3907ecb7-c778-4eb1-f625-c27caa9574cb"
      },
      "source": [
        "trainingdata[trainingdata.label == 'real'].sample(n=10)"
      ],
      "execution_count": 6,
      "outputs": [
        {
          "output_type": "execute_result",
          "data": {
            "text/plain": [
              "                                                  tweet label\n",
              "5597  Coronavirus: London could face fresh restricti...  real\n",
              "795   To achieve major health priorities in times of...  real\n",
              "4704  Check out what a huge difference it makes in t...  real\n",
              "1394  For six weeks we've been tracking COVID race a...  real\n",
              "5001  RT @drharshvardhan: I said we have ensured fin...  real\n",
              "464   Coronavirus: Travel and hospitality stocks hit...  real\n",
              "2300  We are tracking the number of people who have ...  real\n",
              "1464  RT @MoHFW_INDIA: #IndiaFightsCorona Around 60%...  real\n",
              "3995  Acc to @MoHFW_INDIA #COVID19 #RecoveryRate and...  real\n",
              "661   The UK has a plan for reopening schools. https...  real"
            ],
            "text/html": "<div>\n<style scoped>\n    .dataframe tbody tr th:only-of-type {\n        vertical-align: middle;\n    }\n\n    .dataframe tbody tr th {\n        vertical-align: top;\n    }\n\n    .dataframe thead th {\n        text-align: right;\n    }\n</style>\n<table border=\"1\" class=\"dataframe\">\n  <thead>\n    <tr style=\"text-align: right;\">\n      <th></th>\n      <th>tweet</th>\n      <th>label</th>\n    </tr>\n  </thead>\n  <tbody>\n    <tr>\n      <th>5597</th>\n      <td>Coronavirus: London could face fresh restricti...</td>\n      <td>real</td>\n    </tr>\n    <tr>\n      <th>795</th>\n      <td>To achieve major health priorities in times of...</td>\n      <td>real</td>\n    </tr>\n    <tr>\n      <th>4704</th>\n      <td>Check out what a huge difference it makes in t...</td>\n      <td>real</td>\n    </tr>\n    <tr>\n      <th>1394</th>\n      <td>For six weeks we've been tracking COVID race a...</td>\n      <td>real</td>\n    </tr>\n    <tr>\n      <th>5001</th>\n      <td>RT @drharshvardhan: I said we have ensured fin...</td>\n      <td>real</td>\n    </tr>\n    <tr>\n      <th>464</th>\n      <td>Coronavirus: Travel and hospitality stocks hit...</td>\n      <td>real</td>\n    </tr>\n    <tr>\n      <th>2300</th>\n      <td>We are tracking the number of people who have ...</td>\n      <td>real</td>\n    </tr>\n    <tr>\n      <th>1464</th>\n      <td>RT @MoHFW_INDIA: #IndiaFightsCorona Around 60%...</td>\n      <td>real</td>\n    </tr>\n    <tr>\n      <th>3995</th>\n      <td>Acc to @MoHFW_INDIA #COVID19 #RecoveryRate and...</td>\n      <td>real</td>\n    </tr>\n    <tr>\n      <th>661</th>\n      <td>The UK has a plan for reopening schools. https...</td>\n      <td>real</td>\n    </tr>\n  </tbody>\n</table>\n</div>"
          },
          "metadata": {},
          "execution_count": 6
        }
      ]
    },
    {
      "cell_type": "code",
      "metadata": {
        "colab": {
          "base_uri": "https://localhost:8080/",
          "height": 0
        },
        "id": "KYHSzJHe4sja",
        "outputId": "6334d66e-add3-42f6-e70c-e98c8962c298"
      },
      "source": [
        "trainingdata[trainingdata.label == 'fake'].sample(n=10)"
      ],
      "execution_count": 7,
      "outputs": [
        {
          "output_type": "execute_result",
          "data": {
            "text/plain": [
              "                                                  tweet label\n",
              "5806  Trump Administration Collaborates with McKesso...  fake\n",
              "3004  Doctor says in a video: We must all go out to ...  fake\n",
              "1518  President Trump Says That He Now Knows Who Bro...  fake\n",
              "1702  ???Man visited Albany, N.Y. days before dying ...  fake\n",
              "1604  *JOB AT WORLD HEALTH ORGANISATION*Help us figh...  fake\n",
              "2789  _The maker of the novel coronavirus has been a...  fake\n",
              "5809  The United States is \"recruiting\" doctors to c...  fake\n",
              "3845  Chlorine dioxide has already proved efficaciou...  fake\n",
              "897   Over 5000 students tested positive for COVID-1...  fake\n",
              "1409  New York’s coronavirus hospitalizations fall t...  fake"
            ],
            "text/html": "<div>\n<style scoped>\n    .dataframe tbody tr th:only-of-type {\n        vertical-align: middle;\n    }\n\n    .dataframe tbody tr th {\n        vertical-align: top;\n    }\n\n    .dataframe thead th {\n        text-align: right;\n    }\n</style>\n<table border=\"1\" class=\"dataframe\">\n  <thead>\n    <tr style=\"text-align: right;\">\n      <th></th>\n      <th>tweet</th>\n      <th>label</th>\n    </tr>\n  </thead>\n  <tbody>\n    <tr>\n      <th>5806</th>\n      <td>Trump Administration Collaborates with McKesso...</td>\n      <td>fake</td>\n    </tr>\n    <tr>\n      <th>3004</th>\n      <td>Doctor says in a video: We must all go out to ...</td>\n      <td>fake</td>\n    </tr>\n    <tr>\n      <th>1518</th>\n      <td>President Trump Says That He Now Knows Who Bro...</td>\n      <td>fake</td>\n    </tr>\n    <tr>\n      <th>1702</th>\n      <td>???Man visited Albany, N.Y. days before dying ...</td>\n      <td>fake</td>\n    </tr>\n    <tr>\n      <th>1604</th>\n      <td>*JOB AT WORLD HEALTH ORGANISATION*Help us figh...</td>\n      <td>fake</td>\n    </tr>\n    <tr>\n      <th>2789</th>\n      <td>_The maker of the novel coronavirus has been a...</td>\n      <td>fake</td>\n    </tr>\n    <tr>\n      <th>5809</th>\n      <td>The United States is \"recruiting\" doctors to c...</td>\n      <td>fake</td>\n    </tr>\n    <tr>\n      <th>3845</th>\n      <td>Chlorine dioxide has already proved efficaciou...</td>\n      <td>fake</td>\n    </tr>\n    <tr>\n      <th>897</th>\n      <td>Over 5000 students tested positive for COVID-1...</td>\n      <td>fake</td>\n    </tr>\n    <tr>\n      <th>1409</th>\n      <td>New York’s coronavirus hospitalizations fall t...</td>\n      <td>fake</td>\n    </tr>\n  </tbody>\n</table>\n</div>"
          },
          "metadata": {},
          "execution_count": 7
        }
      ]
    },
    {
      "cell_type": "markdown",
      "metadata": {
        "id": "R1bowm5t41A1"
      },
      "source": [
        "# Modeling"
      ]
    },
    {
      "cell_type": "markdown",
      "metadata": {
        "id": "D9_DRQIr5GNx"
      },
      "source": [
        "Run at least four prediction models to try to predict real or fake tweets well.\n",
        "* Use Embedding layers and at least one LSTM layer for at least one of these models\n",
        "* Experiment with Bidirectional LSTMs, stacked LSTMS, and dropout regularization with at least two models.\n",
        "* Use Embedding layers and at least one 1D Convolution layer for at least one of these models\n",
        "* Discuss which models performed better and point out relevant hyper-parameter values for successful models.\n",
        "\n",
        "I ran five different models, a base model using source code from class, a stacked lstm model, a bidirectional lstm model, a model with 1D convolution layer, and my final model which combined stack lstm layers and 1D convolution layer. Playing around with the hyperparameters, I found the best input length to be 140 - which interestingly enough used to also be the max length of a tweet. With my embedding layers, I found success with 10000 input dim and 32 output dim. My final model has the micro and macro average of 93% and is overall very consistent in terms of both types of possible errors. "
      ]
    },
    {
      "cell_type": "markdown",
      "metadata": {
        "id": "fynpEdHGBaH8"
      },
      "source": [
        "#### Data Preprocessing"
      ]
    },
    {
      "cell_type": "code",
      "metadata": {
        "id": "TMgmOqb8_Wui"
      },
      "source": [
        "# Build vocabulary from training text data\n",
        "tokenizer = Tokenizer(num_words=10000)\n",
        "tokenizer.fit_on_texts(trainingdata.tweet)\n",
        "\n",
        "# preprocessor tokenizes words and makes sure all documents have the same length\n",
        "def preprocessor(data, maxlen, max_words):\n",
        "\n",
        "    sequences = tokenizer.texts_to_sequences(data)\n",
        "\n",
        "    word_index = tokenizer.word_index\n",
        "    X = pad_sequences(sequences, maxlen=maxlen)\n",
        "\n",
        "    return X"
      ],
      "execution_count": 8,
      "outputs": []
    },
    {
      "cell_type": "code",
      "metadata": {
        "id": "kM-TJpY4__qb"
      },
      "source": [
        "maxlen = 140\n",
        "\n",
        "# tokenize and pad X data\n",
        "X_train = preprocessor(trainingdata.tweet, maxlen=140, max_words=10000)\n",
        "X_test = preprocessor(testdata.tweet, maxlen=140, max_words=10000)\n",
        "\n",
        "# one encode Y data\n",
        "y_train = pd.get_dummies(trainingdata.label)\n",
        "y_test = pd.get_dummies(testdata.label)"
      ],
      "execution_count": 9,
      "outputs": []
    },
    {
      "cell_type": "code",
      "metadata": {
        "colab": {
          "base_uri": "https://localhost:8080/"
        },
        "id": "Ac7Q2f2YAl7y",
        "outputId": "c8c65aa1-faed-499f-e5da-8e203f049a24"
      },
      "source": [
        "print(X_train.shape)\n",
        "print(X_test.shape)"
      ],
      "execution_count": 10,
      "outputs": [
        {
          "output_type": "stream",
          "name": "stdout",
          "text": [
            "(6420, 140)\n(2140, 140)\n"
          ]
        }
      ]
    },
    {
      "cell_type": "markdown",
      "metadata": {
        "id": "soCV-gL5Bl4o"
      },
      "source": [
        "#### Base model"
      ]
    },
    {
      "cell_type": "code",
      "metadata": {
        "colab": {
          "base_uri": "https://localhost:8080/"
        },
        "id": "k4Ee5mS7AqFr",
        "outputId": "d0a47dae-370e-4e49-f955-f4c0077a07cf"
      },
      "source": [
        "\n",
        "\n",
        "# replace this model with the architectures from the task description\n",
        "model = Sequential()\n",
        "model.add(Embedding(10000, 16, input_length=maxlen))\n",
        "model.add(Flatten())\n",
        "model.add(Dense(2, activation='softmax'))\n",
        "\n",
        "model.compile(optimizer='rmsprop', loss='categorical_crossentropy', metrics=['acc'])\n",
        "\n",
        "history = model.fit(X_train, y_train,\n",
        "                    epochs=5,\n",
        "                    batch_size=32,\n",
        "                    validation_split=0.2)"
      ],
      "execution_count": 10,
      "outputs": [
        {
          "output_type": "stream",
          "text": [
            "WARNING:tensorflow:From /tensorflow-1.15.2/python3.7/tensorflow_core/python/keras/initializers.py:119: calling RandomUniform.__init__ (from tensorflow.python.ops.init_ops) with dtype is deprecated and will be removed in a future version.\n",
            "Instructions for updating:\n",
            "Call initializer instance with the dtype argument instead of passing it to the constructor\n",
            "WARNING:tensorflow:From /tensorflow-1.15.2/python3.7/tensorflow_core/python/ops/resource_variable_ops.py:1630: calling BaseResourceVariable.__init__ (from tensorflow.python.ops.resource_variable_ops) with constraint is deprecated and will be removed in a future version.\n",
            "Instructions for updating:\n",
            "If using Keras pass *_constraint arguments to layers.\n",
            "Train on 5136 samples, validate on 1284 samples\n",
            "Epoch 1/5\n",
            "5136/5136 [==============================] - 1s 151us/sample - loss: 0.4825 - acc: 0.7689 - val_loss: 0.3523 - val_acc: 0.8396\n",
            "Epoch 2/5\n",
            "5136/5136 [==============================] - 0s 96us/sample - loss: 0.2695 - acc: 0.8921 - val_loss: 0.2437 - val_acc: 0.9050\n",
            "Epoch 3/5\n",
            "5136/5136 [==============================] - 1s 98us/sample - loss: 0.1730 - acc: 0.9356 - val_loss: 0.2008 - val_acc: 0.9237\n",
            "Epoch 4/5\n",
            "5136/5136 [==============================] - 1s 99us/sample - loss: 0.1232 - acc: 0.9560 - val_loss: 0.1825 - val_acc: 0.9276\n",
            "Epoch 5/5\n",
            "5136/5136 [==============================] - 1s 103us/sample - loss: 0.0941 - acc: 0.9655 - val_loss: 0.1762 - val_acc: 0.9315\n"
          ],
          "name": "stdout"
        }
      ]
    },
    {
      "cell_type": "code",
      "metadata": {
        "id": "pSs7lyT8COcM",
        "colab": {
          "base_uri": "https://localhost:8080/"
        },
        "outputId": "d8bdfc90-3f97-4d48-a5ae-19271f1cf87f"
      },
      "source": [
        "y_pred = model.predict(X_test).argmax(axis=1)\n",
        "\n",
        "predicted_labels = [y_test.columns[i] for i in y_pred]\n",
        "\n",
        "labels_pred = pd.get_dummies(predicted_labels)\n",
        "\n",
        "\n",
        "print(classification_report(y_test, labels_pred))"
      ],
      "execution_count": 11,
      "outputs": [
        {
          "output_type": "stream",
          "text": [
            "              precision    recall  f1-score   support\n",
            "\n",
            "           0       0.91      0.95      0.93      1020\n",
            "           1       0.95      0.91      0.93      1120\n",
            "\n",
            "   micro avg       0.93      0.93      0.93      2140\n",
            "   macro avg       0.93      0.93      0.93      2140\n",
            "weighted avg       0.93      0.93      0.93      2140\n",
            " samples avg       0.93      0.93      0.93      2140\n",
            "\n"
          ],
          "name": "stdout"
        }
      ]
    },
    {
      "cell_type": "markdown",
      "metadata": {
        "id": "U7X8JhfTDiuT"
      },
      "source": [
        "#### LSTM model"
      ]
    },
    {
      "cell_type": "code",
      "metadata": {
        "colab": {
          "base_uri": "https://localhost:8080/"
        },
        "id": "j20PiCbdDvRX",
        "outputId": "a28c0726-4abe-421b-fa59-4b57784ba0fa"
      },
      "source": [
        "model = Sequential()\n",
        "model.add(Embedding(10000, 32, input_length=maxlen))\n",
        "model.add(LSTM(64, return_sequences=True, dropout=0.2, recurrent_dropout=0.2))\n",
        "model.add(LSTM(32, return_sequences=True, dropout=0.1, recurrent_dropout=0.1))\n",
        "model.add(LSTM(32, return_sequences=True, dropout=0.1, recurrent_dropout=0.1))\n",
        "model.add(LSTM(16))\n",
        "model.add(Dense(2, activation='softmax'))\n",
        "\n",
        "model.compile(optimizer='rmsprop', loss='categorical_crossentropy', metrics=['acc'])\n",
        "\n",
        "history = model.fit(X_train, y_train,\n",
        "                    epochs=5,\n",
        "                    batch_size=32,\n",
        "                    validation_split=0.2)"
      ],
      "execution_count": 12,
      "outputs": [
        {
          "output_type": "stream",
          "text": [
            "WARNING:tensorflow:From /tensorflow-1.15.2/python3.7/tensorflow_core/python/ops/math_grad.py:1424: where (from tensorflow.python.ops.array_ops) is deprecated and will be removed in a future version.\n",
            "Instructions for updating:\n",
            "Use tf.where in 2.0, which has the same broadcast rule as np.where\n",
            "Train on 5136 samples, validate on 1284 samples\n",
            "Epoch 1/5\n",
            "5136/5136 [==============================] - 84s 16ms/sample - loss: 0.3765 - acc: 0.8343 - val_loss: 0.2568 - val_acc: 0.9058\n",
            "Epoch 2/5\n",
            "5136/5136 [==============================] - 81s 16ms/sample - loss: 0.1816 - acc: 0.9313 - val_loss: 0.2906 - val_acc: 0.8941\n",
            "Epoch 3/5\n",
            "5136/5136 [==============================] - 81s 16ms/sample - loss: 0.1308 - acc: 0.9525 - val_loss: 0.2212 - val_acc: 0.9237\n",
            "Epoch 4/5\n",
            "5136/5136 [==============================] - 81s 16ms/sample - loss: 0.0955 - acc: 0.9638 - val_loss: 0.2156 - val_acc: 0.9338\n",
            "Epoch 5/5\n",
            "5136/5136 [==============================] - 95s 19ms/sample - loss: 0.0757 - acc: 0.9720 - val_loss: 0.2120 - val_acc: 0.9291\n"
          ],
          "name": "stdout"
        }
      ]
    },
    {
      "cell_type": "code",
      "metadata": {
        "colab": {
          "base_uri": "https://localhost:8080/"
        },
        "id": "2tMMOb2QuKbM",
        "outputId": "49d43ee4-46a7-4f7e-cb1c-e575b3c26f3d"
      },
      "source": [
        "y_pred = model.predict(X_test).argmax(axis=1)\n",
        "\n",
        "predicted_labels = [y_test.columns[i] for i in y_pred]\n",
        "\n",
        "labels_pred = pd.get_dummies(predicted_labels)\n",
        "\n",
        "print(classification_report(y_test, labels_pred))"
      ],
      "execution_count": 13,
      "outputs": [
        {
          "output_type": "stream",
          "text": [
            "              precision    recall  f1-score   support\n",
            "\n",
            "           0       0.95      0.90      0.93      1020\n",
            "           1       0.92      0.95      0.93      1120\n",
            "\n",
            "   micro avg       0.93      0.93      0.93      2140\n",
            "   macro avg       0.93      0.93      0.93      2140\n",
            "weighted avg       0.93      0.93      0.93      2140\n",
            " samples avg       0.93      0.93      0.93      2140\n",
            "\n"
          ],
          "name": "stdout"
        }
      ]
    },
    {
      "cell_type": "markdown",
      "metadata": {
        "id": "h9AnSKWx5RS-"
      },
      "source": [
        "#### Bidirectional LSTM"
      ]
    },
    {
      "cell_type": "code",
      "metadata": {
        "id": "7SOKNF1x5TmE",
        "colab": {
          "base_uri": "https://localhost:8080/"
        },
        "outputId": "a0aa5431-d86b-463c-f6a5-84c1c96c4d58"
      },
      "source": [
        "model = Sequential()\n",
        "model.add(Embedding(10000, 32, input_length=maxlen))\n",
        "model.add(Bidirectional(LSTM(64, return_sequences=True, dropout=0.2, recurrent_dropout=0.2)))\n",
        "model.add(Bidirectional(LSTM(32, return_sequences=True, dropout=0.2, recurrent_dropout=0.2)))\n",
        "model.add(Bidirectional(LSTM(32, return_sequences=True, dropout=0.1, recurrent_dropout=0.1)))\n",
        "model.add(Bidirectional(LSTM(16)))\n",
        "model.add(Dense(2, activation='softmax'))\n",
        "\n",
        "model.compile(optimizer='rmsprop', loss='categorical_crossentropy', metrics=['acc'])\n",
        "\n",
        "history = model.fit(X_train, y_train,\n",
        "                    epochs=5,\n",
        "                    batch_size=32,\n",
        "                    validation_split=0.2)"
      ],
      "execution_count": 14,
      "outputs": [
        {
          "output_type": "stream",
          "text": [
            "WARNING:tensorflow:From /tensorflow-1.15.2/python3.7/tensorflow_core/python/ops/init_ops.py:97: calling GlorotUniform.__init__ (from tensorflow.python.ops.init_ops) with dtype is deprecated and will be removed in a future version.\n",
            "Instructions for updating:\n",
            "Call initializer instance with the dtype argument instead of passing it to the constructor\n",
            "WARNING:tensorflow:From /tensorflow-1.15.2/python3.7/tensorflow_core/python/ops/init_ops.py:97: calling Orthogonal.__init__ (from tensorflow.python.ops.init_ops) with dtype is deprecated and will be removed in a future version.\n",
            "Instructions for updating:\n",
            "Call initializer instance with the dtype argument instead of passing it to the constructor\n",
            "WARNING:tensorflow:From /tensorflow-1.15.2/python3.7/tensorflow_core/python/ops/init_ops.py:97: calling Zeros.__init__ (from tensorflow.python.ops.init_ops) with dtype is deprecated and will be removed in a future version.\n",
            "Instructions for updating:\n",
            "Call initializer instance with the dtype argument instead of passing it to the constructor\n",
            "Train on 5136 samples, validate on 1284 samples\n",
            "Epoch 1/5\n",
            "5136/5136 [==============================] - 266s 52ms/sample - loss: 0.3446 - acc: 0.8470 - val_loss: 0.2226 - val_acc: 0.9112\n",
            "Epoch 2/5\n",
            "5136/5136 [==============================] - 172s 33ms/sample - loss: 0.1498 - acc: 0.9457 - val_loss: 0.1829 - val_acc: 0.9276\n",
            "Epoch 3/5\n",
            "5136/5136 [==============================] - 178s 35ms/sample - loss: 0.1014 - acc: 0.9634 - val_loss: 0.1870 - val_acc: 0.9283\n",
            "Epoch 4/5\n",
            "5136/5136 [==============================] - 165s 32ms/sample - loss: 0.0684 - acc: 0.9751 - val_loss: 0.2126 - val_acc: 0.9291\n",
            "Epoch 5/5\n",
            "5136/5136 [==============================] - 164s 32ms/sample - loss: 0.0524 - acc: 0.9829 - val_loss: 0.2544 - val_acc: 0.9330\n"
          ],
          "name": "stdout"
        }
      ]
    },
    {
      "cell_type": "code",
      "metadata": {
        "id": "GoycLQ5F51uA",
        "colab": {
          "base_uri": "https://localhost:8080/"
        },
        "outputId": "8cb4a043-63fa-4ef2-ad94-7545f6b91c0f"
      },
      "source": [
        "y_pred = model.predict(X_test).argmax(axis=1)\n",
        "\n",
        "predicted_labels = [y_test.columns[i] for i in y_pred]\n",
        "\n",
        "labels_pred = pd.get_dummies(predicted_labels)\n",
        "\n",
        "print(classification_report(y_test, labels_pred))"
      ],
      "execution_count": 15,
      "outputs": [
        {
          "output_type": "stream",
          "text": [
            "              precision    recall  f1-score   support\n",
            "\n",
            "           0       0.91      0.96      0.93      1020\n",
            "           1       0.96      0.91      0.94      1120\n",
            "\n",
            "   micro avg       0.94      0.94      0.94      2140\n",
            "   macro avg       0.94      0.94      0.94      2140\n",
            "weighted avg       0.94      0.94      0.94      2140\n",
            " samples avg       0.94      0.94      0.94      2140\n",
            "\n"
          ],
          "name": "stdout"
        }
      ]
    },
    {
      "cell_type": "markdown",
      "metadata": {
        "id": "ZawZdoX78Jhr"
      },
      "source": [
        "#### With 1D Convolutional Layer"
      ]
    },
    {
      "cell_type": "code",
      "metadata": {
        "id": "sxsM68k_8SLK",
        "colab": {
          "base_uri": "https://localhost:8080/"
        },
        "outputId": "09fabd2a-a7eb-401a-f325-e3959b9b328c"
      },
      "source": [
        "model = Sequential()\n",
        "model.add(Embedding(10000, 16, input_length=maxlen))\n",
        "model.add(Conv1D(32, 4, activation='relu')) \n",
        "model.add(GlobalMaxPooling1D())\n",
        "model.add(Dense(2, activation='softmax'))\n",
        "\n",
        "model.compile(optimizer='rmsprop', loss='categorical_crossentropy', metrics=['acc'])\n",
        "\n",
        "history = model.fit(X_train, y_train,\n",
        "                    epochs=5,\n",
        "                    batch_size=32,\n",
        "                    validation_split=0.2)"
      ],
      "execution_count": 16,
      "outputs": [
        {
          "output_type": "stream",
          "text": [
            "Train on 5136 samples, validate on 1284 samples\n",
            "Epoch 1/5\n",
            "5136/5136 [==============================] - 3s 643us/sample - loss: 0.5881 - acc: 0.7370 - val_loss: 0.4390 - val_acc: 0.8450\n",
            "Epoch 2/5\n",
            "5136/5136 [==============================] - 2s 324us/sample - loss: 0.3270 - acc: 0.8744 - val_loss: 0.2859 - val_acc: 0.8910\n",
            "Epoch 3/5\n",
            "5136/5136 [==============================] - 2s 314us/sample - loss: 0.2060 - acc: 0.9173 - val_loss: 0.2204 - val_acc: 0.9120\n",
            "Epoch 4/5\n",
            "5136/5136 [==============================] - 2s 325us/sample - loss: 0.1393 - acc: 0.9463 - val_loss: 0.1888 - val_acc: 0.9206\n",
            "Epoch 5/5\n",
            "5136/5136 [==============================] - 2s 319us/sample - loss: 0.1006 - acc: 0.9638 - val_loss: 0.1801 - val_acc: 0.9245\n"
          ],
          "name": "stdout"
        }
      ]
    },
    {
      "cell_type": "code",
      "metadata": {
        "id": "OBFgpOE691O6",
        "colab": {
          "base_uri": "https://localhost:8080/"
        },
        "outputId": "af12b5c8-1ae6-4544-f51e-4badf61bf29d"
      },
      "source": [
        "y_pred = model.predict(X_test).argmax(axis=1)\n",
        "\n",
        "predicted_labels = [y_test.columns[i] for i in y_pred]\n",
        "\n",
        "labels_pred = pd.get_dummies(predicted_labels)\n",
        "\n",
        "print(classification_report(y_test, labels_pred))"
      ],
      "execution_count": 17,
      "outputs": [
        {
          "output_type": "stream",
          "text": [
            "              precision    recall  f1-score   support\n",
            "\n",
            "           0       0.92      0.94      0.93      1020\n",
            "           1       0.94      0.92      0.93      1120\n",
            "\n",
            "   micro avg       0.93      0.93      0.93      2140\n",
            "   macro avg       0.93      0.93      0.93      2140\n",
            "weighted avg       0.93      0.93      0.93      2140\n",
            " samples avg       0.93      0.93      0.93      2140\n",
            "\n"
          ],
          "name": "stdout"
        }
      ]
    },
    {
      "cell_type": "markdown",
      "metadata": {
        "id": "VySJbBUs_h0_"
      },
      "source": [
        "#### Final Model"
      ]
    },
    {
      "cell_type": "code",
      "metadata": {
        "colab": {
          "base_uri": "https://localhost:8080/"
        },
        "id": "On_uvAb3_pS3",
        "outputId": "2c636b47-a96b-4a3d-9469-6edcdfa460bb"
      },
      "source": [
        "final_model = Sequential()\n",
        "final_model.add(Embedding(10000, 32, input_length=maxlen))\n",
        "final_model.add(LSTM(64, return_sequences=True, dropout=0.2, recurrent_dropout=0.2))\n",
        "final_model.add(LSTM(32, return_sequences=True, dropout=0.2, recurrent_dropout=0.1))\n",
        "final_model.add(Conv1D(32, 4, activation='relu')) \n",
        "final_model.add(GlobalMaxPooling1D())\n",
        "final_model.add(Dense(2, activation='softmax'))\n",
        "\n",
        "final_model.summary()"
      ],
      "execution_count": 11,
      "outputs": [
        {
          "output_type": "stream",
          "name": "stdout",
          "text": [
            "Model: \"sequential\"\n_________________________________________________________________\nLayer (type)                 Output Shape              Param #   \n=================================================================\nembedding (Embedding)        (None, 140, 32)           320000    \n_________________________________________________________________\nlstm (LSTM)                  (None, 140, 64)           24832     \n_________________________________________________________________\nlstm_1 (LSTM)                (None, 140, 32)           12416     \n_________________________________________________________________\nconv1d (Conv1D)              (None, 137, 32)           4128      \n_________________________________________________________________\nglobal_max_pooling1d (Global (None, 32)                0         \n_________________________________________________________________\ndense (Dense)                (None, 2)                 66        \n=================================================================\nTotal params: 361,442\nTrainable params: 361,442\nNon-trainable params: 0\n_________________________________________________________________\n"
          ]
        }
      ]
    },
    {
      "cell_type": "code",
      "metadata": {
        "colab": {
          "base_uri": "https://localhost:8080/"
        },
        "id": "vEcdrip49J4x",
        "outputId": "80387c40-a5db-4e0f-ae5e-5c260e1f02ea"
      },
      "source": [
        "final_model.compile(optimizer='rmsprop', loss='categorical_crossentropy', metrics=['acc'])\n",
        "\n",
        "history = final_model.fit(X_train, y_train,\n",
        "                    epochs=5,\n",
        "                    batch_size=32,\n",
        "                    validation_split=0.2)"
      ],
      "execution_count": 12,
      "outputs": [
        {
          "output_type": "stream",
          "name": "stdout",
          "text": [
            "Epoch 1/5\n",
            "161/161 [==============================] - 22s 112ms/step - loss: 0.4753 - acc: 0.7648 - val_loss: 0.2707 - val_acc: 0.8871\n",
            "Epoch 2/5\n",
            "161/161 [==============================] - 17s 108ms/step - loss: 0.2053 - acc: 0.9205 - val_loss: 0.2176 - val_acc: 0.9190\n",
            "Epoch 3/5\n",
            "161/161 [==============================] - 17s 106ms/step - loss: 0.1324 - acc: 0.9503 - val_loss: 0.2480 - val_acc: 0.9252\n",
            "Epoch 4/5\n",
            "161/161 [==============================] - 17s 108ms/step - loss: 0.0944 - acc: 0.9667 - val_loss: 0.2268 - val_acc: 0.9283\n",
            "Epoch 5/5\n",
            "161/161 [==============================] - 17s 108ms/step - loss: 0.0619 - acc: 0.9763 - val_loss: 0.2123 - val_acc: 0.9276\n"
          ]
        }
      ]
    },
    {
      "cell_type": "code",
      "metadata": {
        "colab": {
          "base_uri": "https://localhost:8080/"
        },
        "id": "OveiraENAQB9",
        "outputId": "19c92494-4385-45ac-aef3-b732bab32a51"
      },
      "source": [
        "y_pred = final_model.predict(X_test).argmax(axis=1)\n",
        "\n",
        "predicted_labels = [y_test.columns[i] for i in y_pred]\n",
        "\n",
        "labels_pred = pd.get_dummies(predicted_labels)\n",
        "\n",
        "print(classification_report(y_test, labels_pred))"
      ],
      "execution_count": 13,
      "outputs": [
        {
          "output_type": "stream",
          "name": "stdout",
          "text": [
            "              precision    recall  f1-score   support\n\n           0       0.92      0.95      0.93      1020\n           1       0.95      0.92      0.94      1120\n\n   micro avg       0.93      0.93      0.93      2140\n   macro avg       0.93      0.93      0.93      2140\nweighted avg       0.93      0.93      0.93      2140\n samples avg       0.93      0.93      0.93      2140\n\n"
          ]
        }
      ]
    },
    {
      "cell_type": "markdown",
      "metadata": {
        "id": "sYohWMs3-COK"
      },
      "source": [
        "# AIModelShare"
      ]
    },
    {
      "cell_type": "markdown",
      "metadata": {
        "id": "KrCIl9C6-lTp"
      },
      "source": [
        "* Submit your best model to the leader board for the Covid Misinformation AI Model Share competition.\n",
        "* Import the best model from the leader board (whatever the best model is after your final submission)\n",
        "* Note: Use the aimodelshare ai.aimsonnx.instantiate_model() function in same manner as example provided in hackathon notebook\n",
        "* Visualize the model's structure using tf.kera's model.summary() \n",
        "* Explain how the model's structure is different from your best model.\n",
        "* Fit the best model from the leader board to training data and evaluate it on test data to complete your report.\n",
        "\n",
        "I submitted my best model to the leaderboard and was in the mid pack range in comparison the the other models (40 / 89). The best model surprised me in that it was also one of the most simple models with 1 embedding layer, a flatten layer and dense output layer. My best model tried to incorporate a lot of the elements we previously talked about for predictive modeling regarding text. However, this shows me that a more simple approach is also desirable for certain datasets."
      ]
    },
    {
      "cell_type": "code",
      "metadata": {
        "id": "xP1uzaDfDb1E"
      },
      "source": [
        "%%capture\n",
        "! pip install aimodelshare --upgrade --extra-index-url https://test.pypi.org/simple/ "
      ],
      "execution_count": 14,
      "outputs": []
    },
    {
      "cell_type": "code",
      "execution_count": 18,
      "metadata": {},
      "outputs": [
        {
          "output_type": "stream",
          "name": "stdout",
          "text": [
            "Requirement already satisfied: dill in c:\\users\\elliotttran\\appdata\\local\\programs\\python\\python39\\lib\\site-packages (0.3.3)\nCollecting pydot\n  Downloading pydot-1.4.2-py2.py3-none-any.whl (21 kB)\nRequirement already satisfied: pyparsing>=2.1.4 in c:\\users\\elliotttran\\appdata\\local\\programs\\python\\python39\\lib\\site-packages (from pydot) (2.4.7)\nInstalling collected packages: pydot\nSuccessfully installed pydot-1.4.2\n"
          ]
        }
      ],
      "source": [
        "!pip install dill pydot"
      ]
    },
    {
      "cell_type": "code",
      "metadata": {
        "id": "imkm3VZhO4mp"
      },
      "source": [
        "import aimodelshare as ai"
      ],
      "execution_count": 23,
      "outputs": []
    },
    {
      "cell_type": "code",
      "metadata": {
        "id": "pMgi3i82BejA"
      },
      "source": [
        "ai.export_preprocessor(preprocessor,\"\") #ignore error \"can't pickle module objects\""
      ],
      "execution_count": 25,
      "outputs": []
    },
    {
      "cell_type": "code",
      "metadata": {
        "colab": {
          "base_uri": "https://localhost:8080/",
          "height": 466
        },
        "id": "0OpxwStoBo-p",
        "outputId": "8af4916b-0242-43a1-c81d-9545f61cefa5"
      },
      "source": [
        "from aimodelshare.aimsonnx import model_to_onnx\n",
        "\n",
        "onnx_model = model_to_onnx(final_model, framework='keras', transfer_learning=False, deep_learning=True, task_type= \"classification\")\n",
        "\n",
        "with open(\"model.onnx\", \"wb\") as f:\n",
        "    f.write(onnx_model.SerializeToString())"
      ],
      "execution_count": 19,
      "outputs": [
        {
          "output_type": "stream",
          "name": "stdout",
          "text": [
            "INFO:tensorflow:Assets written to: C:\\Users\\ELLIOT~1\\AppData\\Local\\Temp\\assets\n"
          ]
        }
      ]
    },
    {
      "cell_type": "code",
      "metadata": {
        "id": "0GTXjpz4NODS"
      },
      "source": [
        "from aimodelshare.aws import set_credentials\n",
        "api_url = \"https://wvr23l2z9i.execute-api.us-east-1.amazonaws.com/prod/m\"\n",
        "\n",
        "set_credentials(apiurl=api_url,credential_file=\"credentials.txt\", type=\"submit_model\", manual=False)"
      ],
      "execution_count": 87,
      "outputs": [
        {
          "output_type": "stream",
          "name": "stdout",
          "text": [
            "AI Model Share login credentials set successfully.\nAWS credentials set successfully.\n"
          ]
        }
      ]
    },
    {
      "cell_type": "code",
      "execution_count": 27,
      "metadata": {},
      "outputs": [
        {
          "output_type": "execute_result",
          "data": {
            "text/plain": [
              "'Your model has been submitted as model version 87'"
            ]
          },
          "metadata": {},
          "execution_count": 27
        }
      ],
      "source": [
        "ai.submit_model(\"model.onnx\",\n",
        "                api_url,\n",
        "                prediction_submission=predicted_labels,\n",
        "                preprocessor=\"preprocessor.zip\")"
      ]
    },
    {
      "cell_type": "code",
      "execution_count": 88,
      "metadata": {},
      "outputs": [
        {
          "output_type": "execute_result",
          "data": {
            "text/plain": [
              "<pandas.io.formats.style.Styler at 0x2b484343070>"
            ],
            "text/html": "<style  type=\"text/css\" >\n#T_fd833_row0_col0,#T_fd833_row1_col0{\n            text-align:  center;\n            width:  10em;\n             height:  80%;\n            background:  linear-gradient(90deg,#f5f8d6 95.1%, transparent 95.1%);\n            color:  #251e1b;\n            font-size:  12px;\n        }#T_fd833_row0_col1,#T_fd833_row1_col1{\n            text-align:  center;\n            width:  10em;\n             height:  80%;\n            background:  linear-gradient(90deg,#c778c8 95.1%, transparent 95.1%);\n            color:  #251e1b;\n            font-size:  12px;\n        }#T_fd833_row0_col2,#T_fd833_row1_col2{\n            text-align:  center;\n            width:  10em;\n             height:  80%;\n            background:  linear-gradient(90deg,#ff4971 95.1%, transparent 95.1%);\n            color:  #251e1b;\n            font-size:  12px;\n        }#T_fd833_row0_col3,#T_fd833_row1_col3{\n            text-align:  center;\n            width:  10em;\n             height:  80%;\n            background:  linear-gradient(90deg,#aadbaa 95.1%, transparent 95.1%);\n            color:  #251e1b;\n            font-size:  12px;\n        }#T_fd833_row0_col4,#T_fd833_row0_col5,#T_fd833_row0_col6,#T_fd833_row0_col7,#T_fd833_row0_col8,#T_fd833_row0_col9,#T_fd833_row0_col10,#T_fd833_row0_col11,#T_fd833_row0_col12,#T_fd833_row0_col13,#T_fd833_row0_col14,#T_fd833_row0_col15,#T_fd833_row0_col16,#T_fd833_row0_col17,#T_fd833_row0_col18,#T_fd833_row0_col19,#T_fd833_row0_col20,#T_fd833_row0_col21,#T_fd833_row0_col22,#T_fd833_row0_col23,#T_fd833_row0_col24,#T_fd833_row0_col25,#T_fd833_row0_col26,#T_fd833_row0_col27,#T_fd833_row1_col4,#T_fd833_row1_col5,#T_fd833_row1_col6,#T_fd833_row1_col7,#T_fd833_row1_col8,#T_fd833_row1_col9,#T_fd833_row1_col10,#T_fd833_row1_col11,#T_fd833_row1_col12,#T_fd833_row1_col13,#T_fd833_row1_col14,#T_fd833_row1_col15,#T_fd833_row1_col16,#T_fd833_row1_col17,#T_fd833_row1_col18,#T_fd833_row1_col19,#T_fd833_row1_col20,#T_fd833_row1_col21,#T_fd833_row1_col22,#T_fd833_row1_col23,#T_fd833_row1_col24,#T_fd833_row1_col25,#T_fd833_row1_col26,#T_fd833_row1_col27,#T_fd833_row2_col4,#T_fd833_row2_col5,#T_fd833_row2_col6,#T_fd833_row2_col7,#T_fd833_row2_col8,#T_fd833_row2_col9,#T_fd833_row2_col10,#T_fd833_row2_col11,#T_fd833_row2_col12,#T_fd833_row2_col13,#T_fd833_row2_col14,#T_fd833_row2_col15,#T_fd833_row2_col16,#T_fd833_row2_col17,#T_fd833_row2_col18,#T_fd833_row2_col19,#T_fd833_row2_col20,#T_fd833_row2_col21,#T_fd833_row2_col22,#T_fd833_row2_col23,#T_fd833_row2_col24,#T_fd833_row2_col25,#T_fd833_row2_col26,#T_fd833_row2_col27,#T_fd833_row3_col4,#T_fd833_row3_col5,#T_fd833_row3_col6,#T_fd833_row3_col7,#T_fd833_row3_col8,#T_fd833_row3_col9,#T_fd833_row3_col10,#T_fd833_row3_col11,#T_fd833_row3_col12,#T_fd833_row3_col13,#T_fd833_row3_col14,#T_fd833_row3_col15,#T_fd833_row3_col16,#T_fd833_row3_col17,#T_fd833_row3_col18,#T_fd833_row3_col19,#T_fd833_row3_col20,#T_fd833_row3_col21,#T_fd833_row3_col22,#T_fd833_row3_col23,#T_fd833_row3_col24,#T_fd833_row3_col25,#T_fd833_row3_col26,#T_fd833_row3_col27,#T_fd833_row4_col4,#T_fd833_row4_col5,#T_fd833_row4_col6,#T_fd833_row4_col7,#T_fd833_row4_col8,#T_fd833_row4_col9,#T_fd833_row4_col10,#T_fd833_row4_col11,#T_fd833_row4_col12,#T_fd833_row4_col13,#T_fd833_row4_col14,#T_fd833_row4_col15,#T_fd833_row4_col16,#T_fd833_row4_col17,#T_fd833_row4_col18,#T_fd833_row4_col19,#T_fd833_row4_col20,#T_fd833_row4_col21,#T_fd833_row4_col22,#T_fd833_row4_col23,#T_fd833_row4_col24,#T_fd833_row4_col25,#T_fd833_row4_col26,#T_fd833_row4_col27{\n            text-align:  center;\n        }#T_fd833_row2_col0{\n            text-align:  center;\n            width:  10em;\n             height:  80%;\n            background:  linear-gradient(90deg,#f5f8d6 95.0%, transparent 95.0%);\n            color:  #251e1b;\n            font-size:  12px;\n        }#T_fd833_row2_col1{\n            text-align:  center;\n            width:  10em;\n             height:  80%;\n            background:  linear-gradient(90deg,#c778c8 95.0%, transparent 95.0%);\n            color:  #251e1b;\n            font-size:  12px;\n        }#T_fd833_row2_col2{\n            text-align:  center;\n            width:  10em;\n             height:  80%;\n            background:  linear-gradient(90deg,#ff4971 95.0%, transparent 95.0%);\n            color:  #251e1b;\n            font-size:  12px;\n        }#T_fd833_row2_col3{\n            text-align:  center;\n            width:  10em;\n             height:  80%;\n            background:  linear-gradient(90deg,#aadbaa 95.0%, transparent 95.0%);\n            color:  #251e1b;\n            font-size:  12px;\n        }#T_fd833_row3_col0{\n            text-align:  center;\n            width:  10em;\n             height:  80%;\n            background:  linear-gradient(90deg,#f5f8d6 94.9%, transparent 94.9%);\n            color:  #251e1b;\n            font-size:  12px;\n        }#T_fd833_row3_col1{\n            text-align:  center;\n            width:  10em;\n             height:  80%;\n            background:  linear-gradient(90deg,#c778c8 94.9%, transparent 94.9%);\n            color:  #251e1b;\n            font-size:  12px;\n        }#T_fd833_row3_col2{\n            text-align:  center;\n            width:  10em;\n             height:  80%;\n            background:  linear-gradient(90deg,#ff4971 94.8%, transparent 94.8%);\n            color:  #251e1b;\n            font-size:  12px;\n        }#T_fd833_row3_col3{\n            text-align:  center;\n            width:  10em;\n             height:  80%;\n            background:  linear-gradient(90deg,#aadbaa 94.9%, transparent 94.9%);\n            color:  #251e1b;\n            font-size:  12px;\n        }#T_fd833_row4_col0{\n            text-align:  center;\n            width:  10em;\n             height:  80%;\n            background:  linear-gradient(90deg,#f5f8d6 94.8%, transparent 94.8%);\n            color:  #251e1b;\n            font-size:  12px;\n        }#T_fd833_row4_col1{\n            text-align:  center;\n            width:  10em;\n             height:  80%;\n            background:  linear-gradient(90deg,#c778c8 94.8%, transparent 94.8%);\n            color:  #251e1b;\n            font-size:  12px;\n        }#T_fd833_row4_col2{\n            text-align:  center;\n            width:  10em;\n             height:  80%;\n            background:  linear-gradient(90deg,#ff4971 94.7%, transparent 94.7%);\n            color:  #251e1b;\n            font-size:  12px;\n        }#T_fd833_row4_col3{\n            text-align:  center;\n            width:  10em;\n             height:  80%;\n            background:  linear-gradient(90deg,#aadbaa 94.8%, transparent 94.8%);\n            color:  #251e1b;\n            font-size:  12px;\n        }</style><table id=\"T_fd833_\" ><thead>    <tr>        <th class=\"blank level0\" ></th>        <th class=\"col_heading level0 col0\" >accuracy</th>        <th class=\"col_heading level0 col1\" >f1_score</th>        <th class=\"col_heading level0 col2\" >precision</th>        <th class=\"col_heading level0 col3\" >recall</th>        <th class=\"col_heading level0 col4\" >ml_framework</th>        <th class=\"col_heading level0 col5\" >transfer_learning</th>        <th class=\"col_heading level0 col6\" >deep_learning</th>        <th class=\"col_heading level0 col7\" >model_type</th>        <th class=\"col_heading level0 col8\" >depth</th>        <th class=\"col_heading level0 col9\" >num_params</th>        <th class=\"col_heading level0 col10\" >bidirectional_layers</th>        <th class=\"col_heading level0 col11\" >conv1d_layers</th>        <th class=\"col_heading level0 col12\" >dense_layers</th>        <th class=\"col_heading level0 col13\" >embedding_layers</th>        <th class=\"col_heading level0 col14\" >flatten_layers</th>        <th class=\"col_heading level0 col15\" >globalmaxpooling1d_layers</th>        <th class=\"col_heading level0 col16\" >lstm_layers</th>        <th class=\"col_heading level0 col17\" >maxpooling1d_layers</th>        <th class=\"col_heading level0 col18\" >simplernn_layers</th>        <th class=\"col_heading level0 col19\" >relu_act</th>        <th class=\"col_heading level0 col20\" >sigmoid_act</th>        <th class=\"col_heading level0 col21\" >softmax_act</th>        <th class=\"col_heading level0 col22\" >tanh_act</th>        <th class=\"col_heading level0 col23\" >loss</th>        <th class=\"col_heading level0 col24\" >optimizer</th>        <th class=\"col_heading level0 col25\" >model_config</th>        <th class=\"col_heading level0 col26\" >username</th>        <th class=\"col_heading level0 col27\" >version</th>    </tr></thead><tbody>\n                <tr>\n                        <th id=\"T_fd833_level0_row0\" class=\"row_heading level0 row0\" >0</th>\n                        <td id=\"T_fd833_row0_col0\" class=\"data row0 col0\" >95.09%</td>\n                        <td id=\"T_fd833_row0_col1\" class=\"data row0 col1\" >95.09%</td>\n                        <td id=\"T_fd833_row0_col2\" class=\"data row0 col2\" >95.07%</td>\n                        <td id=\"T_fd833_row0_col3\" class=\"data row0 col3\" >95.12%</td>\n                        <td id=\"T_fd833_row0_col4\" class=\"data row0 col4\" >keras</td>\n                        <td id=\"T_fd833_row0_col5\" class=\"data row0 col5\" >False</td>\n                        <td id=\"T_fd833_row0_col6\" class=\"data row0 col6\" >True</td>\n                        <td id=\"T_fd833_row0_col7\" class=\"data row0 col7\" >Sequential</td>\n                        <td id=\"T_fd833_row0_col8\" class=\"data row0 col8\" >3</td>\n                        <td id=\"T_fd833_row0_col9\" class=\"data row0 col9\" >161922</td>\n                        <td id=\"T_fd833_row0_col10\" class=\"data row0 col10\" >nan</td>\n                        <td id=\"T_fd833_row0_col11\" class=\"data row0 col11\" >nan</td>\n                        <td id=\"T_fd833_row0_col12\" class=\"data row0 col12\" >1</td>\n                        <td id=\"T_fd833_row0_col13\" class=\"data row0 col13\" >1</td>\n                        <td id=\"T_fd833_row0_col14\" class=\"data row0 col14\" >1.000000</td>\n                        <td id=\"T_fd833_row0_col15\" class=\"data row0 col15\" >nan</td>\n                        <td id=\"T_fd833_row0_col16\" class=\"data row0 col16\" >nan</td>\n                        <td id=\"T_fd833_row0_col17\" class=\"data row0 col17\" >nan</td>\n                        <td id=\"T_fd833_row0_col18\" class=\"data row0 col18\" >nan</td>\n                        <td id=\"T_fd833_row0_col19\" class=\"data row0 col19\" >nan</td>\n                        <td id=\"T_fd833_row0_col20\" class=\"data row0 col20\" >nan</td>\n                        <td id=\"T_fd833_row0_col21\" class=\"data row0 col21\" >1.000000</td>\n                        <td id=\"T_fd833_row0_col22\" class=\"data row0 col22\" >nan</td>\n                        <td id=\"T_fd833_row0_col23\" class=\"data row0 col23\" >str</td>\n                        <td id=\"T_fd833_row0_col24\" class=\"data row0 col24\" >RMSprop</td>\n                        <td id=\"T_fd833_row0_col25\" class=\"data row0 col25\" >{'name': 'sequential', 'layers...</td>\n                        <td id=\"T_fd833_row0_col26\" class=\"data row0 col26\" >hpeters</td>\n                        <td id=\"T_fd833_row0_col27\" class=\"data row0 col27\" >67</td>\n            </tr>\n            <tr>\n                        <th id=\"T_fd833_level0_row1\" class=\"row_heading level0 row1\" >1</th>\n                        <td id=\"T_fd833_row1_col0\" class=\"data row1 col0\" >95.09%</td>\n                        <td id=\"T_fd833_row1_col1\" class=\"data row1 col1\" >95.09%</td>\n                        <td id=\"T_fd833_row1_col2\" class=\"data row1 col2\" >95.07%</td>\n                        <td id=\"T_fd833_row1_col3\" class=\"data row1 col3\" >95.12%</td>\n                        <td id=\"T_fd833_row1_col4\" class=\"data row1 col4\" >keras</td>\n                        <td id=\"T_fd833_row1_col5\" class=\"data row1 col5\" >False</td>\n                        <td id=\"T_fd833_row1_col6\" class=\"data row1 col6\" >True</td>\n                        <td id=\"T_fd833_row1_col7\" class=\"data row1 col7\" >Sequential</td>\n                        <td id=\"T_fd833_row1_col8\" class=\"data row1 col8\" >3</td>\n                        <td id=\"T_fd833_row1_col9\" class=\"data row1 col9\" >161922</td>\n                        <td id=\"T_fd833_row1_col10\" class=\"data row1 col10\" >nan</td>\n                        <td id=\"T_fd833_row1_col11\" class=\"data row1 col11\" >nan</td>\n                        <td id=\"T_fd833_row1_col12\" class=\"data row1 col12\" >1</td>\n                        <td id=\"T_fd833_row1_col13\" class=\"data row1 col13\" >1</td>\n                        <td id=\"T_fd833_row1_col14\" class=\"data row1 col14\" >1.000000</td>\n                        <td id=\"T_fd833_row1_col15\" class=\"data row1 col15\" >nan</td>\n                        <td id=\"T_fd833_row1_col16\" class=\"data row1 col16\" >nan</td>\n                        <td id=\"T_fd833_row1_col17\" class=\"data row1 col17\" >nan</td>\n                        <td id=\"T_fd833_row1_col18\" class=\"data row1 col18\" >nan</td>\n                        <td id=\"T_fd833_row1_col19\" class=\"data row1 col19\" >nan</td>\n                        <td id=\"T_fd833_row1_col20\" class=\"data row1 col20\" >nan</td>\n                        <td id=\"T_fd833_row1_col21\" class=\"data row1 col21\" >1.000000</td>\n                        <td id=\"T_fd833_row1_col22\" class=\"data row1 col22\" >nan</td>\n                        <td id=\"T_fd833_row1_col23\" class=\"data row1 col23\" >str</td>\n                        <td id=\"T_fd833_row1_col24\" class=\"data row1 col24\" >RMSprop</td>\n                        <td id=\"T_fd833_row1_col25\" class=\"data row1 col25\" >{'name': 'sequential', 'layers...</td>\n                        <td id=\"T_fd833_row1_col26\" class=\"data row1 col26\" >hpeters</td>\n                        <td id=\"T_fd833_row1_col27\" class=\"data row1 col27\" >66</td>\n            </tr>\n            <tr>\n                        <th id=\"T_fd833_level0_row2\" class=\"row_heading level0 row2\" >2</th>\n                        <td id=\"T_fd833_row2_col0\" class=\"data row2 col0\" >95.00%</td>\n                        <td id=\"T_fd833_row2_col1\" class=\"data row2 col1\" >94.99%</td>\n                        <td id=\"T_fd833_row2_col2\" class=\"data row2 col2\" >94.97%</td>\n                        <td id=\"T_fd833_row2_col3\" class=\"data row2 col3\" >95.02%</td>\n                        <td id=\"T_fd833_row2_col4\" class=\"data row2 col4\" >keras</td>\n                        <td id=\"T_fd833_row2_col5\" class=\"data row2 col5\" >False</td>\n                        <td id=\"T_fd833_row2_col6\" class=\"data row2 col6\" >True</td>\n                        <td id=\"T_fd833_row2_col7\" class=\"data row2 col7\" >Sequential</td>\n                        <td id=\"T_fd833_row2_col8\" class=\"data row2 col8\" >5</td>\n                        <td id=\"T_fd833_row2_col9\" class=\"data row2 col9\" >1081482</td>\n                        <td id=\"T_fd833_row2_col10\" class=\"data row2 col10\" >1.000000</td>\n                        <td id=\"T_fd833_row2_col11\" class=\"data row2 col11\" >nan</td>\n                        <td id=\"T_fd833_row2_col12\" class=\"data row2 col12\" >2</td>\n                        <td id=\"T_fd833_row2_col13\" class=\"data row2 col13\" >1</td>\n                        <td id=\"T_fd833_row2_col14\" class=\"data row2 col14\" >nan</td>\n                        <td id=\"T_fd833_row2_col15\" class=\"data row2 col15\" >nan</td>\n                        <td id=\"T_fd833_row2_col16\" class=\"data row2 col16\" >1.000000</td>\n                        <td id=\"T_fd833_row2_col17\" class=\"data row2 col17\" >nan</td>\n                        <td id=\"T_fd833_row2_col18\" class=\"data row2 col18\" >nan</td>\n                        <td id=\"T_fd833_row2_col19\" class=\"data row2 col19\" >1.000000</td>\n                        <td id=\"T_fd833_row2_col20\" class=\"data row2 col20\" >nan</td>\n                        <td id=\"T_fd833_row2_col21\" class=\"data row2 col21\" >1.000000</td>\n                        <td id=\"T_fd833_row2_col22\" class=\"data row2 col22\" >1.000000</td>\n                        <td id=\"T_fd833_row2_col23\" class=\"data row2 col23\" >str</td>\n                        <td id=\"T_fd833_row2_col24\" class=\"data row2 col24\" >RMSprop</td>\n                        <td id=\"T_fd833_row2_col25\" class=\"data row2 col25\" >{'name': 'sequential_29', 'lay...</td>\n                        <td id=\"T_fd833_row2_col26\" class=\"data row2 col26\" >kagenlim</td>\n                        <td id=\"T_fd833_row2_col27\" class=\"data row2 col27\" >61</td>\n            </tr>\n            <tr>\n                        <th id=\"T_fd833_level0_row3\" class=\"row_heading level0 row3\" >3</th>\n                        <td id=\"T_fd833_row3_col0\" class=\"data row3 col0\" >94.86%</td>\n                        <td id=\"T_fd833_row3_col1\" class=\"data row3 col1\" >94.85%</td>\n                        <td id=\"T_fd833_row3_col2\" class=\"data row3 col2\" >94.84%</td>\n                        <td id=\"T_fd833_row3_col3\" class=\"data row3 col3\" >94.87%</td>\n                        <td id=\"T_fd833_row3_col4\" class=\"data row3 col4\" >keras</td>\n                        <td id=\"T_fd833_row3_col5\" class=\"data row3 col5\" >False</td>\n                        <td id=\"T_fd833_row3_col6\" class=\"data row3 col6\" >True</td>\n                        <td id=\"T_fd833_row3_col7\" class=\"data row3 col7\" >Sequential</td>\n                        <td id=\"T_fd833_row3_col8\" class=\"data row3 col8\" >5</td>\n                        <td id=\"T_fd833_row3_col9\" class=\"data row3 col9\" >1035746</td>\n                        <td id=\"T_fd833_row3_col10\" class=\"data row3 col10\" >nan</td>\n                        <td id=\"T_fd833_row3_col11\" class=\"data row3 col11\" >nan</td>\n                        <td id=\"T_fd833_row3_col12\" class=\"data row3 col12\" >2</td>\n                        <td id=\"T_fd833_row3_col13\" class=\"data row3 col13\" >1</td>\n                        <td id=\"T_fd833_row3_col14\" class=\"data row3 col14\" >nan</td>\n                        <td id=\"T_fd833_row3_col15\" class=\"data row3 col15\" >nan</td>\n                        <td id=\"T_fd833_row3_col16\" class=\"data row3 col16\" >2.000000</td>\n                        <td id=\"T_fd833_row3_col17\" class=\"data row3 col17\" >nan</td>\n                        <td id=\"T_fd833_row3_col18\" class=\"data row3 col18\" >nan</td>\n                        <td id=\"T_fd833_row3_col19\" class=\"data row3 col19\" >1.000000</td>\n                        <td id=\"T_fd833_row3_col20\" class=\"data row3 col20\" >nan</td>\n                        <td id=\"T_fd833_row3_col21\" class=\"data row3 col21\" >1.000000</td>\n                        <td id=\"T_fd833_row3_col22\" class=\"data row3 col22\" >2.000000</td>\n                        <td id=\"T_fd833_row3_col23\" class=\"data row3 col23\" >str</td>\n                        <td id=\"T_fd833_row3_col24\" class=\"data row3 col24\" >RMSprop</td>\n                        <td id=\"T_fd833_row3_col25\" class=\"data row3 col25\" >{'name': 'sequential_3', 'laye...</td>\n                        <td id=\"T_fd833_row3_col26\" class=\"data row3 col26\" >kagenlim</td>\n                        <td id=\"T_fd833_row3_col27\" class=\"data row3 col27\" >19</td>\n            </tr>\n            <tr>\n                        <th id=\"T_fd833_level0_row4\" class=\"row_heading level0 row4\" >4</th>\n                        <td id=\"T_fd833_row4_col0\" class=\"data row4 col0\" >94.77%</td>\n                        <td id=\"T_fd833_row4_col1\" class=\"data row4 col1\" >94.76%</td>\n                        <td id=\"T_fd833_row4_col2\" class=\"data row4 col2\" >94.74%</td>\n                        <td id=\"T_fd833_row4_col3\" class=\"data row4 col3\" >94.78%</td>\n                        <td id=\"T_fd833_row4_col4\" class=\"data row4 col4\" >keras</td>\n                        <td id=\"T_fd833_row4_col5\" class=\"data row4 col5\" >False</td>\n                        <td id=\"T_fd833_row4_col6\" class=\"data row4 col6\" >True</td>\n                        <td id=\"T_fd833_row4_col7\" class=\"data row4 col7\" >Sequential</td>\n                        <td id=\"T_fd833_row4_col8\" class=\"data row4 col8\" >9</td>\n                        <td id=\"T_fd833_row4_col9\" class=\"data row4 col9\" >1313030</td>\n                        <td id=\"T_fd833_row4_col10\" class=\"data row4 col10\" >nan</td>\n                        <td id=\"T_fd833_row4_col11\" class=\"data row4 col11\" >nan</td>\n                        <td id=\"T_fd833_row4_col12\" class=\"data row4 col12\" >2</td>\n                        <td id=\"T_fd833_row4_col13\" class=\"data row4 col13\" >1</td>\n                        <td id=\"T_fd833_row4_col14\" class=\"data row4 col14\" >1.000000</td>\n                        <td id=\"T_fd833_row4_col15\" class=\"data row4 col15\" >nan</td>\n                        <td id=\"T_fd833_row4_col16\" class=\"data row4 col16\" >1.000000</td>\n                        <td id=\"T_fd833_row4_col17\" class=\"data row4 col17\" >nan</td>\n                        <td id=\"T_fd833_row4_col18\" class=\"data row4 col18\" >4.000000</td>\n                        <td id=\"T_fd833_row4_col19\" class=\"data row4 col19\" >nan</td>\n                        <td id=\"T_fd833_row4_col20\" class=\"data row4 col20\" >3.000000</td>\n                        <td id=\"T_fd833_row4_col21\" class=\"data row4 col21\" >nan</td>\n                        <td id=\"T_fd833_row4_col22\" class=\"data row4 col22\" >4.000000</td>\n                        <td id=\"T_fd833_row4_col23\" class=\"data row4 col23\" >str</td>\n                        <td id=\"T_fd833_row4_col24\" class=\"data row4 col24\" >RMSprop</td>\n                        <td id=\"T_fd833_row4_col25\" class=\"data row4 col25\" >{'name': 'sequential_1', 'laye...</td>\n                        <td id=\"T_fd833_row4_col26\" class=\"data row4 col26\" >kka2120</td>\n                        <td id=\"T_fd833_row4_col27\" class=\"data row4 col27\" >69</td>\n            </tr>\n    </tbody></table>"
          },
          "metadata": {},
          "execution_count": 88
        }
      ],
      "source": [
        "data=ai.get_leaderboard(api_url, verbose=3)\n",
        "ai.leaderboard.stylize_leaderboard(data.head())"
      ]
    },
    {
      "cell_type": "code",
      "execution_count": 52,
      "metadata": {},
      "outputs": [
        {
          "output_type": "stream",
          "name": "stdout",
          "text": [
            "Model: \"sequential_1\"\n_________________________________________________________________\nLayer (type)                 Output Shape              Param #   \n=================================================================\nembedding (Embedding)        (None, 100, 16)           160000    \n_________________________________________________________________\nflatten (Flatten)            (None, 1600)              0         \n_________________________________________________________________\ndense (Dense)                (None, 2)                 3202      \n=================================================================\nTotal params: 163,202\nTrainable params: 163,202\nNon-trainable params: 0\n_________________________________________________________________\n"
          ]
        }
      ],
      "source": [
        " # Get best model architecture and view model summary, change version arg as needed\n",
        " \n",
        " bestmodel = ai.aimsonnx.instantiate_model(api_url, version = 1) \n",
        "\n",
        " bestmodel.summary()"
      ]
    },
    {
      "cell_type": "code",
      "execution_count": 41,
      "metadata": {},
      "outputs": [
        {
          "output_type": "execute_result",
          "data": {
            "text/plain": [
              "<pandas.io.formats.style.Styler at 0x2b4da6a9820>"
            ],
            "text/html": "<style  type=\"text/css\" >\n#T_352ad_row2_col0,#T_352ad_row5_col3{\n            background:  tomato;\n        }</style><table id=\"T_352ad_\" ><thead>    <tr>        <th class=\"blank level0\" ></th>        <th class=\"col_heading level0 col0\" >Model_1_Layer</th>        <th class=\"col_heading level0 col1\" >Model_1_Shape</th>        <th class=\"col_heading level0 col2\" >Model_1_Params</th>        <th class=\"col_heading level0 col3\" >Model_87_Layer</th>        <th class=\"col_heading level0 col4\" >Model_87_Shape</th>        <th class=\"col_heading level0 col5\" >Model_87_Params</th>    </tr></thead><tbody>\n                <tr>\n                        <th id=\"T_352ad_level0_row0\" class=\"row_heading level0 row0\" >0</th>\n                        <td id=\"T_352ad_row0_col0\" class=\"data row0 col0\" >Embedding</td>\n                        <td id=\"T_352ad_row0_col1\" class=\"data row0 col1\" >(None, 100, 16)</td>\n                        <td id=\"T_352ad_row0_col2\" class=\"data row0 col2\" >160000.000000</td>\n                        <td id=\"T_352ad_row0_col3\" class=\"data row0 col3\" >Embedding</td>\n                        <td id=\"T_352ad_row0_col4\" class=\"data row0 col4\" >(None, 140, 32)</td>\n                        <td id=\"T_352ad_row0_col5\" class=\"data row0 col5\" >320000</td>\n            </tr>\n            <tr>\n                        <th id=\"T_352ad_level0_row1\" class=\"row_heading level0 row1\" >1</th>\n                        <td id=\"T_352ad_row1_col0\" class=\"data row1 col0\" >Flatten</td>\n                        <td id=\"T_352ad_row1_col1\" class=\"data row1 col1\" >(None, 1600)</td>\n                        <td id=\"T_352ad_row1_col2\" class=\"data row1 col2\" >0.000000</td>\n                        <td id=\"T_352ad_row1_col3\" class=\"data row1 col3\" >LSTM</td>\n                        <td id=\"T_352ad_row1_col4\" class=\"data row1 col4\" >(None, 140, 64)</td>\n                        <td id=\"T_352ad_row1_col5\" class=\"data row1 col5\" >24832</td>\n            </tr>\n            <tr>\n                        <th id=\"T_352ad_level0_row2\" class=\"row_heading level0 row2\" >2</th>\n                        <td id=\"T_352ad_row2_col0\" class=\"data row2 col0\" >Dense</td>\n                        <td id=\"T_352ad_row2_col1\" class=\"data row2 col1\" >(None, 2)</td>\n                        <td id=\"T_352ad_row2_col2\" class=\"data row2 col2\" >3202.000000</td>\n                        <td id=\"T_352ad_row2_col3\" class=\"data row2 col3\" >LSTM</td>\n                        <td id=\"T_352ad_row2_col4\" class=\"data row2 col4\" >(None, 140, 32)</td>\n                        <td id=\"T_352ad_row2_col5\" class=\"data row2 col5\" >12416</td>\n            </tr>\n            <tr>\n                        <th id=\"T_352ad_level0_row3\" class=\"row_heading level0 row3\" >3</th>\n                        <td id=\"T_352ad_row3_col0\" class=\"data row3 col0\" >nan</td>\n                        <td id=\"T_352ad_row3_col1\" class=\"data row3 col1\" >nan</td>\n                        <td id=\"T_352ad_row3_col2\" class=\"data row3 col2\" >nan</td>\n                        <td id=\"T_352ad_row3_col3\" class=\"data row3 col3\" >Conv1D</td>\n                        <td id=\"T_352ad_row3_col4\" class=\"data row3 col4\" >(None, 137, 32)</td>\n                        <td id=\"T_352ad_row3_col5\" class=\"data row3 col5\" >4128</td>\n            </tr>\n            <tr>\n                        <th id=\"T_352ad_level0_row4\" class=\"row_heading level0 row4\" >4</th>\n                        <td id=\"T_352ad_row4_col0\" class=\"data row4 col0\" >nan</td>\n                        <td id=\"T_352ad_row4_col1\" class=\"data row4 col1\" >nan</td>\n                        <td id=\"T_352ad_row4_col2\" class=\"data row4 col2\" >nan</td>\n                        <td id=\"T_352ad_row4_col3\" class=\"data row4 col3\" >GlobalMaxPooling1D</td>\n                        <td id=\"T_352ad_row4_col4\" class=\"data row4 col4\" >(None, 32)</td>\n                        <td id=\"T_352ad_row4_col5\" class=\"data row4 col5\" >0</td>\n            </tr>\n            <tr>\n                        <th id=\"T_352ad_level0_row5\" class=\"row_heading level0 row5\" >5</th>\n                        <td id=\"T_352ad_row5_col0\" class=\"data row5 col0\" >nan</td>\n                        <td id=\"T_352ad_row5_col1\" class=\"data row5 col1\" >nan</td>\n                        <td id=\"T_352ad_row5_col2\" class=\"data row5 col2\" >nan</td>\n                        <td id=\"T_352ad_row5_col3\" class=\"data row5 col3\" >Dense</td>\n                        <td id=\"T_352ad_row5_col4\" class=\"data row5 col4\" >(None, 2)</td>\n                        <td id=\"T_352ad_row5_col5\" class=\"data row5 col5\" >66</td>\n            </tr>\n    </tbody></table>"
          },
          "metadata": {},
          "execution_count": 41
        }
      ],
      "source": [
        "# Compare two model versions to see diffs\n",
        "ai.aimsonnx.compare_models(api_url, version_list=[1,87]) "
      ]
    },
    {
      "cell_type": "code",
      "execution_count": 89,
      "metadata": {},
      "outputs": [
        {
          "output_type": "execute_result",
          "data": {
            "text/plain": [
              "    accuracy  f1_score  precision    recall ml_framework  transfer_learning  \\\n",
              "39  0.933645  0.933585   0.933413  0.934287        keras              False   \n",
              "40  0.933645  0.933585   0.933413  0.934287        keras              False   \n",
              "41  0.933645  0.933585   0.933413  0.934287        keras              False   \n",
              "\n",
              "    deep_learning  model_type  depth  num_params  ...  relu_act  sigmoid_act  \\\n",
              "39           True  Sequential      6      361442  ...       1.0          NaN   \n",
              "40           True  Sequential      6      361442  ...       1.0          NaN   \n",
              "41           True  Sequential      6      361442  ...       1.0          NaN   \n",
              "\n",
              "    softmax_act  tanh_act  loss  optimizer  \\\n",
              "39          1.0       2.0   str    RMSprop   \n",
              "40          1.0       2.0   str    RMSprop   \n",
              "41          1.0       2.0   str    RMSprop   \n",
              "\n",
              "                                         model_config  username  \\\n",
              "39  {'name': 'sequential', 'layers': [{'class_name...   eat2153   \n",
              "40  {'name': 'sequential', 'layers': [{'class_name...   eat2153   \n",
              "41  {'name': 'sequential', 'layers': [{'class_name...   eat2153   \n",
              "\n",
              "                     timestamp  version  \n",
              "39  2021-04-20 23:44:57.971864       87  \n",
              "40  2021-04-20 23:43:16.462774       85  \n",
              "41  2021-04-20 23:43:39.124540       86  \n",
              "\n",
              "[3 rows x 29 columns]"
            ],
            "text/html": "<div>\n<style scoped>\n    .dataframe tbody tr th:only-of-type {\n        vertical-align: middle;\n    }\n\n    .dataframe tbody tr th {\n        vertical-align: top;\n    }\n\n    .dataframe thead th {\n        text-align: right;\n    }\n</style>\n<table border=\"1\" class=\"dataframe\">\n  <thead>\n    <tr style=\"text-align: right;\">\n      <th></th>\n      <th>accuracy</th>\n      <th>f1_score</th>\n      <th>precision</th>\n      <th>recall</th>\n      <th>ml_framework</th>\n      <th>transfer_learning</th>\n      <th>deep_learning</th>\n      <th>model_type</th>\n      <th>depth</th>\n      <th>num_params</th>\n      <th>...</th>\n      <th>relu_act</th>\n      <th>sigmoid_act</th>\n      <th>softmax_act</th>\n      <th>tanh_act</th>\n      <th>loss</th>\n      <th>optimizer</th>\n      <th>model_config</th>\n      <th>username</th>\n      <th>timestamp</th>\n      <th>version</th>\n    </tr>\n  </thead>\n  <tbody>\n    <tr>\n      <th>39</th>\n      <td>0.933645</td>\n      <td>0.933585</td>\n      <td>0.933413</td>\n      <td>0.934287</td>\n      <td>keras</td>\n      <td>False</td>\n      <td>True</td>\n      <td>Sequential</td>\n      <td>6</td>\n      <td>361442</td>\n      <td>...</td>\n      <td>1.0</td>\n      <td>NaN</td>\n      <td>1.0</td>\n      <td>2.0</td>\n      <td>str</td>\n      <td>RMSprop</td>\n      <td>{'name': 'sequential', 'layers': [{'class_name...</td>\n      <td>eat2153</td>\n      <td>2021-04-20 23:44:57.971864</td>\n      <td>87</td>\n    </tr>\n    <tr>\n      <th>40</th>\n      <td>0.933645</td>\n      <td>0.933585</td>\n      <td>0.933413</td>\n      <td>0.934287</td>\n      <td>keras</td>\n      <td>False</td>\n      <td>True</td>\n      <td>Sequential</td>\n      <td>6</td>\n      <td>361442</td>\n      <td>...</td>\n      <td>1.0</td>\n      <td>NaN</td>\n      <td>1.0</td>\n      <td>2.0</td>\n      <td>str</td>\n      <td>RMSprop</td>\n      <td>{'name': 'sequential', 'layers': [{'class_name...</td>\n      <td>eat2153</td>\n      <td>2021-04-20 23:43:16.462774</td>\n      <td>85</td>\n    </tr>\n    <tr>\n      <th>41</th>\n      <td>0.933645</td>\n      <td>0.933585</td>\n      <td>0.933413</td>\n      <td>0.934287</td>\n      <td>keras</td>\n      <td>False</td>\n      <td>True</td>\n      <td>Sequential</td>\n      <td>6</td>\n      <td>361442</td>\n      <td>...</td>\n      <td>1.0</td>\n      <td>NaN</td>\n      <td>1.0</td>\n      <td>2.0</td>\n      <td>str</td>\n      <td>RMSprop</td>\n      <td>{'name': 'sequential', 'layers': [{'class_name...</td>\n      <td>eat2153</td>\n      <td>2021-04-20 23:43:39.124540</td>\n      <td>86</td>\n    </tr>\n  </tbody>\n</table>\n<p>3 rows × 29 columns</p>\n</div>"
          },
          "metadata": {},
          "execution_count": 89
        }
      ],
      "source": [
        "data[data.username == 'eat2153']"
      ]
    },
    {
      "cell_type": "code",
      "execution_count": 51,
      "metadata": {},
      "outputs": [
        {
          "output_type": "execute_result",
          "data": {
            "text/plain": [
              "\"{'name': 'sequential', 'layers': [{'class_name': 'InputLayer', 'config': {'batch_input_shape': (None, 60), 'dtype': 'float32', 'sparse': False, 'ragged': False, 'name': 'embedding_input'}}, {'class_name': 'Embedding', 'config': {'name': 'embedding', 'trainable': True, 'batch_input_shape': (None, 60), 'dtype': 'float32', 'input_dim': 10000, 'output_dim': 16, 'embeddings_initializer': {'class_name': 'RandomUniform', 'config': {'minval': -0.05, 'maxval': 0.05, 'seed': None}}, 'embeddings_regularizer': None, 'activity_regularizer': None, 'embeddings_constraint': None, 'mask_zero': False, 'input_length': 60}}, {'class_name': 'Flatten', 'config': {'name': 'flatten', 'trainable': True, 'dtype': 'float32', 'data_format': 'channels_last'}}, {'class_name': 'Dense', 'config': {'name': 'dense', 'trainable': True, 'dtype': 'float32', 'units': 2, 'activation': 'softmax', 'use_bias': True, 'kernel_initializer': {'class_name': 'GlorotUniform', 'config': {'seed': None}}, 'bias_initializer': {'class_name': 'Zeros', 'config': {}}, 'kernel_regularizer': None, 'bias_regularizer': None, 'activity_regularizer': None, 'kernel_constraint': None, 'bias_constraint': None}}]}\""
            ]
          },
          "metadata": {},
          "execution_count": 51
        }
      ],
      "source": [
        "data.loc[0]['model_config']"
      ]
    },
    {
      "cell_type": "code",
      "execution_count": 77,
      "metadata": {},
      "outputs": [],
      "source": [
        "maxlen = 100\n",
        "\n",
        "X_train = preprocessor(trainingdata.tweet, maxlen=maxlen, max_words=10000)\n",
        "X_test = preprocessor(testdata.tweet, maxlen=maxlen, max_words=10000)\n",
        "\n",
        "y_train = pd.get_dummies(trainingdata.label)\n",
        "y_test = pd.get_dummies(testdata.label)"
      ]
    },
    {
      "cell_type": "code",
      "execution_count": 78,
      "metadata": {},
      "outputs": [
        {
          "output_type": "stream",
          "name": "stdout",
          "text": [
            "Epoch 1/5\n",
            "161/161 [==============================] - 1s 2ms/step - loss: 0.5716 - acc: 0.7103 - val_loss: 0.3661 - val_acc: 0.8349\n",
            "Epoch 2/5\n",
            "161/161 [==============================] - 0s 907us/step - loss: 0.3178 - acc: 0.8626 - val_loss: 0.2577 - val_acc: 0.8902\n",
            "Epoch 3/5\n",
            "161/161 [==============================] - 0s 876us/step - loss: 0.1928 - acc: 0.9279 - val_loss: 0.2087 - val_acc: 0.9167\n",
            "Epoch 4/5\n",
            "161/161 [==============================] - 0s 895us/step - loss: 0.1300 - acc: 0.9515 - val_loss: 0.1856 - val_acc: 0.9299\n",
            "Epoch 5/5\n",
            "161/161 [==============================] - 0s 910us/step - loss: 0.0984 - acc: 0.9687 - val_loss: 0.1758 - val_acc: 0.9276\n"
          ]
        }
      ],
      "source": [
        "bestmodel.compile(optimizer='rmsprop', loss='categorical_crossentropy', metrics=['acc'])\n",
        "\n",
        "history = bestmodel.fit(X_train, y_train,\n",
        "                    epochs=5,\n",
        "                    batch_size=32,\n",
        "                    validation_split=0.2)"
      ]
    },
    {
      "cell_type": "code",
      "execution_count": 79,
      "metadata": {},
      "outputs": [
        {
          "output_type": "stream",
          "name": "stdout",
          "text": [
            "              precision    recall  f1-score   support\n\n           0       0.94      0.93      0.94      1020\n           1       0.93      0.95      0.94      1120\n\n   micro avg       0.94      0.94      0.94      2140\n   macro avg       0.94      0.94      0.94      2140\nweighted avg       0.94      0.94      0.94      2140\n samples avg       0.94      0.94      0.94      2140\n\n"
          ]
        }
      ],
      "source": [
        "y_pred = bestmodel.predict(X_test).argmax(axis=1)\n",
        "\n",
        "predicted_labels = [y_test.columns[i] for i in y_pred]\n",
        "\n",
        "labels_pred = pd.get_dummies(predicted_labels)\n",
        "\n",
        "print(classification_report(y_test, labels_pred))"
      ]
    },
    {
      "source": [
        "## Complete your report by feeding your model some realistic tweets  to see if it returns meaningful/useful results (these tweets can be found online or you can create them yourself).\n",
        "\n",
        "I fed realistic tweets into my best model by using a Markov chain generator package named Markovify. Using this package, I generated 100 \"tweets\" to feed back into my model. As seen below, using this approach led to some plausible and some very nonsensical results. The model was able to predict that all 100 of such sentences are fake. \n"
      ],
      "cell_type": "markdown",
      "metadata": {}
    },
    {
      "cell_type": "code",
      "execution_count": 54,
      "metadata": {},
      "outputs": [
        {
          "output_type": "stream",
          "name": "stdout",
          "text": [
            "Collecting markovify\n  Downloading markovify-0.9.0.tar.gz (27 kB)\nCollecting unidecode\n  Downloading Unidecode-1.2.0-py2.py3-none-any.whl (241 kB)\nBuilding wheels for collected packages: markovify\n  Building wheel for markovify (setup.py): started\n  Building wheel for markovify (setup.py): finished with status 'done'\n  Created wheel for markovify: filename=markovify-0.9.0-py3-none-any.whl size=18476 sha256=e207b6183cd2b84825308644bd20f976b961665388b36ccc2ba7458e14fd4ecd\n  Stored in directory: c:\\users\\elliotttran\\appdata\\local\\pip\\cache\\wheels\\5a\\8b\\a9\\23dc9b10a5dfc0c20e6c9e1fe031d3db669bfb10a237c4f2f7\nSuccessfully built markovify\nInstalling collected packages: unidecode, markovify\nSuccessfully installed markovify-0.9.0 unidecode-1.2.0\n"
          ]
        }
      ],
      "source": [
        "!pip install markovify\n",
        "import markovify"
      ]
    },
    {
      "cell_type": "code",
      "execution_count": 56,
      "metadata": {},
      "outputs": [],
      "source": [
        "training_text = trainingdata['tweet']"
      ]
    },
    {
      "cell_type": "code",
      "execution_count": 57,
      "metadata": {},
      "outputs": [],
      "source": [
        "model_markov_baseline = markovify.Text(training_text, state_size=1)"
      ]
    },
    {
      "cell_type": "code",
      "execution_count": 58,
      "metadata": {},
      "outputs": [],
      "source": [
        "sentence_markov_baseline = []\n",
        "for _ in range(100):\n",
        "    sentence = model_markov_baseline.make_short_sentence(max_chars = 140)\n",
        "    if sentence is not None:\n",
        "      sentence_markov_baseline.append(sentence)"
      ]
    },
    {
      "cell_type": "code",
      "execution_count": 59,
      "metadata": {},
      "outputs": [
        {
          "output_type": "execute_result",
          "data": {
            "text/plain": [
              "['The first task force vaccinate people.',\n",
              " 'We explain here: https://t.co/BSgsPiqW0q. https://t.co/qGaJV8MTJ8',\n",
              " 'There is false. https://t.co/Ldttt2FPwL',\n",
              " 'NEW: Updated on #COVID19Nigeria',\n",
              " 'When you believe everything they would cover most people stay at disaster@leo.gov. https://t.co/oJWSeGXMYm',\n",
              " 'A big deal with coronavirus.',\n",
              " 'On therapeutics include events at the charts here.',\n",
              " 'Wear masks gowns has imposed on every morning: Take steps to sign a noticeable uptick.',\n",
              " '3 may, 2020 there are at Dhanbad Hospital.',\n",
              " 'RT @MoHFW_INDIA: #CoronaVirusUpdates #coronavirus updates: https://t.co/7c8W5pWNmp https://t.co/QG8EJnQbWH',\n",
              " \"@NateSilver538 It's extremely hot water and Covid Deaths, Bullet Holes Aside from state is published.\",\n",
              " 'A photo of the next week ending #COVID19 affects your hands often to discuss the therapeutic options for the cases pneumonia.',\n",
              " 'Learn more: https://t.co/Avjf91j28V https://t.co/wVbi1O3jEr',\n",
              " 'To Turn On Each habit adds uncertainty of active cases 1145629 have been given a vaccine is published.',\n",
              " 'Acc to the World Health Organization announced tomorrow at 09:30 pm 9th on the Finance Now.',\n",
              " 'Post it shows COVID-19 deaths today than 1.5 lakh mark.',\n",
              " 'EMA’s CHMP recommends private sector.',\n",
              " 'Video of May 4th.',\n",
              " 'We are we have coronavirus. https://t.co/pgXjssssu9',\n",
              " 'Guam reported fewer COVID-19 cases 25 at home breaking the academic partners is receiving hospital-level care and totals.',\n",
              " \"Besides US @StateDept recommends that are showing Uganda's first coronavirus lockdown.\",\n",
              " \"Well that's bad.\",\n",
              " 'From 23 million to do your own behavior jihadis.',\n",
              " 'The recent years or county home management act the great state reports.',\n",
              " 'Donald Trump in a ventilator to Maharashtra Tamil Nadu account other programs affected States.',\n",
              " 'While the new @CDCMMWR on 23 million people have committed to turn the next day 12 in the capacity even a pinch of them.',\n",
              " 'Help protect yourself from yesterday.',\n",
              " 'But the new cases of novel coronavirus.',\n",
              " 'Indian state has been 300000 people who are looking after a hospital occupancy rate since July 18.',\n",
              " 'Getting help to: -bring the World employee has been issued a plan to 13.3 lakh.',\n",
              " '587 new cases from COVID-19.',\n",
              " '@jburnmurdoch @thereal_truther Don´t follow up their hands often. https://t.co/0tShDj79Rg',\n",
              " 'One thing they may have tested on Bill Gates??�',\n",
              " 'There are capturing all day per the true number of the rescue operation to reopen safely.',\n",
              " 'BREAKING: Former presidential leadership &amp; Gary Busey To Dáil Fridge https://t.co/YPfGIlT3kz',\n",
              " 'There were more https://t.co/PNFRYte3x2 #actnow https://t.co/zTRAM9878J',\n",
              " 'They died from Los Angeles.',\n",
              " 'Guidance from others &amp; wear the CDC Says He was associated VTE risks across the World Health Ministry of the Medical and Growth ...',\n",
              " 'Drink coffee nor any point in winter.',\n",
              " 'But the coming days.',\n",
              " '• Today @realDonaldTrump and Twitter alongside claims that many #COVID19 testing for the gym classes 9-12th...',\n",
              " 'The NewsThump guide to March/April. https://t.co/dspMbJ4gJ4',\n",
              " 'Whether a novel coronavirus.',\n",
              " 'An image shows that have been hospitalized COVID-19',\n",
              " '#IndiaFightsCorona Health Equity Strategy describes what do your household.',\n",
              " 'Of those error',\n",
              " 'RT @drharshvardhan: #COVID19 #coronavirus could spread of the lockdown in Sweden refused testing.',\n",
              " 'UPDATE: #COVID19 has tested so that COVID-19 travel and eucalyptus prevents a scam or two different path. https://t.co/rt5RD9WOGA',\n",
              " 'COVID-19 is only a Chinese Muslims to the quarantine facility in Auckland based.',\n",
              " 'Learn more police officer enforced lockdown due to properly assign those people who die unnecessarily.',\n",
              " 'The U.S. #COVID19 recovery rate of COVID-19 and accuses the SARS-CoV-2 can spread as health emergency: https://t.co/N128pKjOKx',\n",
              " 'The Lord protect yourself to consider they remain in her hands.',\n",
              " 'OK grades are imported cases today. https://t.co/E1yZfBBEym',\n",
              " 'We just 12 hours 12 days.',\n",
              " 'I am on in the depressing music events, get the last day and local Muslims and poultry products and others healthy.',\n",
              " 'Their Name After weeks of King To Cancel Holiday https://t.co/BGp5V9CsXt',\n",
              " \"In Japan had not Allah's.\",\n",
              " 'You stay current hospitalizations/ICU admissions. https://t.co/z8O6cmC1na',\n",
              " 'A new cases of the border.',\n",
              " '#IndiaFightsCorona: The British people who have found the social dis…',\n",
              " \"New Jersey's case definition https://t.co/KYarnxsY2O https://t.co/nu8WMTBlLG\",\n",
              " 'Democratic congrasswoman Ilhan Omar tweeted that covers your hands.',\n",
              " 'We fact-checked and postnatal care system does not seen for new cases of the disease COVID-19.',\n",
              " \"With 925383 tests in their company's stock moves back but the inclusion in Delhi's Loknayak hospital in deaths https://t.co/Z7W9nJNowS\",\n",
              " 'Reminder to vaccines is compiled with props & Priyanka Gandhi & Day 30 when should prioritise testing.',\n",
              " 'There are part because the bereavement events &amp; others.',\n",
              " 'Recoveries of serious outbreaks.',\n",
              " 'RT @CDCDirector: We cannot get into the entire family',\n",
              " '87374 recoveries are 3.4 times the area 👇 https://t.co/pSSGfffuGH',\n",
              " '@ajdlinux That is too races past week.',\n",
              " 'A wall to 15.8 lakh.',\n",
              " 'Update from COVID-19.',\n",
              " 'At a complete data that are in England during the process we have been no one new cases.',\n",
              " 'The best ways to Muslims and families our facilities.',\n",
              " 'RT @HHSGov: As India due to report.\\u200b \\u200b people with infected again. https://t.co/ya0wuIXjt4',\n",
              " 'We will be introduced across the last 24 hours free of Health Department sources soon.',\n",
              " '@PMOIndia @drharshvardhan @DrHVoffice #COVID__19 #Covid_19 #COVIDー19 #COVID19India #COVIDUpdates #coronavirus #johnwayne',\n",
              " 'Clinicians: Do you must continue to recover in the deaths For details see: https://t.co/PZrmH4bl5Y https://t.co/Z4XoTg17P3',\n",
              " 'And he was undergoing clinical trials are setting ➡️Important takeaway message: need context of this problem.',\n",
              " 'The World Health Equity Strategy describes the COVAX with COVID out the percentage of accurate now.',\n",
              " 'Read more coronavirus',\n",
              " 'SUGGEST YOU WILL END ON JUNE 30, 2020 PM Imran Khan distributed around someone test results to 428600.',\n",
              " 'New guidance to control the list of #COVID19 diagnostic stewardship Read about #COVID19 pandemic has one case tally crossed the #ccpvirus.',\n",
              " 'Everyone has achieved these bacteria-eating viruses from #COVID19.',\n",
              " 'Roche Medical Company will be transmitted This is unchanged from a new COVID outbreaks.',\n",
              " 'RT @drharshvardhan: #COVID19 deaths https://t.co/jnWgSFGTUh',\n",
              " 'Drinking pigeon membrane slurry can help #SlowTheSpread https://t.co/sf29Fzoju8',\n",
              " 'COVID-19 so fa…',\n",
              " 'The #iGoT pilot projects infections which 18 the east coast weather problems. https://t.co/aF3bZRlEve',\n",
              " '#Fake Messages are on April 8 lakh people with COVID-19.',\n",
              " 'Every corona crisis can visit shops except those reporting lags—probably reflect tomorrow..if today Case Fatality Rate.',\n",
              " \"When snow's on our earlier testing in order because they are probably will not cause of deaths 6,114.??�\",\n",
              " 'Government Stick €30bn Covid and quarantine.',\n",
              " 'New Zealand is way to a shipwreck in the school.',\n",
              " 'Sex Workers Inundated With self-checkup you using existing cluster.',\n",
              " 'States armed forces behind coronavirus vaccine in 141 days. https://t.co/seM7eTf6Qu #coronavirus #baseball',\n",
              " 'United States i.e Karnataka &amp; ethnicity information.',\n",
              " \"U.S. scientists @edinburghuni discover that is critically important because of all internat'l flights only close or prevent coronavirus.\",\n",
              " 'Celebrities spreading COVID-19 to the U.S. adults and now 20 lakh.',\n",
              " 'Constant sex with former outbreaks. https://t.co/2L2QxH0M45 https://t.co/jONigCLuH4']"
            ]
          },
          "metadata": {},
          "execution_count": 59
        }
      ],
      "source": [
        "sentence_markov_baseline"
      ]
    },
    {
      "cell_type": "code",
      "execution_count": 60,
      "metadata": {},
      "outputs": [],
      "source": [
        "df = pd.DataFrame(sentence_markov_baseline, columns= ['new_text'])"
      ]
    },
    {
      "cell_type": "code",
      "execution_count": 72,
      "metadata": {},
      "outputs": [],
      "source": [
        "df['fake'] = 1\n",
        "\n",
        "maxlen = 140\n",
        "\n",
        "# tokenize and pad X data\n",
        "X = preprocessor(df.new_text, maxlen=140, max_words=10000)\n",
        "\n",
        "# one encode Y data\n",
        "y_true = pd.get_dummies(df.fake)"
      ]
    },
    {
      "cell_type": "code",
      "execution_count": 73,
      "metadata": {},
      "outputs": [
        {
          "output_type": "stream",
          "name": "stdout",
          "text": [
            "              precision    recall  f1-score   support\n",
            "\n",
            "           0     0.0000    0.0000    0.0000         0\n",
            "           1     1.0000    0.2900    0.4496       100\n",
            "\n",
            "    accuracy                         0.2900       100\n",
            "   macro avg     0.5000    0.1450    0.2248       100\n",
            "weighted avg     1.0000    0.2900    0.4496       100\n",
            "\n",
            "C:\\Users\\ElliottTran\\AppData\\Local\\Programs\\Python\\Python39\\lib\\site-packages\\sklearn\\metrics\\_classification.py:1245: UndefinedMetricWarning: Recall and F-score are ill-defined and being set to 0.0 in labels with no true samples. Use `zero_division` parameter to control this behavior.\n",
            "  _warn_prf(average, modifier, msg_start, len(result))\n",
            "C:\\Users\\ElliottTran\\AppData\\Local\\Programs\\Python\\Python39\\lib\\site-packages\\sklearn\\metrics\\_classification.py:1245: UndefinedMetricWarning: Recall and F-score are ill-defined and being set to 0.0 in labels with no true samples. Use `zero_division` parameter to control this behavior.\n",
            "  _warn_prf(average, modifier, msg_start, len(result))\n",
            "C:\\Users\\ElliottTran\\AppData\\Local\\Programs\\Python\\Python39\\lib\\site-packages\\sklearn\\metrics\\_classification.py:1245: UndefinedMetricWarning: Recall and F-score are ill-defined and being set to 0.0 in labels with no true samples. Use `zero_division` parameter to control this behavior.\n",
            "  _warn_prf(average, modifier, msg_start, len(result))\n"
          ]
        }
      ],
      "source": [
        "from sklearn.metrics import classification_report\n",
        "print(classification_report(y_true, y_pred, digits=4))"
      ]
    },
    {
      "cell_type": "markdown",
      "metadata": {
        "id": "8BkKjgO03_8J"
      },
      "source": [
        "**Works Cited**\n",
        "\n",
        "Shahi, Gautam Kishore, Anne Dirkson, and Tim A. Majchrzak. \"An exploratory study of covid-19 misinformation on twitter.\" Online Social Networks and Media 22 (2021): 100104."
      ]
    }
  ]
}