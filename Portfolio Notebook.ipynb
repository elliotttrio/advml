{
 "metadata": {
  "language_info": {
   "codemirror_mode": {
    "name": "ipython",
    "version": 3
   },
   "file_extension": ".py",
   "mimetype": "text/x-python",
   "name": "python",
   "nbconvert_exporter": "python",
   "pygments_lexer": "ipython3",
   "version": "3.9.1"
  },
  "orig_nbformat": 2,
  "kernelspec": {
   "name": "python391jvsc74a57bd08ae1e9aa6c55d7817cbbbc84a907d91a5644166d0cb3ac3f638b3611b0e06fd1",
   "display_name": "Python 3.9.1 64-bit"
  }
 },
 "nbformat": 4,
 "nbformat_minor": 2,
 "cells": [
  {
   "source": [
    "# Projects In Advanced Machine Learning\n",
    "\n",
    "Hello! This is a notebook outlining projects that I worked on throughout Spring 2021 in the course Project in Advanced Machine Learning with Professor Michael Parrot. Below you will see a quick summary of the three main assignments I worked on as well as links to their respective Github repositories. If you are interested in learning more about what I did for this class, please feel free to reach out. "
   ],
   "cell_type": "markdown",
   "metadata": {}
  },
  {
   "source": [
    "## 1. Predicting World Happiness \n",
    "\n",
    "[Visit the Repository](https://github.com/elliotttrio/advml/tree/master/Homework%201)\n",
    "\n",
    "For our first class project, we were asked to create predictive models regarding how \"happy\" a country is using indicators provided by the UN World Happiness Report. Below you can see a preview of the dataset as well as my best model. "
   ],
   "cell_type": "markdown",
   "metadata": {}
  },
  {
   "cell_type": "code",
   "execution_count": 3,
   "metadata": {},
   "outputs": [],
   "source": [
    "import pandas as pd\n",
    "\n",
    "happiness_df = pd.read_csv(\"datasets/worldhappiness2019.csv\")\n",
    "happiness_df['happiness_cat'] = happiness_df['Happiness_level'].astype(\"category\")\n",
    "happiness_df['happiness_cat'] = happiness_df['happiness_cat'].cat.reorder_categories(['Very Low', 'Low', 'Average', 'High', 'Very High'])\n",
    "happiness_df['happiness_cat'] = happiness_df['happiness_cat'].cat.codes"
   ]
  },
  {
   "cell_type": "code",
   "execution_count": 4,
   "metadata": {},
   "outputs": [
    {
     "output_type": "execute_result",
     "data": {
      "text/plain": [
       "  Happiness_level Country or region  GDP per capita  Social support  \\\n",
       "0       Very High           Finland           1.340           1.587   \n",
       "1       Very High           Denmark           1.383           1.573   \n",
       "2       Very High            Norway           1.488           1.582   \n",
       "3       Very High           Iceland           1.380           1.624   \n",
       "4       Very High       Netherlands           1.396           1.522   \n",
       "\n",
       "   Healthy life expectancy  Freedom to make life choices  Generosity  \\\n",
       "0                    0.986                         0.596       0.153   \n",
       "1                    0.996                         0.592       0.252   \n",
       "2                    1.028                         0.603       0.271   \n",
       "3                    1.026                         0.591       0.354   \n",
       "4                    0.999                         0.557       0.322   \n",
       "\n",
       "   Perceptions of corruption         name  region       sub-region  \\\n",
       "0                      0.393      Finland  Europe  Northern Europe   \n",
       "1                      0.410      Denmark  Europe  Northern Europe   \n",
       "2                      0.341       Norway  Europe  Northern Europe   \n",
       "3                      0.118      Iceland  Europe  Northern Europe   \n",
       "4                      0.298  Netherlands  Europe   Western Europe   \n",
       "\n",
       "   happiness_cat  \n",
       "0              4  \n",
       "1              4  \n",
       "2              4  \n",
       "3              4  \n",
       "4              4  "
      ],
      "text/html": "<div>\n<style scoped>\n    .dataframe tbody tr th:only-of-type {\n        vertical-align: middle;\n    }\n\n    .dataframe tbody tr th {\n        vertical-align: top;\n    }\n\n    .dataframe thead th {\n        text-align: right;\n    }\n</style>\n<table border=\"1\" class=\"dataframe\">\n  <thead>\n    <tr style=\"text-align: right;\">\n      <th></th>\n      <th>Happiness_level</th>\n      <th>Country or region</th>\n      <th>GDP per capita</th>\n      <th>Social support</th>\n      <th>Healthy life expectancy</th>\n      <th>Freedom to make life choices</th>\n      <th>Generosity</th>\n      <th>Perceptions of corruption</th>\n      <th>name</th>\n      <th>region</th>\n      <th>sub-region</th>\n      <th>happiness_cat</th>\n    </tr>\n  </thead>\n  <tbody>\n    <tr>\n      <th>0</th>\n      <td>Very High</td>\n      <td>Finland</td>\n      <td>1.340</td>\n      <td>1.587</td>\n      <td>0.986</td>\n      <td>0.596</td>\n      <td>0.153</td>\n      <td>0.393</td>\n      <td>Finland</td>\n      <td>Europe</td>\n      <td>Northern Europe</td>\n      <td>4</td>\n    </tr>\n    <tr>\n      <th>1</th>\n      <td>Very High</td>\n      <td>Denmark</td>\n      <td>1.383</td>\n      <td>1.573</td>\n      <td>0.996</td>\n      <td>0.592</td>\n      <td>0.252</td>\n      <td>0.410</td>\n      <td>Denmark</td>\n      <td>Europe</td>\n      <td>Northern Europe</td>\n      <td>4</td>\n    </tr>\n    <tr>\n      <th>2</th>\n      <td>Very High</td>\n      <td>Norway</td>\n      <td>1.488</td>\n      <td>1.582</td>\n      <td>1.028</td>\n      <td>0.603</td>\n      <td>0.271</td>\n      <td>0.341</td>\n      <td>Norway</td>\n      <td>Europe</td>\n      <td>Northern Europe</td>\n      <td>4</td>\n    </tr>\n    <tr>\n      <th>3</th>\n      <td>Very High</td>\n      <td>Iceland</td>\n      <td>1.380</td>\n      <td>1.624</td>\n      <td>1.026</td>\n      <td>0.591</td>\n      <td>0.354</td>\n      <td>0.118</td>\n      <td>Iceland</td>\n      <td>Europe</td>\n      <td>Northern Europe</td>\n      <td>4</td>\n    </tr>\n    <tr>\n      <th>4</th>\n      <td>Very High</td>\n      <td>Netherlands</td>\n      <td>1.396</td>\n      <td>1.522</td>\n      <td>0.999</td>\n      <td>0.557</td>\n      <td>0.322</td>\n      <td>0.298</td>\n      <td>Netherlands</td>\n      <td>Europe</td>\n      <td>Western Europe</td>\n      <td>4</td>\n    </tr>\n  </tbody>\n</table>\n</div>"
     },
     "metadata": {},
     "execution_count": 4
    }
   ],
   "source": [
    "happiness_df.head()"
   ]
  },
  {
   "cell_type": "code",
   "execution_count": 5,
   "metadata": {},
   "outputs": [
    {
     "output_type": "execute_result",
     "data": {
      "text/plain": [
       "Happiness_level                  object\n",
       "Country or region                object\n",
       "GDP per capita                  float64\n",
       "Social support                  float64\n",
       "Healthy life expectancy         float64\n",
       "Freedom to make life choices    float64\n",
       "Generosity                      float64\n",
       "Perceptions of corruption       float64\n",
       "name                             object\n",
       "region                           object\n",
       "sub-region                       object\n",
       "happiness_cat                      int8\n",
       "dtype: object"
      ]
     },
     "metadata": {},
     "execution_count": 5
    }
   ],
   "source": [
    "happiness_df.dtypes"
   ]
  },
  {
   "cell_type": "code",
   "execution_count": 6,
   "metadata": {},
   "outputs": [
    {
     "output_type": "execute_result",
     "data": {
      "text/plain": [
       "                              GDP per capita  Social support  \\\n",
       "GDP per capita                      1.000000        0.754906   \n",
       "Social support                      0.754906        1.000000   \n",
       "Healthy life expectancy             0.835462        0.719009   \n",
       "Freedom to make life choices        0.379079        0.447333   \n",
       "Generosity                         -0.079662       -0.048126   \n",
       "Perceptions of corruption           0.298920        0.181899   \n",
       "happiness_cat                       0.789635        0.738577   \n",
       "\n",
       "                              Healthy life expectancy  \\\n",
       "GDP per capita                               0.835462   \n",
       "Social support                               0.719009   \n",
       "Healthy life expectancy                      1.000000   \n",
       "Freedom to make life choices                 0.390395   \n",
       "Generosity                                  -0.029511   \n",
       "Perceptions of corruption                    0.295283   \n",
       "happiness_cat                                0.786932   \n",
       "\n",
       "                              Freedom to make life choices  Generosity  \\\n",
       "GDP per capita                                    0.379079   -0.079662   \n",
       "Social support                                    0.447333   -0.048126   \n",
       "Healthy life expectancy                           0.390395   -0.029511   \n",
       "Freedom to make life choices                      1.000000    0.269742   \n",
       "Generosity                                        0.269742    1.000000   \n",
       "Perceptions of corruption                         0.438843    0.326538   \n",
       "happiness_cat                                     0.525097    0.028123   \n",
       "\n",
       "                              Perceptions of corruption  happiness_cat  \n",
       "GDP per capita                                 0.298920       0.789635  \n",
       "Social support                                 0.181899       0.738577  \n",
       "Healthy life expectancy                        0.295283       0.786932  \n",
       "Freedom to make life choices                   0.438843       0.525097  \n",
       "Generosity                                     0.326538       0.028123  \n",
       "Perceptions of corruption                      1.000000       0.323730  \n",
       "happiness_cat                                  0.323730       1.000000  "
      ],
      "text/html": "<div>\n<style scoped>\n    .dataframe tbody tr th:only-of-type {\n        vertical-align: middle;\n    }\n\n    .dataframe tbody tr th {\n        vertical-align: top;\n    }\n\n    .dataframe thead th {\n        text-align: right;\n    }\n</style>\n<table border=\"1\" class=\"dataframe\">\n  <thead>\n    <tr style=\"text-align: right;\">\n      <th></th>\n      <th>GDP per capita</th>\n      <th>Social support</th>\n      <th>Healthy life expectancy</th>\n      <th>Freedom to make life choices</th>\n      <th>Generosity</th>\n      <th>Perceptions of corruption</th>\n      <th>happiness_cat</th>\n    </tr>\n  </thead>\n  <tbody>\n    <tr>\n      <th>GDP per capita</th>\n      <td>1.000000</td>\n      <td>0.754906</td>\n      <td>0.835462</td>\n      <td>0.379079</td>\n      <td>-0.079662</td>\n      <td>0.298920</td>\n      <td>0.789635</td>\n    </tr>\n    <tr>\n      <th>Social support</th>\n      <td>0.754906</td>\n      <td>1.000000</td>\n      <td>0.719009</td>\n      <td>0.447333</td>\n      <td>-0.048126</td>\n      <td>0.181899</td>\n      <td>0.738577</td>\n    </tr>\n    <tr>\n      <th>Healthy life expectancy</th>\n      <td>0.835462</td>\n      <td>0.719009</td>\n      <td>1.000000</td>\n      <td>0.390395</td>\n      <td>-0.029511</td>\n      <td>0.295283</td>\n      <td>0.786932</td>\n    </tr>\n    <tr>\n      <th>Freedom to make life choices</th>\n      <td>0.379079</td>\n      <td>0.447333</td>\n      <td>0.390395</td>\n      <td>1.000000</td>\n      <td>0.269742</td>\n      <td>0.438843</td>\n      <td>0.525097</td>\n    </tr>\n    <tr>\n      <th>Generosity</th>\n      <td>-0.079662</td>\n      <td>-0.048126</td>\n      <td>-0.029511</td>\n      <td>0.269742</td>\n      <td>1.000000</td>\n      <td>0.326538</td>\n      <td>0.028123</td>\n    </tr>\n    <tr>\n      <th>Perceptions of corruption</th>\n      <td>0.298920</td>\n      <td>0.181899</td>\n      <td>0.295283</td>\n      <td>0.438843</td>\n      <td>0.326538</td>\n      <td>1.000000</td>\n      <td>0.323730</td>\n    </tr>\n    <tr>\n      <th>happiness_cat</th>\n      <td>0.789635</td>\n      <td>0.738577</td>\n      <td>0.786932</td>\n      <td>0.525097</td>\n      <td>0.028123</td>\n      <td>0.323730</td>\n      <td>1.000000</td>\n    </tr>\n  </tbody>\n</table>\n</div>"
     },
     "metadata": {},
     "execution_count": 6
    }
   ],
   "source": [
    "happiness_df.corr()"
   ]
  },
  {
   "source": [
    "### My best model"
   ],
   "cell_type": "markdown",
   "metadata": {}
  },
  {
   "cell_type": "code",
   "execution_count": 7,
   "metadata": {},
   "outputs": [
    {
     "output_type": "stream",
     "name": "stdout",
     "text": [
      "INFO:tensorflow:Enabling eager execution\n",
      "INFO:tensorflow:Enabling v2 tensorshape\n",
      "INFO:tensorflow:Enabling resource variables\n",
      "INFO:tensorflow:Enabling tensor equality\n",
      "INFO:tensorflow:Enabling control flow v2\n"
     ]
    }
   ],
   "source": [
    "import aimodelshare as ai"
   ]
  },
  {
   "cell_type": "code",
   "execution_count": 12,
   "metadata": {},
   "outputs": [
    {
     "output_type": "stream",
     "name": "stdout",
     "text": [
      "AI Model Share login credentials set successfully.\nAWS credentials set successfully.\n"
     ]
    }
   ],
   "source": [
    "from aimodelshare.aws import set_credentials\n",
    "\n",
    "set_credentials(apiurl=api_url,credential_file=\"credentials_updated.txt\", type=\"submit_model\", manual=False)"
   ]
  },
  {
   "cell_type": "code",
   "execution_count": 16,
   "metadata": {},
   "outputs": [
    {
     "output_type": "execute_result",
     "data": {
      "text/plain": [
       "<pandas.io.formats.style.Styler at 0x1d06b3ff1c0>"
      ],
      "text/html": "<style  type=\"text/css\" >\n#T_5b67a_row0_col0{\n            text-align:  center;\n            width:  10em;\n             height:  80%;\n            background:  linear-gradient(90deg,#f5f8d6 44.2%, transparent 44.2%);\n            color:  #251e1b;\n            font-size:  12px;\n        }#T_5b67a_row0_col1{\n            text-align:  center;\n            width:  10em;\n             height:  80%;\n            background:  linear-gradient(90deg,#c778c8 43.7%, transparent 43.7%);\n            color:  #251e1b;\n            font-size:  12px;\n        }#T_5b67a_row0_col2{\n            text-align:  center;\n            width:  10em;\n             height:  80%;\n            background:  linear-gradient(90deg,#ff4971 48.6%, transparent 48.6%);\n            color:  #251e1b;\n            font-size:  12px;\n        }#T_5b67a_row0_col3{\n            text-align:  center;\n            width:  10em;\n             height:  80%;\n            background:  linear-gradient(90deg,#aadbaa 45.7%, transparent 45.7%);\n            color:  #251e1b;\n            font-size:  12px;\n        }#T_5b67a_row0_col4,#T_5b67a_row0_col5,#T_5b67a_row0_col6,#T_5b67a_row0_col7,#T_5b67a_row0_col8,#T_5b67a_row0_col9,#T_5b67a_row0_col10,#T_5b67a_row0_col11,#T_5b67a_row0_col12,#T_5b67a_row0_col13,#T_5b67a_row0_col14,#T_5b67a_row0_col15,#T_5b67a_row0_col16,#T_5b67a_row0_col17,#T_5b67a_row0_col18,#T_5b67a_row0_col19{\n            text-align:  center;\n        }</style><table id=\"T_5b67a_\" ><thead>    <tr>        <th class=\"blank level0\" ></th>        <th class=\"col_heading level0 col0\" >accuracy</th>        <th class=\"col_heading level0 col1\" >f1_score</th>        <th class=\"col_heading level0 col2\" >precision</th>        <th class=\"col_heading level0 col3\" >recall</th>        <th class=\"col_heading level0 col4\" >ml_framework</th>        <th class=\"col_heading level0 col5\" >transfer_learning</th>        <th class=\"col_heading level0 col6\" >deep_learning</th>        <th class=\"col_heading level0 col7\" >model_type</th>        <th class=\"col_heading level0 col8\" >depth</th>        <th class=\"col_heading level0 col9\" >num_params</th>        <th class=\"col_heading level0 col10\" >batchnormalization_layers</th>        <th class=\"col_heading level0 col11\" >dense_layers</th>        <th class=\"col_heading level0 col12\" >dropout_layers</th>        <th class=\"col_heading level0 col13\" >relu_act</th>        <th class=\"col_heading level0 col14\" >softmax_act</th>        <th class=\"col_heading level0 col15\" >loss</th>        <th class=\"col_heading level0 col16\" >optimizer</th>        <th class=\"col_heading level0 col17\" >model_config</th>        <th class=\"col_heading level0 col18\" >username</th>        <th class=\"col_heading level0 col19\" >version</th>    </tr></thead><tbody>\n                <tr>\n                        <th id=\"T_5b67a_level0_row0\" class=\"row_heading level0 row0\" >47</th>\n                        <td id=\"T_5b67a_row0_col0\" class=\"data row0 col0\" >44.23%</td>\n                        <td id=\"T_5b67a_row0_col1\" class=\"data row0 col1\" >43.69%</td>\n                        <td id=\"T_5b67a_row0_col2\" class=\"data row0 col2\" >48.61%</td>\n                        <td id=\"T_5b67a_row0_col3\" class=\"data row0 col3\" >45.70%</td>\n                        <td id=\"T_5b67a_row0_col4\" class=\"data row0 col4\" >keras</td>\n                        <td id=\"T_5b67a_row0_col5\" class=\"data row0 col5\" >nan</td>\n                        <td id=\"T_5b67a_row0_col6\" class=\"data row0 col6\" >True</td>\n                        <td id=\"T_5b67a_row0_col7\" class=\"data row0 col7\" >Sequential</td>\n                        <td id=\"T_5b67a_row0_col8\" class=\"data row0 col8\" >4.000000</td>\n                        <td id=\"T_5b67a_row0_col9\" class=\"data row0 col9\" >11373.000000</td>\n                        <td id=\"T_5b67a_row0_col10\" class=\"data row0 col10\" >nan</td>\n                        <td id=\"T_5b67a_row0_col11\" class=\"data row0 col11\" >4.000000</td>\n                        <td id=\"T_5b67a_row0_col12\" class=\"data row0 col12\" >nan</td>\n                        <td id=\"T_5b67a_row0_col13\" class=\"data row0 col13\" >3.000000</td>\n                        <td id=\"T_5b67a_row0_col14\" class=\"data row0 col14\" >1.000000</td>\n                        <td id=\"T_5b67a_row0_col15\" class=\"data row0 col15\" >str</td>\n                        <td id=\"T_5b67a_row0_col16\" class=\"data row0 col16\" >SGD</td>\n                        <td id=\"T_5b67a_row0_col17\" class=\"data row0 col17\" >{'name': 'sequential_11', 'lay...</td>\n                        <td id=\"T_5b67a_row0_col18\" class=\"data row0 col18\" >eat2153</td>\n                        <td id=\"T_5b67a_row0_col19\" class=\"data row0 col19\" >29</td>\n            </tr>\n    </tbody></table>"
     },
     "metadata": {},
     "execution_count": 16
    }
   ],
   "source": [
    "un_apiurl = \"https://z69mxrxdz5.execute-api.us-east-1.amazonaws.com/prod/m\"\n",
    "data=ai.get_leaderboard(un_apiurl, verbose=3)\n",
    "data = data[data.username == 'eat2153']\n",
    "ai.leaderboard.stylize_leaderboard(data.head(1))"
   ]
  },
  {
   "cell_type": "code",
   "execution_count": 18,
   "metadata": {},
   "outputs": [
    {
     "output_type": "stream",
     "name": "stdout",
     "text": [
      "Model: \"sequential_15\"\n_________________________________________________________________\nLayer (type)                 Output Shape              Param #   \n=================================================================\ndense_54 (Dense)             (None, 104)               2184      \n_________________________________________________________________\ndense_55 (Dense)             (None, 64)                6720      \n_________________________________________________________________\ndense_56 (Dense)             (None, 64)                4160      \n_________________________________________________________________\ndense_57 (Dense)             (None, 64)                4160      \n_________________________________________________________________\ndense_58 (Dense)             (None, 5)                 325       \n=================================================================\nTotal params: 17,549\nTrainable params: 17,549\nNon-trainable params: 0\n_________________________________________________________________\n"
     ]
    }
   ],
   "source": [
    "bestmodel = ai.aimsonnx.instantiate_model(api_url, version = 47) \n",
    "\n",
    "bestmodel.summary()"
   ]
  },
  {
   "source": [
    "## 1. Computer Vision with Covid Positive X-Ray Image Data\n",
    "\n",
    "[Visit the Repository](https://github.com/elliotttrio/advml/tree/master/Homework%202)\n",
    "\n",
    "\n",
    "For the next project, I examined x-ray images of patients with and without Covid-19. I then developed computer vision models to predict x-rays of patients with the virus and those who do not have it. Below you will see a preview of the images within the dataset along with the best model that I developed.\n",
    "\n",
    "![](/Homework 2/xray images.png)\n",
    "\n"
   ],
   "cell_type": "markdown",
   "metadata": {}
  }
 ]
}