{
 "metadata": {
  "language_info": {
   "codemirror_mode": {
    "name": "ipython",
    "version": 3
   },
   "file_extension": ".py",
   "mimetype": "text/x-python",
   "name": "python",
   "nbconvert_exporter": "python",
   "pygments_lexer": "ipython3",
   "version": "3.9.1"
  },
  "orig_nbformat": 2,
  "kernelspec": {
   "name": "python391jvsc74a57bd08ae1e9aa6c55d7817cbbbc84a907d91a5644166d0cb3ac3f638b3611b0e06fd1",
   "display_name": "Python 3.9.1 64-bit"
  }
 },
 "nbformat": 4,
 "nbformat_minor": 2,
 "cells": [
  {
   "source": [
    "# Projects In Advanced Machine Learning\n",
    "\n",
    "Hello! This is a notebook outlining projects that I worked on throughout Spring 2021 in the course Project in Advanced Machine Learning with Professor Michael Parrot. Below you will see a quick summary of the three main assignments I worked on as well as links to their respective Github repositories. If you are interested in learning more about what I did for this class, please feel free to reach out. "
   ],
   "cell_type": "markdown",
   "metadata": {}
  },
  {
   "source": [
    "## 1. Predicting World Happiness \n",
    "\n",
    "[Visit the Repository](https://github.com/elliotttrio/advml/tree/master/Homework%201)\n",
    "\n",
    "For our first class project, we were asked to create predictive models regarding how \"happy\" a country is using indicators provided by the UN World Happiness Report. Below you can see a preview of the dataset as well as my best model. "
   ],
   "cell_type": "markdown",
   "metadata": {}
  },
  {
   "cell_type": "code",
   "execution_count": 3,
   "metadata": {},
   "outputs": [],
   "source": [
    "import pandas as pd\n",
    "\n",
    "happiness_df = pd.read_csv(\"datasets/worldhappiness2019.csv\")\n",
    "happiness_df['happiness_cat'] = happiness_df['Happiness_level'].astype(\"category\")\n",
    "happiness_df['happiness_cat'] = happiness_df['happiness_cat'].cat.reorder_categories(['Very Low', 'Low', 'Average', 'High', 'Very High'])\n",
    "happiness_df['happiness_cat'] = happiness_df['happiness_cat'].cat.codes"
   ]
  },
  {
   "cell_type": "code",
   "execution_count": 4,
   "metadata": {},
   "outputs": [
    {
     "output_type": "execute_result",
     "data": {
      "text/plain": [
       "  Happiness_level Country or region  GDP per capita  Social support  \\\n",
       "0       Very High           Finland           1.340           1.587   \n",
       "1       Very High           Denmark           1.383           1.573   \n",
       "2       Very High            Norway           1.488           1.582   \n",
       "3       Very High           Iceland           1.380           1.624   \n",
       "4       Very High       Netherlands           1.396           1.522   \n",
       "\n",
       "   Healthy life expectancy  Freedom to make life choices  Generosity  \\\n",
       "0                    0.986                         0.596       0.153   \n",
       "1                    0.996                         0.592       0.252   \n",
       "2                    1.028                         0.603       0.271   \n",
       "3                    1.026                         0.591       0.354   \n",
       "4                    0.999                         0.557       0.322   \n",
       "\n",
       "   Perceptions of corruption         name  region       sub-region  \\\n",
       "0                      0.393      Finland  Europe  Northern Europe   \n",
       "1                      0.410      Denmark  Europe  Northern Europe   \n",
       "2                      0.341       Norway  Europe  Northern Europe   \n",
       "3                      0.118      Iceland  Europe  Northern Europe   \n",
       "4                      0.298  Netherlands  Europe   Western Europe   \n",
       "\n",
       "   happiness_cat  \n",
       "0              4  \n",
       "1              4  \n",
       "2              4  \n",
       "3              4  \n",
       "4              4  "
      ],
      "text/html": "<div>\n<style scoped>\n    .dataframe tbody tr th:only-of-type {\n        vertical-align: middle;\n    }\n\n    .dataframe tbody tr th {\n        vertical-align: top;\n    }\n\n    .dataframe thead th {\n        text-align: right;\n    }\n</style>\n<table border=\"1\" class=\"dataframe\">\n  <thead>\n    <tr style=\"text-align: right;\">\n      <th></th>\n      <th>Happiness_level</th>\n      <th>Country or region</th>\n      <th>GDP per capita</th>\n      <th>Social support</th>\n      <th>Healthy life expectancy</th>\n      <th>Freedom to make life choices</th>\n      <th>Generosity</th>\n      <th>Perceptions of corruption</th>\n      <th>name</th>\n      <th>region</th>\n      <th>sub-region</th>\n      <th>happiness_cat</th>\n    </tr>\n  </thead>\n  <tbody>\n    <tr>\n      <th>0</th>\n      <td>Very High</td>\n      <td>Finland</td>\n      <td>1.340</td>\n      <td>1.587</td>\n      <td>0.986</td>\n      <td>0.596</td>\n      <td>0.153</td>\n      <td>0.393</td>\n      <td>Finland</td>\n      <td>Europe</td>\n      <td>Northern Europe</td>\n      <td>4</td>\n    </tr>\n    <tr>\n      <th>1</th>\n      <td>Very High</td>\n      <td>Denmark</td>\n      <td>1.383</td>\n      <td>1.573</td>\n      <td>0.996</td>\n      <td>0.592</td>\n      <td>0.252</td>\n      <td>0.410</td>\n      <td>Denmark</td>\n      <td>Europe</td>\n      <td>Northern Europe</td>\n      <td>4</td>\n    </tr>\n    <tr>\n      <th>2</th>\n      <td>Very High</td>\n      <td>Norway</td>\n      <td>1.488</td>\n      <td>1.582</td>\n      <td>1.028</td>\n      <td>0.603</td>\n      <td>0.271</td>\n      <td>0.341</td>\n      <td>Norway</td>\n      <td>Europe</td>\n      <td>Northern Europe</td>\n      <td>4</td>\n    </tr>\n    <tr>\n      <th>3</th>\n      <td>Very High</td>\n      <td>Iceland</td>\n      <td>1.380</td>\n      <td>1.624</td>\n      <td>1.026</td>\n      <td>0.591</td>\n      <td>0.354</td>\n      <td>0.118</td>\n      <td>Iceland</td>\n      <td>Europe</td>\n      <td>Northern Europe</td>\n      <td>4</td>\n    </tr>\n    <tr>\n      <th>4</th>\n      <td>Very High</td>\n      <td>Netherlands</td>\n      <td>1.396</td>\n      <td>1.522</td>\n      <td>0.999</td>\n      <td>0.557</td>\n      <td>0.322</td>\n      <td>0.298</td>\n      <td>Netherlands</td>\n      <td>Europe</td>\n      <td>Western Europe</td>\n      <td>4</td>\n    </tr>\n  </tbody>\n</table>\n</div>"
     },
     "metadata": {},
     "execution_count": 4
    }
   ],
   "source": [
    "happiness_df.head()"
   ]
  },
  {
   "cell_type": "code",
   "execution_count": 5,
   "metadata": {},
   "outputs": [
    {
     "output_type": "execute_result",
     "data": {
      "text/plain": [
       "Happiness_level                  object\n",
       "Country or region                object\n",
       "GDP per capita                  float64\n",
       "Social support                  float64\n",
       "Healthy life expectancy         float64\n",
       "Freedom to make life choices    float64\n",
       "Generosity                      float64\n",
       "Perceptions of corruption       float64\n",
       "name                             object\n",
       "region                           object\n",
       "sub-region                       object\n",
       "happiness_cat                      int8\n",
       "dtype: object"
      ]
     },
     "metadata": {},
     "execution_count": 5
    }
   ],
   "source": [
    "happiness_df.dtypes"
   ]
  },
  {
   "cell_type": "code",
   "execution_count": 6,
   "metadata": {},
   "outputs": [
    {
     "output_type": "execute_result",
     "data": {
      "text/plain": [
       "                              GDP per capita  Social support  \\\n",
       "GDP per capita                      1.000000        0.754906   \n",
       "Social support                      0.754906        1.000000   \n",
       "Healthy life expectancy             0.835462        0.719009   \n",
       "Freedom to make life choices        0.379079        0.447333   \n",
       "Generosity                         -0.079662       -0.048126   \n",
       "Perceptions of corruption           0.298920        0.181899   \n",
       "happiness_cat                       0.789635        0.738577   \n",
       "\n",
       "                              Healthy life expectancy  \\\n",
       "GDP per capita                               0.835462   \n",
       "Social support                               0.719009   \n",
       "Healthy life expectancy                      1.000000   \n",
       "Freedom to make life choices                 0.390395   \n",
       "Generosity                                  -0.029511   \n",
       "Perceptions of corruption                    0.295283   \n",
       "happiness_cat                                0.786932   \n",
       "\n",
       "                              Freedom to make life choices  Generosity  \\\n",
       "GDP per capita                                    0.379079   -0.079662   \n",
       "Social support                                    0.447333   -0.048126   \n",
       "Healthy life expectancy                           0.390395   -0.029511   \n",
       "Freedom to make life choices                      1.000000    0.269742   \n",
       "Generosity                                        0.269742    1.000000   \n",
       "Perceptions of corruption                         0.438843    0.326538   \n",
       "happiness_cat                                     0.525097    0.028123   \n",
       "\n",
       "                              Perceptions of corruption  happiness_cat  \n",
       "GDP per capita                                 0.298920       0.789635  \n",
       "Social support                                 0.181899       0.738577  \n",
       "Healthy life expectancy                        0.295283       0.786932  \n",
       "Freedom to make life choices                   0.438843       0.525097  \n",
       "Generosity                                     0.326538       0.028123  \n",
       "Perceptions of corruption                      1.000000       0.323730  \n",
       "happiness_cat                                  0.323730       1.000000  "
      ],
      "text/html": "<div>\n<style scoped>\n    .dataframe tbody tr th:only-of-type {\n        vertical-align: middle;\n    }\n\n    .dataframe tbody tr th {\n        vertical-align: top;\n    }\n\n    .dataframe thead th {\n        text-align: right;\n    }\n</style>\n<table border=\"1\" class=\"dataframe\">\n  <thead>\n    <tr style=\"text-align: right;\">\n      <th></th>\n      <th>GDP per capita</th>\n      <th>Social support</th>\n      <th>Healthy life expectancy</th>\n      <th>Freedom to make life choices</th>\n      <th>Generosity</th>\n      <th>Perceptions of corruption</th>\n      <th>happiness_cat</th>\n    </tr>\n  </thead>\n  <tbody>\n    <tr>\n      <th>GDP per capita</th>\n      <td>1.000000</td>\n      <td>0.754906</td>\n      <td>0.835462</td>\n      <td>0.379079</td>\n      <td>-0.079662</td>\n      <td>0.298920</td>\n      <td>0.789635</td>\n    </tr>\n    <tr>\n      <th>Social support</th>\n      <td>0.754906</td>\n      <td>1.000000</td>\n      <td>0.719009</td>\n      <td>0.447333</td>\n      <td>-0.048126</td>\n      <td>0.181899</td>\n      <td>0.738577</td>\n    </tr>\n    <tr>\n      <th>Healthy life expectancy</th>\n      <td>0.835462</td>\n      <td>0.719009</td>\n      <td>1.000000</td>\n      <td>0.390395</td>\n      <td>-0.029511</td>\n      <td>0.295283</td>\n      <td>0.786932</td>\n    </tr>\n    <tr>\n      <th>Freedom to make life choices</th>\n      <td>0.379079</td>\n      <td>0.447333</td>\n      <td>0.390395</td>\n      <td>1.000000</td>\n      <td>0.269742</td>\n      <td>0.438843</td>\n      <td>0.525097</td>\n    </tr>\n    <tr>\n      <th>Generosity</th>\n      <td>-0.079662</td>\n      <td>-0.048126</td>\n      <td>-0.029511</td>\n      <td>0.269742</td>\n      <td>1.000000</td>\n      <td>0.326538</td>\n      <td>0.028123</td>\n    </tr>\n    <tr>\n      <th>Perceptions of corruption</th>\n      <td>0.298920</td>\n      <td>0.181899</td>\n      <td>0.295283</td>\n      <td>0.438843</td>\n      <td>0.326538</td>\n      <td>1.000000</td>\n      <td>0.323730</td>\n    </tr>\n    <tr>\n      <th>happiness_cat</th>\n      <td>0.789635</td>\n      <td>0.738577</td>\n      <td>0.786932</td>\n      <td>0.525097</td>\n      <td>0.028123</td>\n      <td>0.323730</td>\n      <td>1.000000</td>\n    </tr>\n  </tbody>\n</table>\n</div>"
     },
     "metadata": {},
     "execution_count": 6
    }
   ],
   "source": [
    "happiness_df.corr()"
   ]
  },
  {
   "source": [
    "### My best model"
   ],
   "cell_type": "markdown",
   "metadata": {}
  },
  {
   "cell_type": "code",
   "execution_count": 7,
   "metadata": {},
   "outputs": [
    {
     "output_type": "stream",
     "name": "stdout",
     "text": [
      "INFO:tensorflow:Enabling eager execution\n",
      "INFO:tensorflow:Enabling v2 tensorshape\n",
      "INFO:tensorflow:Enabling resource variables\n",
      "INFO:tensorflow:Enabling tensor equality\n",
      "INFO:tensorflow:Enabling control flow v2\n"
     ]
    }
   ],
   "source": [
    "import aimodelshare as ai"
   ]
  },
  {
   "cell_type": "code",
   "execution_count": 44,
   "metadata": {},
   "outputs": [
    {
     "output_type": "stream",
     "name": "stdout",
     "text": [
      "AI Model Share login credentials set successfully.\n",
      "AWS credentials set successfully.\n"
     ]
    }
   ],
   "source": [
    "from aimodelshare.aws import set_credentials\n",
    "un_apiurl = \"https://z69mxrxdz5.execute-api.us-east-1.amazonaws.com/prod/m\"\n",
    "\n",
    "set_credentials(apiurl=un_apiurl,credential_file=\"credentials_updated.txt\", type=\"submit_model\", manual=False)"
   ]
  },
  {
   "cell_type": "code",
   "execution_count": 45,
   "metadata": {},
   "outputs": [
    {
     "output_type": "execute_result",
     "data": {
      "text/plain": [
       "<pandas.io.formats.style.Styler at 0x1d06d25af40>"
      ],
      "text/html": "<style  type=\"text/css\" >\n#T_dc183_row0_col0{\n            text-align:  center;\n            width:  10em;\n             height:  80%;\n            background:  linear-gradient(90deg,#f5f8d6 44.2%, transparent 44.2%);\n            color:  #251e1b;\n            font-size:  12px;\n        }#T_dc183_row0_col1{\n            text-align:  center;\n            width:  10em;\n             height:  80%;\n            background:  linear-gradient(90deg,#c778c8 43.7%, transparent 43.7%);\n            color:  #251e1b;\n            font-size:  12px;\n        }#T_dc183_row0_col2{\n            text-align:  center;\n            width:  10em;\n             height:  80%;\n            background:  linear-gradient(90deg,#ff4971 48.6%, transparent 48.6%);\n            color:  #251e1b;\n            font-size:  12px;\n        }#T_dc183_row0_col3{\n            text-align:  center;\n            width:  10em;\n             height:  80%;\n            background:  linear-gradient(90deg,#aadbaa 45.7%, transparent 45.7%);\n            color:  #251e1b;\n            font-size:  12px;\n        }#T_dc183_row0_col4,#T_dc183_row0_col5,#T_dc183_row0_col6,#T_dc183_row0_col7,#T_dc183_row0_col8,#T_dc183_row0_col9,#T_dc183_row0_col10,#T_dc183_row0_col11,#T_dc183_row0_col12,#T_dc183_row0_col13,#T_dc183_row0_col14,#T_dc183_row0_col15,#T_dc183_row0_col16,#T_dc183_row0_col17,#T_dc183_row0_col18,#T_dc183_row0_col19{\n            text-align:  center;\n        }</style><table id=\"T_dc183_\" ><thead>    <tr>        <th class=\"blank level0\" ></th>        <th class=\"col_heading level0 col0\" >accuracy</th>        <th class=\"col_heading level0 col1\" >f1_score</th>        <th class=\"col_heading level0 col2\" >precision</th>        <th class=\"col_heading level0 col3\" >recall</th>        <th class=\"col_heading level0 col4\" >ml_framework</th>        <th class=\"col_heading level0 col5\" >transfer_learning</th>        <th class=\"col_heading level0 col6\" >deep_learning</th>        <th class=\"col_heading level0 col7\" >model_type</th>        <th class=\"col_heading level0 col8\" >depth</th>        <th class=\"col_heading level0 col9\" >num_params</th>        <th class=\"col_heading level0 col10\" >batchnormalization_layers</th>        <th class=\"col_heading level0 col11\" >dense_layers</th>        <th class=\"col_heading level0 col12\" >dropout_layers</th>        <th class=\"col_heading level0 col13\" >relu_act</th>        <th class=\"col_heading level0 col14\" >softmax_act</th>        <th class=\"col_heading level0 col15\" >loss</th>        <th class=\"col_heading level0 col16\" >optimizer</th>        <th class=\"col_heading level0 col17\" >model_config</th>        <th class=\"col_heading level0 col18\" >username</th>        <th class=\"col_heading level0 col19\" >version</th>    </tr></thead><tbody>\n                <tr>\n                        <th id=\"T_dc183_level0_row0\" class=\"row_heading level0 row0\" >47</th>\n                        <td id=\"T_dc183_row0_col0\" class=\"data row0 col0\" >44.23%</td>\n                        <td id=\"T_dc183_row0_col1\" class=\"data row0 col1\" >43.69%</td>\n                        <td id=\"T_dc183_row0_col2\" class=\"data row0 col2\" >48.61%</td>\n                        <td id=\"T_dc183_row0_col3\" class=\"data row0 col3\" >45.70%</td>\n                        <td id=\"T_dc183_row0_col4\" class=\"data row0 col4\" >keras</td>\n                        <td id=\"T_dc183_row0_col5\" class=\"data row0 col5\" >nan</td>\n                        <td id=\"T_dc183_row0_col6\" class=\"data row0 col6\" >True</td>\n                        <td id=\"T_dc183_row0_col7\" class=\"data row0 col7\" >Sequential</td>\n                        <td id=\"T_dc183_row0_col8\" class=\"data row0 col8\" >4.000000</td>\n                        <td id=\"T_dc183_row0_col9\" class=\"data row0 col9\" >11373.000000</td>\n                        <td id=\"T_dc183_row0_col10\" class=\"data row0 col10\" >nan</td>\n                        <td id=\"T_dc183_row0_col11\" class=\"data row0 col11\" >4.000000</td>\n                        <td id=\"T_dc183_row0_col12\" class=\"data row0 col12\" >nan</td>\n                        <td id=\"T_dc183_row0_col13\" class=\"data row0 col13\" >3.000000</td>\n                        <td id=\"T_dc183_row0_col14\" class=\"data row0 col14\" >1.000000</td>\n                        <td id=\"T_dc183_row0_col15\" class=\"data row0 col15\" >str</td>\n                        <td id=\"T_dc183_row0_col16\" class=\"data row0 col16\" >SGD</td>\n                        <td id=\"T_dc183_row0_col17\" class=\"data row0 col17\" >{'name': 'sequential_11', 'lay...</td>\n                        <td id=\"T_dc183_row0_col18\" class=\"data row0 col18\" >eat2153</td>\n                        <td id=\"T_dc183_row0_col19\" class=\"data row0 col19\" >29</td>\n            </tr>\n    </tbody></table>"
     },
     "metadata": {},
     "execution_count": 45
    }
   ],
   "source": [
    "data=ai.get_leaderboard(un_apiurl, verbose=3)\n",
    "data = data[data.username == 'eat2153']\n",
    "ai.leaderboard.stylize_leaderboard(data.head(1))"
   ]
  },
  {
   "cell_type": "code",
   "execution_count": 46,
   "metadata": {},
   "outputs": [
    {
     "output_type": "stream",
     "name": "stdout",
     "text": [
      "Model: \"sequential_11\"\n_________________________________________________________________\nLayer (type)                 Output Shape              Param #   \n=================================================================\ndense_38 (Dense)             (None, 104)               1248      \n_________________________________________________________________\ndense_39 (Dense)             (None, 80)                8400      \n_________________________________________________________________\ndense_40 (Dense)             (None, 20)                1620      \n_________________________________________________________________\ndense_41 (Dense)             (None, 5)                 105       \n=================================================================\nTotal params: 11,373\nTrainable params: 11,373\nNon-trainable params: 0\n_________________________________________________________________\n"
     ]
    }
   ],
   "source": [
    "bestmodel = ai.aimsonnx.instantiate_model(un_apiurl, version = 29) \n",
    "\n",
    "bestmodel.summary()"
   ]
  },
  {
   "source": [
    "## 2. Computer Vision with Covid Positive X-Ray Image Data\n",
    "\n",
    "[Visit the Repository](https://github.com/elliotttrio/advml/tree/master/Homework%202)\n",
    "\n",
    "\n",
    "For the next project, I examined x-ray images of patients with and without Covid-19. I then developed computer vision models to predict x-rays of patients with the virus and those who do not have it. Below you will see a preview of the images within the dataset along with the best model that I developed.\n",
    "\n",
    "![](https://raw.githubusercontent.com/elliotttrio/advml/master/Homework%202/xray%20images.png)\n",
    "\n"
   ],
   "cell_type": "markdown",
   "metadata": {}
  },
  {
   "source": [
    "### My Best Model"
   ],
   "cell_type": "markdown",
   "metadata": {}
  },
  {
   "cell_type": "code",
   "execution_count": 35,
   "metadata": {},
   "outputs": [
    {
     "output_type": "stream",
     "name": "stdout",
     "text": [
      "AI Model Share login credentials set successfully.\nAWS credentials set successfully.\n"
     ]
    }
   ],
   "source": [
    "covid_apiurl = \"https://sxr89y55o4.execute-api.us-east-1.amazonaws.com/prod/m\"\n",
    "\n",
    "set_credentials(apiurl= covid_apiurl,credential_file=\"credentials_updated.txt\", type=\"submit_model\", manual=False)"
   ]
  },
  {
   "cell_type": "code",
   "execution_count": 39,
   "metadata": {},
   "outputs": [
    {
     "output_type": "execute_result",
     "data": {
      "text/plain": [
       "<pandas.io.formats.style.Styler at 0x1d0651baee0>"
      ],
      "text/html": "<style  type=\"text/css\" >\n#T_20f73_row0_col0,#T_20f73_row0_col1,#T_20f73_row0_col2,#T_20f73_row0_col3{\n            text-align:  center;\n            color:  #251e1b;\n            font-size:  12px;\n        }#T_20f73_row0_col4,#T_20f73_row0_col5,#T_20f73_row0_col6,#T_20f73_row0_col7,#T_20f73_row0_col8,#T_20f73_row0_col9,#T_20f73_row0_col10,#T_20f73_row0_col11,#T_20f73_row0_col12,#T_20f73_row0_col13,#T_20f73_row0_col14,#T_20f73_row0_col15,#T_20f73_row0_col16,#T_20f73_row0_col17,#T_20f73_row0_col18,#T_20f73_row0_col19,#T_20f73_row0_col20,#T_20f73_row0_col21,#T_20f73_row0_col22,#T_20f73_row0_col23,#T_20f73_row0_col24,#T_20f73_row0_col25,#T_20f73_row0_col26,#T_20f73_row0_col27,#T_20f73_row0_col28,#T_20f73_row0_col29,#T_20f73_row0_col30{\n            text-align:  center;\n        }</style><table id=\"T_20f73_\" ><thead>    <tr>        <th class=\"blank level0\" ></th>        <th class=\"col_heading level0 col0\" >accuracy</th>        <th class=\"col_heading level0 col1\" >f1_score</th>        <th class=\"col_heading level0 col2\" >precision</th>        <th class=\"col_heading level0 col3\" >recall</th>        <th class=\"col_heading level0 col4\" >ml_framework</th>        <th class=\"col_heading level0 col5\" >transfer_learning</th>        <th class=\"col_heading level0 col6\" >deep_learning</th>        <th class=\"col_heading level0 col7\" >model_type</th>        <th class=\"col_heading level0 col8\" >depth</th>        <th class=\"col_heading level0 col9\" >num_params</th>        <th class=\"col_heading level0 col10\" >activation_layers</th>        <th class=\"col_heading level0 col11\" >add_layers</th>        <th class=\"col_heading level0 col12\" >averagepooling2d_layers</th>        <th class=\"col_heading level0 col13\" >batchnormalization_layers</th>        <th class=\"col_heading level0 col14\" >concatenate_layers</th>        <th class=\"col_heading level0 col15\" >conv2d_layers</th>        <th class=\"col_heading level0 col16\" >dense_layers</th>        <th class=\"col_heading level0 col17\" >dropout_layers</th>        <th class=\"col_heading level0 col18\" >flatten_layers</th>        <th class=\"col_heading level0 col19\" >globalaveragepooling2d_layers</th>        <th class=\"col_heading level0 col20\" >inputlayer_layers</th>        <th class=\"col_heading level0 col21\" >maxpooling2d_layers</th>        <th class=\"col_heading level0 col22\" >zeropadding2d_layers</th>        <th class=\"col_heading level0 col23\" >relu_act</th>        <th class=\"col_heading level0 col24\" >sigmoid_act</th>        <th class=\"col_heading level0 col25\" >softmax_act</th>        <th class=\"col_heading level0 col26\" >loss</th>        <th class=\"col_heading level0 col27\" >optimizer</th>        <th class=\"col_heading level0 col28\" >model_config</th>        <th class=\"col_heading level0 col29\" >username</th>        <th class=\"col_heading level0 col30\" >version</th>    </tr></thead><tbody>\n                <tr>\n                        <th id=\"T_20f73_level0_row0\" class=\"row_heading level0 row0\" >57</th>\n                        <td id=\"T_20f73_row0_col0\" class=\"data row0 col0\" >nan%</td>\n                        <td id=\"T_20f73_row0_col1\" class=\"data row0 col1\" >nan%</td>\n                        <td id=\"T_20f73_row0_col2\" class=\"data row0 col2\" >nan%</td>\n                        <td id=\"T_20f73_row0_col3\" class=\"data row0 col3\" >nan%</td>\n                        <td id=\"T_20f73_row0_col4\" class=\"data row0 col4\" >keras</td>\n                        <td id=\"T_20f73_row0_col5\" class=\"data row0 col5\" >True</td>\n                        <td id=\"T_20f73_row0_col6\" class=\"data row0 col6\" >True</td>\n                        <td id=\"T_20f73_row0_col7\" class=\"data row0 col7\" >Sequential</td>\n                        <td id=\"T_20f73_row0_col8\" class=\"data row0 col8\" >10</td>\n                        <td id=\"T_20f73_row0_col9\" class=\"data row0 col9\" >64899</td>\n                        <td id=\"T_20f73_row0_col10\" class=\"data row0 col10\" >nan</td>\n                        <td id=\"T_20f73_row0_col11\" class=\"data row0 col11\" >nan</td>\n                        <td id=\"T_20f73_row0_col12\" class=\"data row0 col12\" >nan</td>\n                        <td id=\"T_20f73_row0_col13\" class=\"data row0 col13\" >nan</td>\n                        <td id=\"T_20f73_row0_col14\" class=\"data row0 col14\" >nan</td>\n                        <td id=\"T_20f73_row0_col15\" class=\"data row0 col15\" >6.000000</td>\n                        <td id=\"T_20f73_row0_col16\" class=\"data row0 col16\" >1</td>\n                        <td id=\"T_20f73_row0_col17\" class=\"data row0 col17\" >nan</td>\n                        <td id=\"T_20f73_row0_col18\" class=\"data row0 col18\" >1.000000</td>\n                        <td id=\"T_20f73_row0_col19\" class=\"data row0 col19\" >nan</td>\n                        <td id=\"T_20f73_row0_col20\" class=\"data row0 col20\" >nan</td>\n                        <td id=\"T_20f73_row0_col21\" class=\"data row0 col21\" >2.000000</td>\n                        <td id=\"T_20f73_row0_col22\" class=\"data row0 col22\" >nan</td>\n                        <td id=\"T_20f73_row0_col23\" class=\"data row0 col23\" >6</td>\n                        <td id=\"T_20f73_row0_col24\" class=\"data row0 col24\" >nan</td>\n                        <td id=\"T_20f73_row0_col25\" class=\"data row0 col25\" >1.000000</td>\n                        <td id=\"T_20f73_row0_col26\" class=\"data row0 col26\" >str</td>\n                        <td id=\"T_20f73_row0_col27\" class=\"data row0 col27\" >SGD</td>\n                        <td id=\"T_20f73_row0_col28\" class=\"data row0 col28\" >{'name': 'sequential_5', 'laye...</td>\n                        <td id=\"T_20f73_row0_col29\" class=\"data row0 col29\" >eat2153</td>\n                        <td id=\"T_20f73_row0_col30\" class=\"data row0 col30\" >61</td>\n            </tr>\n    </tbody></table>"
     },
     "metadata": {},
     "execution_count": 39
    }
   ],
   "source": [
    "data=ai.get_leaderboard(covid_apiurl, verbose=3)\n",
    "data = data[data.username == 'eat2153']\n",
    "ai.leaderboard.stylize_leaderboard(data)"
   ]
  },
  {
   "cell_type": "code",
   "execution_count": 42,
   "metadata": {},
   "outputs": [
    {
     "output_type": "stream",
     "name": "stdout",
     "text": [
      "Model: \"sequential_5\"\n_________________________________________________________________\nLayer (type)                 Output Shape              Param #   \n=================================================================\nconv2d_38 (Conv2D)           (None, 98, 98, 32)        896       \n_________________________________________________________________\nconv2d_39 (Conv2D)           (None, 98, 98, 32)        1056      \n_________________________________________________________________\nmax_pooling2d_10 (MaxPooling (None, 49, 49, 32)        0         \n_________________________________________________________________\nconv2d_40 (Conv2D)           (None, 47, 47, 32)        9248      \n_________________________________________________________________\nconv2d_41 (Conv2D)           (None, 47, 47, 32)        1056      \n_________________________________________________________________\nmax_pooling2d_11 (MaxPooling (None, 23, 23, 32)        0         \n_________________________________________________________________\nconv2d_42 (Conv2D)           (None, 21, 21, 32)        9248      \n_________________________________________________________________\nconv2d_43 (Conv2D)           (None, 21, 21, 32)        1056      \n_________________________________________________________________\nflatten_5 (Flatten)          (None, 14112)             0         \n_________________________________________________________________\ndense_11 (Dense)             (None, 3)                 42339     \n=================================================================\nTotal params: 64,899\nTrainable params: 64,899\nNon-trainable params: 0\n_________________________________________________________________\n"
     ]
    }
   ],
   "source": [
    "bestmodel = ai.aimsonnx.instantiate_model(covid_apiurl, version = 61) \n",
    "\n",
    "bestmodel.summary()"
   ]
  },
  {
   "source": [
    "## 3. Predicting Covid misinformation on Twitter\n",
    "\n",
    "[Visit the Repository](https://github.com/elliotttrio/advml/tree/master/Homework%203)\n",
    "\n",
    "\n",
    "For my final project for the semester, I explored a dataset of Covid-19 tweets thare are labeled as \"true\" or \"false.\" Using this data, I created predictive models using LSTM and embedding layers. Summary information of the dataset is included below along with my best model. Please vist the project's repo to see my attempt at generating tweet to validate my model."
   ],
   "cell_type": "markdown",
   "metadata": {}
  },
  {
   "cell_type": "code",
   "execution_count": 47,
   "metadata": {},
   "outputs": [],
   "source": [
    "trainingdata=pd.read_csv(\"https://raw.githubusercontent.com/diptamath/covid_fake_news/main/data/Constraint_Train.csv\", usecols = ['tweet','label'])"
   ]
  },
  {
   "cell_type": "code",
   "execution_count": 48,
   "metadata": {},
   "outputs": [
    {
     "output_type": "execute_result",
     "data": {
      "text/plain": [
       "                                               tweet label\n",
       "0  The CDC currently reports 99031 deaths. In gen...  real\n",
       "1  States reported 1121 deaths a small rise from ...  real\n",
       "2  Politically Correct Woman (Almost) Uses Pandem...  fake\n",
       "3  #IndiaFightsCorona: We have 1524 #COVID testin...  real\n",
       "4  Populous states can generate large case counts...  real"
      ],
      "text/html": "<div>\n<style scoped>\n    .dataframe tbody tr th:only-of-type {\n        vertical-align: middle;\n    }\n\n    .dataframe tbody tr th {\n        vertical-align: top;\n    }\n\n    .dataframe thead th {\n        text-align: right;\n    }\n</style>\n<table border=\"1\" class=\"dataframe\">\n  <thead>\n    <tr style=\"text-align: right;\">\n      <th></th>\n      <th>tweet</th>\n      <th>label</th>\n    </tr>\n  </thead>\n  <tbody>\n    <tr>\n      <th>0</th>\n      <td>The CDC currently reports 99031 deaths. In gen...</td>\n      <td>real</td>\n    </tr>\n    <tr>\n      <th>1</th>\n      <td>States reported 1121 deaths a small rise from ...</td>\n      <td>real</td>\n    </tr>\n    <tr>\n      <th>2</th>\n      <td>Politically Correct Woman (Almost) Uses Pandem...</td>\n      <td>fake</td>\n    </tr>\n    <tr>\n      <th>3</th>\n      <td>#IndiaFightsCorona: We have 1524 #COVID testin...</td>\n      <td>real</td>\n    </tr>\n    <tr>\n      <th>4</th>\n      <td>Populous states can generate large case counts...</td>\n      <td>real</td>\n    </tr>\n  </tbody>\n</table>\n</div>"
     },
     "metadata": {},
     "execution_count": 48
    }
   ],
   "source": [
    "trainingdata.head()"
   ]
  },
  {
   "cell_type": "code",
   "execution_count": 49,
   "metadata": {},
   "outputs": [
    {
     "output_type": "execute_result",
     "data": {
      "text/plain": [
       "                                                  tweet label\n",
       "122   An important part of our work is data collecti...  real\n",
       "4206  RT @ICMRDELHI: India has crossed the milestone...  real\n",
       "3005  Schools could be forced to close partially or ...  real\n",
       "5633  Scaling up testing is great news. But if we ca...  real\n",
       "5305  The reported death toll was 1726 bringing our ...  real\n",
       "2971  Did you know September is Sepsis Awareness Mon...  real\n",
       "1024  Our combined total of confirmed and probable c...  real\n",
       "6328  This chart looks at per-capita testing rates a...  real\n",
       "27    Just Appendix B gathering all the state orders...  real\n",
       "6054  This week CDC received 15 models to forecast p...  real"
      ],
      "text/html": "<div>\n<style scoped>\n    .dataframe tbody tr th:only-of-type {\n        vertical-align: middle;\n    }\n\n    .dataframe tbody tr th {\n        vertical-align: top;\n    }\n\n    .dataframe thead th {\n        text-align: right;\n    }\n</style>\n<table border=\"1\" class=\"dataframe\">\n  <thead>\n    <tr style=\"text-align: right;\">\n      <th></th>\n      <th>tweet</th>\n      <th>label</th>\n    </tr>\n  </thead>\n  <tbody>\n    <tr>\n      <th>122</th>\n      <td>An important part of our work is data collecti...</td>\n      <td>real</td>\n    </tr>\n    <tr>\n      <th>4206</th>\n      <td>RT @ICMRDELHI: India has crossed the milestone...</td>\n      <td>real</td>\n    </tr>\n    <tr>\n      <th>3005</th>\n      <td>Schools could be forced to close partially or ...</td>\n      <td>real</td>\n    </tr>\n    <tr>\n      <th>5633</th>\n      <td>Scaling up testing is great news. But if we ca...</td>\n      <td>real</td>\n    </tr>\n    <tr>\n      <th>5305</th>\n      <td>The reported death toll was 1726 bringing our ...</td>\n      <td>real</td>\n    </tr>\n    <tr>\n      <th>2971</th>\n      <td>Did you know September is Sepsis Awareness Mon...</td>\n      <td>real</td>\n    </tr>\n    <tr>\n      <th>1024</th>\n      <td>Our combined total of confirmed and probable c...</td>\n      <td>real</td>\n    </tr>\n    <tr>\n      <th>6328</th>\n      <td>This chart looks at per-capita testing rates a...</td>\n      <td>real</td>\n    </tr>\n    <tr>\n      <th>27</th>\n      <td>Just Appendix B gathering all the state orders...</td>\n      <td>real</td>\n    </tr>\n    <tr>\n      <th>6054</th>\n      <td>This week CDC received 15 models to forecast p...</td>\n      <td>real</td>\n    </tr>\n  </tbody>\n</table>\n</div>"
     },
     "metadata": {},
     "execution_count": 49
    }
   ],
   "source": [
    "trainingdata[trainingdata.label == 'real'].sample(n=10)"
   ]
  },
  {
   "cell_type": "code",
   "execution_count": 50,
   "metadata": {},
   "outputs": [
    {
     "output_type": "execute_result",
     "data": {
      "text/plain": [
       "                                                  tweet label\n",
       "4257  The most up to date data in Victoria for 2020 ...  fake\n",
       "6235  Jennifer Lopez Reveals That Since Sheltering-i...  fake\n",
       "3183    Says a pandemic occurs exactly every 100 years.  fake\n",
       "4223    Tamil Nadu Govt ordered to re-open TASMAC bars.  fake\n",
       "4713  A photo claiming that SARS-CoV-2 is an old vir...  fake\n",
       "108   This is an image of a suspected coronavirus va...  fake\n",
       "4051  @IvankaTrump Chinese Virologist Dr. #LiMengYan...  fake\n",
       "851   Trump said at his press briefing that anyone w...  fake\n",
       "2986  1. 2Brilliant business model\\nMore than masks,...  fake\n",
       "2087  \"It's NOT a SECOND WAVE of COVID-19 coming soo...  fake"
      ],
      "text/html": "<div>\n<style scoped>\n    .dataframe tbody tr th:only-of-type {\n        vertical-align: middle;\n    }\n\n    .dataframe tbody tr th {\n        vertical-align: top;\n    }\n\n    .dataframe thead th {\n        text-align: right;\n    }\n</style>\n<table border=\"1\" class=\"dataframe\">\n  <thead>\n    <tr style=\"text-align: right;\">\n      <th></th>\n      <th>tweet</th>\n      <th>label</th>\n    </tr>\n  </thead>\n  <tbody>\n    <tr>\n      <th>4257</th>\n      <td>The most up to date data in Victoria for 2020 ...</td>\n      <td>fake</td>\n    </tr>\n    <tr>\n      <th>6235</th>\n      <td>Jennifer Lopez Reveals That Since Sheltering-i...</td>\n      <td>fake</td>\n    </tr>\n    <tr>\n      <th>3183</th>\n      <td>Says a pandemic occurs exactly every 100 years.</td>\n      <td>fake</td>\n    </tr>\n    <tr>\n      <th>4223</th>\n      <td>Tamil Nadu Govt ordered to re-open TASMAC bars.</td>\n      <td>fake</td>\n    </tr>\n    <tr>\n      <th>4713</th>\n      <td>A photo claiming that SARS-CoV-2 is an old vir...</td>\n      <td>fake</td>\n    </tr>\n    <tr>\n      <th>108</th>\n      <td>This is an image of a suspected coronavirus va...</td>\n      <td>fake</td>\n    </tr>\n    <tr>\n      <th>4051</th>\n      <td>@IvankaTrump Chinese Virologist Dr. #LiMengYan...</td>\n      <td>fake</td>\n    </tr>\n    <tr>\n      <th>851</th>\n      <td>Trump said at his press briefing that anyone w...</td>\n      <td>fake</td>\n    </tr>\n    <tr>\n      <th>2986</th>\n      <td>1. 2Brilliant business model\\nMore than masks,...</td>\n      <td>fake</td>\n    </tr>\n    <tr>\n      <th>2087</th>\n      <td>\"It's NOT a SECOND WAVE of COVID-19 coming soo...</td>\n      <td>fake</td>\n    </tr>\n  </tbody>\n</table>\n</div>"
     },
     "metadata": {},
     "execution_count": 50
    }
   ],
   "source": [
    "trainingdata[trainingdata.label == 'fake'].sample(n=10)\n"
   ]
  },
  {
   "source": [
    "### My Best Model"
   ],
   "cell_type": "markdown",
   "metadata": {}
  },
  {
   "cell_type": "code",
   "execution_count": 51,
   "metadata": {},
   "outputs": [
    {
     "output_type": "stream",
     "name": "stdout",
     "text": [
      "AI Model Share login credentials set successfully.\nAWS credentials set successfully.\n"
     ]
    }
   ],
   "source": [
    "tweets_apiurl = \"https://wvr23l2z9i.execute-api.us-east-1.amazonaws.com/prod/m\"\n",
    "\n",
    "set_credentials(apiurl= tweets_apiurl,credential_file=\"credentials_updated.txt\", type=\"submit_model\", manual=False)"
   ]
  },
  {
   "cell_type": "code",
   "execution_count": 54,
   "metadata": {},
   "outputs": [
    {
     "output_type": "execute_result",
     "data": {
      "text/plain": [
       "<pandas.io.formats.style.Styler at 0x1d000f2e280>"
      ],
      "text/html": "<style  type=\"text/css\" >\n#T_6f271_row0_col0{\n            text-align:  center;\n            width:  10em;\n             height:  80%;\n            background:  linear-gradient(90deg,#f5f8d6 93.4%, transparent 93.4%);\n            color:  #251e1b;\n            font-size:  12px;\n        }#T_6f271_row0_col1{\n            text-align:  center;\n            width:  10em;\n             height:  80%;\n            background:  linear-gradient(90deg,#c778c8 93.4%, transparent 93.4%);\n            color:  #251e1b;\n            font-size:  12px;\n        }#T_6f271_row0_col2{\n            text-align:  center;\n            width:  10em;\n             height:  80%;\n            background:  linear-gradient(90deg,#ff4971 93.3%, transparent 93.3%);\n            color:  #251e1b;\n            font-size:  12px;\n        }#T_6f271_row0_col3{\n            text-align:  center;\n            width:  10em;\n             height:  80%;\n            background:  linear-gradient(90deg,#aadbaa 93.4%, transparent 93.4%);\n            color:  #251e1b;\n            font-size:  12px;\n        }#T_6f271_row0_col4,#T_6f271_row0_col5,#T_6f271_row0_col6,#T_6f271_row0_col7,#T_6f271_row0_col8,#T_6f271_row0_col9,#T_6f271_row0_col10,#T_6f271_row0_col11,#T_6f271_row0_col12,#T_6f271_row0_col13,#T_6f271_row0_col14,#T_6f271_row0_col15,#T_6f271_row0_col16,#T_6f271_row0_col17,#T_6f271_row0_col18,#T_6f271_row0_col19,#T_6f271_row0_col20,#T_6f271_row0_col21,#T_6f271_row0_col22,#T_6f271_row0_col23,#T_6f271_row0_col24,#T_6f271_row0_col25,#T_6f271_row0_col26,#T_6f271_row0_col27{\n            text-align:  center;\n        }</style><table id=\"T_6f271_\" ><thead>    <tr>        <th class=\"blank level0\" ></th>        <th class=\"col_heading level0 col0\" >accuracy</th>        <th class=\"col_heading level0 col1\" >f1_score</th>        <th class=\"col_heading level0 col2\" >precision</th>        <th class=\"col_heading level0 col3\" >recall</th>        <th class=\"col_heading level0 col4\" >ml_framework</th>        <th class=\"col_heading level0 col5\" >transfer_learning</th>        <th class=\"col_heading level0 col6\" >deep_learning</th>        <th class=\"col_heading level0 col7\" >model_type</th>        <th class=\"col_heading level0 col8\" >depth</th>        <th class=\"col_heading level0 col9\" >num_params</th>        <th class=\"col_heading level0 col10\" >bidirectional_layers</th>        <th class=\"col_heading level0 col11\" >conv1d_layers</th>        <th class=\"col_heading level0 col12\" >dense_layers</th>        <th class=\"col_heading level0 col13\" >embedding_layers</th>        <th class=\"col_heading level0 col14\" >flatten_layers</th>        <th class=\"col_heading level0 col15\" >globalmaxpooling1d_layers</th>        <th class=\"col_heading level0 col16\" >lstm_layers</th>        <th class=\"col_heading level0 col17\" >maxpooling1d_layers</th>        <th class=\"col_heading level0 col18\" >simplernn_layers</th>        <th class=\"col_heading level0 col19\" >relu_act</th>        <th class=\"col_heading level0 col20\" >sigmoid_act</th>        <th class=\"col_heading level0 col21\" >softmax_act</th>        <th class=\"col_heading level0 col22\" >tanh_act</th>        <th class=\"col_heading level0 col23\" >loss</th>        <th class=\"col_heading level0 col24\" >optimizer</th>        <th class=\"col_heading level0 col25\" >model_config</th>        <th class=\"col_heading level0 col26\" >username</th>        <th class=\"col_heading level0 col27\" >version</th>    </tr></thead><tbody>\n                <tr>\n                        <th id=\"T_6f271_level0_row0\" class=\"row_heading level0 row0\" >39</th>\n                        <td id=\"T_6f271_row0_col0\" class=\"data row0 col0\" >93.36%</td>\n                        <td id=\"T_6f271_row0_col1\" class=\"data row0 col1\" >93.36%</td>\n                        <td id=\"T_6f271_row0_col2\" class=\"data row0 col2\" >93.34%</td>\n                        <td id=\"T_6f271_row0_col3\" class=\"data row0 col3\" >93.43%</td>\n                        <td id=\"T_6f271_row0_col4\" class=\"data row0 col4\" >keras</td>\n                        <td id=\"T_6f271_row0_col5\" class=\"data row0 col5\" >False</td>\n                        <td id=\"T_6f271_row0_col6\" class=\"data row0 col6\" >True</td>\n                        <td id=\"T_6f271_row0_col7\" class=\"data row0 col7\" >Sequential</td>\n                        <td id=\"T_6f271_row0_col8\" class=\"data row0 col8\" >6</td>\n                        <td id=\"T_6f271_row0_col9\" class=\"data row0 col9\" >361442</td>\n                        <td id=\"T_6f271_row0_col10\" class=\"data row0 col10\" >nan</td>\n                        <td id=\"T_6f271_row0_col11\" class=\"data row0 col11\" >1.000000</td>\n                        <td id=\"T_6f271_row0_col12\" class=\"data row0 col12\" >1</td>\n                        <td id=\"T_6f271_row0_col13\" class=\"data row0 col13\" >1</td>\n                        <td id=\"T_6f271_row0_col14\" class=\"data row0 col14\" >nan</td>\n                        <td id=\"T_6f271_row0_col15\" class=\"data row0 col15\" >1.000000</td>\n                        <td id=\"T_6f271_row0_col16\" class=\"data row0 col16\" >2.000000</td>\n                        <td id=\"T_6f271_row0_col17\" class=\"data row0 col17\" >nan</td>\n                        <td id=\"T_6f271_row0_col18\" class=\"data row0 col18\" >nan</td>\n                        <td id=\"T_6f271_row0_col19\" class=\"data row0 col19\" >1.000000</td>\n                        <td id=\"T_6f271_row0_col20\" class=\"data row0 col20\" >nan</td>\n                        <td id=\"T_6f271_row0_col21\" class=\"data row0 col21\" >1.000000</td>\n                        <td id=\"T_6f271_row0_col22\" class=\"data row0 col22\" >2.000000</td>\n                        <td id=\"T_6f271_row0_col23\" class=\"data row0 col23\" >str</td>\n                        <td id=\"T_6f271_row0_col24\" class=\"data row0 col24\" >RMSprop</td>\n                        <td id=\"T_6f271_row0_col25\" class=\"data row0 col25\" >{'name': 'sequential', 'layers...</td>\n                        <td id=\"T_6f271_row0_col26\" class=\"data row0 col26\" >eat2153</td>\n                        <td id=\"T_6f271_row0_col27\" class=\"data row0 col27\" >87</td>\n            </tr>\n    </tbody></table>"
     },
     "metadata": {},
     "execution_count": 54
    }
   ],
   "source": [
    "data=ai.get_leaderboard(tweets_apiurl, verbose=3)\n",
    "data = data[data.username == 'eat2153']\n",
    "ai.leaderboard.stylize_leaderboard(data.head(1))"
   ]
  },
  {
   "cell_type": "code",
   "execution_count": 56,
   "metadata": {},
   "outputs": [
    {
     "output_type": "stream",
     "name": "stdout",
     "text": [
      "Model: \"sequential\"\n_________________________________________________________________\nLayer (type)                 Output Shape              Param #   \n=================================================================\nembedding (Embedding)        (None, 140, 32)           320000    \n_________________________________________________________________\nlstm (LSTM)                  (None, 140, 64)           24832     \n_________________________________________________________________\nlstm_1 (LSTM)                (None, 140, 32)           12416     \n_________________________________________________________________\nconv1d (Conv1D)              (None, 137, 32)           4128      \n_________________________________________________________________\nglobal_max_pooling1d (Global (None, 32)                0         \n_________________________________________________________________\ndense (Dense)                (None, 2)                 66        \n=================================================================\nTotal params: 361,442\nTrainable params: 361,442\nNon-trainable params: 0\n_________________________________________________________________\n"
     ]
    }
   ],
   "source": [
    "bestmodel = ai.aimsonnx.instantiate_model(tweets_apiurl, version = 87) \n",
    "\n",
    "bestmodel.summary()"
   ]
  },
  {
   "source": [
    "### **Works Cited**\n",
    "\n",
    "Shahi, Gautam Kishore, Anne Dirkson, and Tim A. Majchrzak. \"An exploratory study of covid-19 misinformation on twitter.\" Online Social Networks and Media 22 (2021): 100104.\n",
    "\n",
    "M.E.H. Chowdhury, T. Rahman, A. Khandakar, R. Mazhar, M.A. Kadir, Z.B. Mahbub, K.R. Islam, M.S. Khan, A. Iqbal, N. Al-Emadi, M.B.I. Reaz, “Can AI help in screening Viral and COVID-19 pneumonia?” arXiv preprint, 29 March 2020, https://arxiv.org/abs/2003.13145."
   ],
   "cell_type": "markdown",
   "metadata": {}
  }
 ]
}